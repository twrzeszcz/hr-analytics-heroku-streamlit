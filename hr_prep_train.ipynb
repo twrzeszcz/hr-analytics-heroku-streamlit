{
 "cells": [
  {
   "cell_type": "markdown",
   "metadata": {},
   "source": [
    "## HR prediction project"
   ]
  },
  {
   "cell_type": "markdown",
   "metadata": {},
   "source": [
    "In this project we will try to predict is someone is looking for a job change based on some features. This is a classification problem and a dataset was taken from [kaggle](https://www.kaggle.com/arashnic/hr-analytics-job-change-of-data-scientists). There is also an app [Streamlit]() for this project were one can perform some analysis and inference on the test set."
   ]
  },
  {
   "cell_type": "code",
   "execution_count": 112,
   "metadata": {},
   "outputs": [],
   "source": [
    "import pandas as pd\n",
    "import numpy as np\n",
    "import pickle\n",
    "import seaborn as sns\n",
    "import matplotlib.pyplot as plt \n",
    "from sklearn.preprocessing import RobustScaler, OneHotEncoder, OrdinalEncoder, FunctionTransformer, KBinsDiscretizer\n",
    "from sklearn.compose import ColumnTransformer\n",
    "from sklearn.model_selection import train_test_split, RandomizedSearchCV, GridSearchCV, cross_val_score\n",
    "from sklearn.linear_model import LogisticRegression\n",
    "from sklearn.ensemble import RandomForestClassifier, ExtraTreesClassifier, VotingClassifier\n",
    "from sklearn.svm import SVC\n",
    "from sklearn.neighbors import KNeighborsClassifier\n",
    "from sklearn.naive_bayes import GaussianNB\n",
    "from xgboost import XGBClassifier\n",
    "from catboost import CatBoostClassifier\n",
    "from sklearn.metrics import classification_report, plot_confusion_matrix, plot_roc_curve, roc_auc_score\n",
    "from imblearn.combine import SMOTEENN\n",
    "from lightgbm import LGBMClassifier\n",
    "from sklearn.base import BaseEstimator, TransformerMixin\n",
    "from scipy.stats import uniform\n",
    "from sklearn.cluster import KMeans\n",
    "from sklearn.metrics import silhouette_score\n",
    "from sklearn.pipeline import Pipeline\n",
    "from scipy.stats import skew\n",
    "from scipy.special import boxcox1p\n",
    "from pycaret.classification import *\n",
    "\n",
    "%matplotlib inline"
   ]
  },
  {
   "cell_type": "markdown",
   "metadata": {},
   "source": [
    "Lets first load the data and look at the general info."
   ]
  },
  {
   "cell_type": "code",
   "execution_count": 113,
   "metadata": {},
   "outputs": [],
   "source": [
    "df = pd.read_csv('aug_train.csv')"
   ]
  },
  {
   "cell_type": "code",
   "execution_count": 114,
   "metadata": {},
   "outputs": [
    {
     "data": {
      "text/html": [
       "<div>\n",
       "<style scoped>\n",
       "    .dataframe tbody tr th:only-of-type {\n",
       "        vertical-align: middle;\n",
       "    }\n",
       "\n",
       "    .dataframe tbody tr th {\n",
       "        vertical-align: top;\n",
       "    }\n",
       "\n",
       "    .dataframe thead th {\n",
       "        text-align: right;\n",
       "    }\n",
       "</style>\n",
       "<table border=\"1\" class=\"dataframe\">\n",
       "  <thead>\n",
       "    <tr style=\"text-align: right;\">\n",
       "      <th></th>\n",
       "      <th>enrollee_id</th>\n",
       "      <th>city</th>\n",
       "      <th>city_development_index</th>\n",
       "      <th>gender</th>\n",
       "      <th>relevent_experience</th>\n",
       "      <th>enrolled_university</th>\n",
       "      <th>education_level</th>\n",
       "      <th>major_discipline</th>\n",
       "      <th>experience</th>\n",
       "      <th>company_size</th>\n",
       "      <th>company_type</th>\n",
       "      <th>last_new_job</th>\n",
       "      <th>training_hours</th>\n",
       "      <th>target</th>\n",
       "    </tr>\n",
       "  </thead>\n",
       "  <tbody>\n",
       "    <tr>\n",
       "      <th>0</th>\n",
       "      <td>8949</td>\n",
       "      <td>city_103</td>\n",
       "      <td>0.920</td>\n",
       "      <td>Male</td>\n",
       "      <td>Has relevent experience</td>\n",
       "      <td>no_enrollment</td>\n",
       "      <td>Graduate</td>\n",
       "      <td>STEM</td>\n",
       "      <td>&gt;20</td>\n",
       "      <td>NaN</td>\n",
       "      <td>NaN</td>\n",
       "      <td>1</td>\n",
       "      <td>36</td>\n",
       "      <td>1.0</td>\n",
       "    </tr>\n",
       "    <tr>\n",
       "      <th>1</th>\n",
       "      <td>29725</td>\n",
       "      <td>city_40</td>\n",
       "      <td>0.776</td>\n",
       "      <td>Male</td>\n",
       "      <td>No relevent experience</td>\n",
       "      <td>no_enrollment</td>\n",
       "      <td>Graduate</td>\n",
       "      <td>STEM</td>\n",
       "      <td>15</td>\n",
       "      <td>50-99</td>\n",
       "      <td>Pvt Ltd</td>\n",
       "      <td>&gt;4</td>\n",
       "      <td>47</td>\n",
       "      <td>0.0</td>\n",
       "    </tr>\n",
       "    <tr>\n",
       "      <th>2</th>\n",
       "      <td>11561</td>\n",
       "      <td>city_21</td>\n",
       "      <td>0.624</td>\n",
       "      <td>NaN</td>\n",
       "      <td>No relevent experience</td>\n",
       "      <td>Full time course</td>\n",
       "      <td>Graduate</td>\n",
       "      <td>STEM</td>\n",
       "      <td>5</td>\n",
       "      <td>NaN</td>\n",
       "      <td>NaN</td>\n",
       "      <td>never</td>\n",
       "      <td>83</td>\n",
       "      <td>0.0</td>\n",
       "    </tr>\n",
       "    <tr>\n",
       "      <th>3</th>\n",
       "      <td>33241</td>\n",
       "      <td>city_115</td>\n",
       "      <td>0.789</td>\n",
       "      <td>NaN</td>\n",
       "      <td>No relevent experience</td>\n",
       "      <td>NaN</td>\n",
       "      <td>Graduate</td>\n",
       "      <td>Business Degree</td>\n",
       "      <td>&lt;1</td>\n",
       "      <td>NaN</td>\n",
       "      <td>Pvt Ltd</td>\n",
       "      <td>never</td>\n",
       "      <td>52</td>\n",
       "      <td>1.0</td>\n",
       "    </tr>\n",
       "    <tr>\n",
       "      <th>4</th>\n",
       "      <td>666</td>\n",
       "      <td>city_162</td>\n",
       "      <td>0.767</td>\n",
       "      <td>Male</td>\n",
       "      <td>Has relevent experience</td>\n",
       "      <td>no_enrollment</td>\n",
       "      <td>Masters</td>\n",
       "      <td>STEM</td>\n",
       "      <td>&gt;20</td>\n",
       "      <td>50-99</td>\n",
       "      <td>Funded Startup</td>\n",
       "      <td>4</td>\n",
       "      <td>8</td>\n",
       "      <td>0.0</td>\n",
       "    </tr>\n",
       "  </tbody>\n",
       "</table>\n",
       "</div>"
      ],
      "text/plain": [
       "   enrollee_id      city  city_development_index gender  \\\n",
       "0         8949  city_103                   0.920   Male   \n",
       "1        29725   city_40                   0.776   Male   \n",
       "2        11561   city_21                   0.624    NaN   \n",
       "3        33241  city_115                   0.789    NaN   \n",
       "4          666  city_162                   0.767   Male   \n",
       "\n",
       "       relevent_experience enrolled_university education_level  \\\n",
       "0  Has relevent experience       no_enrollment        Graduate   \n",
       "1   No relevent experience       no_enrollment        Graduate   \n",
       "2   No relevent experience    Full time course        Graduate   \n",
       "3   No relevent experience                 NaN        Graduate   \n",
       "4  Has relevent experience       no_enrollment         Masters   \n",
       "\n",
       "  major_discipline experience company_size    company_type last_new_job  \\\n",
       "0             STEM        >20          NaN             NaN            1   \n",
       "1             STEM         15        50-99         Pvt Ltd           >4   \n",
       "2             STEM          5          NaN             NaN        never   \n",
       "3  Business Degree         <1          NaN         Pvt Ltd        never   \n",
       "4             STEM        >20        50-99  Funded Startup            4   \n",
       "\n",
       "   training_hours  target  \n",
       "0              36     1.0  \n",
       "1              47     0.0  \n",
       "2              83     0.0  \n",
       "3              52     1.0  \n",
       "4               8     0.0  "
      ]
     },
     "execution_count": 114,
     "metadata": {},
     "output_type": "execute_result"
    }
   ],
   "source": [
    "df.head()"
   ]
  },
  {
   "cell_type": "code",
   "execution_count": 115,
   "metadata": {},
   "outputs": [
    {
     "name": "stdout",
     "output_type": "stream",
     "text": [
      "<class 'pandas.core.frame.DataFrame'>\n",
      "RangeIndex: 19158 entries, 0 to 19157\n",
      "Data columns (total 14 columns):\n",
      " #   Column                  Non-Null Count  Dtype  \n",
      "---  ------                  --------------  -----  \n",
      " 0   enrollee_id             19158 non-null  int64  \n",
      " 1   city                    19158 non-null  object \n",
      " 2   city_development_index  19158 non-null  float64\n",
      " 3   gender                  14650 non-null  object \n",
      " 4   relevent_experience     19158 non-null  object \n",
      " 5   enrolled_university     18772 non-null  object \n",
      " 6   education_level         18698 non-null  object \n",
      " 7   major_discipline        16345 non-null  object \n",
      " 8   experience              19093 non-null  object \n",
      " 9   company_size            13220 non-null  object \n",
      " 10  company_type            13018 non-null  object \n",
      " 11  last_new_job            18735 non-null  object \n",
      " 12  training_hours          19158 non-null  int64  \n",
      " 13  target                  19158 non-null  float64\n",
      "dtypes: float64(2), int64(2), object(10)\n",
      "memory usage: 2.0+ MB\n"
     ]
    }
   ],
   "source": [
    "df.info()"
   ]
  },
  {
   "cell_type": "code",
   "execution_count": 116,
   "metadata": {},
   "outputs": [
    {
     "data": {
      "text/plain": [
       "enrollee_id               19158\n",
       "city                        123\n",
       "city_development_index       93\n",
       "gender                        3\n",
       "relevent_experience           2\n",
       "enrolled_university           3\n",
       "education_level               5\n",
       "major_discipline              6\n",
       "experience                   22\n",
       "company_size                  8\n",
       "company_type                  6\n",
       "last_new_job                  6\n",
       "training_hours              241\n",
       "target                        2\n",
       "dtype: int64"
      ]
     },
     "execution_count": 116,
     "metadata": {},
     "output_type": "execute_result"
    }
   ],
   "source": [
    "df.nunique()"
   ]
  },
  {
   "cell_type": "code",
   "execution_count": 117,
   "metadata": {},
   "outputs": [
    {
     "data": {
      "text/plain": [
       "0.0    75.065247\n",
       "1.0    24.934753\n",
       "Name: target, dtype: float64"
      ]
     },
     "execution_count": 117,
     "metadata": {},
     "output_type": "execute_result"
    },
    {
     "data": {
      "image/png": "[encoded data removed]",
      "text/plain": [
       "<Figure size 432x288 with 1 Axes>"
      ]
     },
     "metadata": {
      "needs_background": "light"
     },
     "output_type": "display_data"
    }
   ],
   "source": [
    "sns.countplot(data=df, x=df['target'])\n",
    "df['target'].value_counts() * 100 / len(df)"
   ]
  },
  {
   "cell_type": "markdown",
   "metadata": {},
   "source": [
    "It looks like the dataset is imbalanced. Now lets see how many missing values there are and if we have any duplicated entries."
   ]
  },
  {
   "cell_type": "code",
   "execution_count": 118,
   "metadata": {},
   "outputs": [
    {
     "data": {
      "text/plain": [
       "enrollee_id                  0\n",
       "city                         0\n",
       "city_development_index       0\n",
       "gender                    4508\n",
       "relevent_experience          0\n",
       "enrolled_university        386\n",
       "education_level            460\n",
       "major_discipline          2813\n",
       "experience                  65\n",
       "company_size              5938\n",
       "company_type              6140\n",
       "last_new_job               423\n",
       "training_hours               0\n",
       "target                       0\n",
       "dtype: int64"
      ]
     },
     "execution_count": 118,
     "metadata": {},
     "output_type": "execute_result"
    }
   ],
   "source": [
    "df.isna().sum()"
   ]
  },
  {
   "cell_type": "code",
   "execution_count": 119,
   "metadata": {},
   "outputs": [
    {
     "data": {
      "text/plain": [
       "49"
      ]
     },
     "execution_count": 119,
     "metadata": {},
     "output_type": "execute_result"
    }
   ],
   "source": [
    "df.duplicated(subset=df.columns[1:]).sum()"
   ]
  },
  {
   "cell_type": "code",
   "execution_count": 120,
   "metadata": {},
   "outputs": [],
   "source": [
    "df.drop_duplicates(subset=df.columns[1:], inplace=True)"
   ]
  },
  {
   "cell_type": "code",
   "execution_count": 121,
   "metadata": {},
   "outputs": [
    {
     "data": {
      "text/plain": [
       "0"
      ]
     },
     "execution_count": 121,
     "metadata": {},
     "output_type": "execute_result"
    }
   ],
   "source": [
    "df.duplicated().sum()"
   ]
  },
  {
   "cell_type": "markdown",
   "metadata": {},
   "source": [
    "There are a lot of missing values so we have to find the best way to impute them. Because we only have missing values for the categorical features a reasonable way to fill them is to create a new category *Not specified* for each of them. This is much better than the imputation with a most frequent value cause there can be a lot of categories for a single feature which are close to each other in the number of occurences. Imputation is done in the *custom_transformer* so that it can be later reuse for transformation on the test data."
   ]
  },
  {
   "cell_type": "code",
   "execution_count": 122,
   "metadata": {},
   "outputs": [
    {
     "data": {
      "image/png": "[encoded data removed]",
      "text/plain": [
       "<Figure size 432x288 with 1 Axes>"
      ]
     },
     "metadata": {
      "needs_background": "light"
     },
     "output_type": "display_data"
    },
    {
     "data": {
      "image/png": "[encoded data removed]",
      "text/plain": [
       "<Figure size 432x288 with 1 Axes>"
      ]
     },
     "metadata": {
      "needs_background": "light"
     },
     "output_type": "display_data"
    },
    {
     "data": {
      "image/png": "[encoded data removed]",
      "text/plain": [
       "<Figure size 432x288 with 1 Axes>"
      ]
     },
     "metadata": {
      "needs_background": "light"
     },
     "output_type": "display_data"
    },
    {
     "data": {
      "image/png": "[encoded data removed]",
      "text/plain": [
       "<Figure size 432x288 with 1 Axes>"
      ]
     },
     "metadata": {
      "needs_background": "light"
     },
     "output_type": "display_data"
    },
    {
     "data": {
      "image/png": "[encoded data removed]",
      "text/plain": [
       "<Figure size 432x288 with 1 Axes>"
      ]
     },
     "metadata": {
      "needs_background": "light"
     },
     "output_type": "display_data"
    },
    {
     "data": {
      "image/png": "[encoded data removed]",
      "text/plain": [
       "<Figure size 432x288 with 1 Axes>"
      ]
     },
     "metadata": {
      "needs_background": "light"
     },
     "output_type": "display_data"
    },
    {
     "data": {
      "image/png": "[encoded data removed]",
      "text/plain": [
       "<Figure size 432x288 with 1 Axes>"
      ]
     },
     "metadata": {
      "needs_background": "light"
     },
     "output_type": "display_data"
    },
    {
     "data": {
      "image/png": "[encoded data removed]",
      "text/plain": [
       "<Figure size 432x288 with 1 Axes>"
      ]
     },
     "metadata": {
      "needs_background": "light"
     },
     "output_type": "display_data"
    },
    {
     "data": {
      "image/png": "[encoded data removed]",
      "text/plain": [
       "<Figure size 432x288 with 1 Axes>"
      ]
     },
     "metadata": {
      "needs_background": "light"
     },
     "output_type": "display_data"
    },
    {
     "data": {
      "image/png": "[encoded data removed]",
      "text/plain": [
       "<Figure size 432x288 with 1 Axes>"
      ]
     },
     "metadata": {
      "needs_background": "light"
     },
     "output_type": "display_data"
    }
   ],
   "source": [
    "for col in df.select_dtypes('object'):\n",
    "    sns.countplot(data=df, y=df[col])\n",
    "    plt.show()"
   ]
  },
  {
   "cell_type": "markdown",
   "metadata": {},
   "source": [
    "Next we have to look at the distributions for the numerical features."
   ]
  },
  {
   "cell_type": "code",
   "execution_count": 123,
   "metadata": {},
   "outputs": [
    {
     "data": {
      "image/png": "[encoded data removed]",
      "text/plain": [
       "<Figure size 360x360 with 1 Axes>"
      ]
     },
     "metadata": {
      "needs_background": "light"
     },
     "output_type": "display_data"
    },
    {
     "data": {
      "image/png": "[encoded data removed]",
      "text/plain": [
       "<Figure size 360x360 with 1 Axes>"
      ]
     },
     "metadata": {
      "needs_background": "light"
     },
     "output_type": "display_data"
    },
    {
     "data": {
      "image/png": "[encoded data removed]",
      "text/plain": [
       "<Figure size 360x360 with 1 Axes>"
      ]
     },
     "metadata": {
      "needs_background": "light"
     },
     "output_type": "display_data"
    }
   ],
   "source": [
    "for col in df.describe().columns[1:]:\n",
    "    sns.displot(df[col], kde=True)"
   ]
  },
  {
   "cell_type": "code",
   "execution_count": 124,
   "metadata": {},
   "outputs": [
    {
     "data": {
      "text/plain": [
       "<matplotlib.axes._subplots.AxesSubplot at 0x1391d8cbb20>"
      ]
     },
     "execution_count": 124,
     "metadata": {},
     "output_type": "execute_result"
    },
    {
     "data": {
      "image/png": "[encoded data removed]",
      "text/plain": [
       "<Figure size 432x288 with 2 Axes>"
      ]
     },
     "metadata": {
      "needs_background": "light"
     },
     "output_type": "display_data"
    }
   ],
   "source": [
    "sns.heatmap(df[df.describe().columns[1:]].corr(), annot=True)"
   ]
  },
  {
   "cell_type": "markdown",
   "metadata": {},
   "source": [
    "From the above distributions we can see that the *training_hours* feature is highly skewed and this will be a problem for some models like Logistic Regression. To solve this we can calculate the skewness of each numerical feature and based on some specified threshold apply the *boxcox* transformation which is similar to the *log* function. This way we can transform the skewed distribution so that it is more gaussian. This is done in the *skewness_remover* transformer."
   ]
  },
  {
   "cell_type": "code",
   "execution_count": 125,
   "metadata": {},
   "outputs": [],
   "source": [
    "class custom_transformer(BaseEstimator, TransformerMixin):\n",
    "    def __init__(self):\n",
    "        pass\n",
    "    def fit(self, X):\n",
    "        X_new = X.copy()\n",
    "        self.cols = X_new.isna().sum()[X_new.isna().sum() != 0].index\n",
    "        \n",
    "        return self\n",
    "        \n",
    "    def transform(self, X):\n",
    "        X_new = X.copy()\n",
    "        X_new.drop('enrollee_id', axis=1, inplace=True)\n",
    "        for col in self.cols:\n",
    "            X_new.loc[X_new[col].isna(), col] = 'Not specified'\n",
    "        \n",
    "        return X_new"
   ]
  },
  {
   "cell_type": "code",
   "execution_count": 126,
   "metadata": {},
   "outputs": [],
   "source": [
    "class skewness_remover(BaseEstimator, TransformerMixin):\n",
    "    def __init__(self):\n",
    "        pass\n",
    "    def fit(self, X):\n",
    "        X_new = X.copy()\n",
    "        self.skewness = X_new[X_new.describe().columns].apply(lambda x: skew(x.dropna())).sort_values(ascending=False)\n",
    "        self.skewness = self.skewness[self.skewness > 0.75]\n",
    "        \n",
    "        return self\n",
    "        \n",
    "    def transform(self, X):\n",
    "        X_new = X.copy()\n",
    "        for col in self.skewness.index:\n",
    "            X_new[col] = boxcox1p(X_new[col], 0.0)\n",
    "        \n",
    "        return X_new"
   ]
  },
  {
   "cell_type": "code",
   "execution_count": 127,
   "metadata": {},
   "outputs": [],
   "source": [
    "prep_pipeline_full = Pipeline([\n",
    "    ('skewness', skewness_remover()),\n",
    "    ('custom_transformer', custom_transformer())\n",
    "])"
   ]
  },
  {
   "cell_type": "markdown",
   "metadata": {},
   "source": [
    "For training we will use here a *PyCaret* library which is very good for fast prototyping and in general reduces the amonut of code which one have to write with sklearn."
   ]
  },
  {
   "cell_type": "code",
   "execution_count": 128,
   "metadata": {},
   "outputs": [],
   "source": [
    "to_transform = df.drop('target', axis=1)\n",
    "df_caret = prep_pipeline_full.fit_transform(to_transform)\n",
    "df_caret['target'] = df['target'].copy()"
   ]
  },
  {
   "cell_type": "code",
   "execution_count": 129,
   "metadata": {},
   "outputs": [],
   "source": [
    "pickle.dump(prep_pipeline_full, open('prep_pipe.pkl', 'wb'))"
   ]
  },
  {
   "cell_type": "markdown",
   "metadata": {},
   "source": [
    "After data preprocessing with custom transformers we have to specify the *setup* function which will do additional transformations like normalization of the numerical features and data splitting. We also include the removal features which are highly correlated with each other. Even tough we have only 12 featuers in the raw data, after applying one-hot encoding their number grow to almost 200. This is mainly due to the *city* feature which has 1234 categories. I was trying to remove it or create a new feature which only includes information about the most important categories but at the end score was a little bit lower than with all categories. Some of these categories are only removed through the *remove_multicollinearity* option. Imbalance of the data can be solved with the *SMOTE* method which can be used through the *fix_imbalance* parameter. It is an oversampling technique of minority class so that the resulting dataset is balanced. One has to keep in mind that it is not applied to the test data and only to the train set."
   ]
  },
  {
   "cell_type": "code",
   "execution_count": 137,
   "metadata": {},
   "outputs": [
    {
     "data": {
      "text/html": [
       "<style  type=\"text/css\" >\n",
       "#T_15371317_d844_11eb_9675_d03745a99ca0row29_col1,#T_15371317_d844_11eb_9675_d03745a99ca0row42_col1,#T_15371317_d844_11eb_9675_d03745a99ca0row57_col1{\n",
       "            background-color:  lightgreen;\n",
       "        }</style><table id=\"T_15371317_d844_11eb_9675_d03745a99ca0\" ><thead>    <tr>        <th class=\"blank level0\" ></th>        <th class=\"col_heading level0 col0\" >Description</th>        <th class=\"col_heading level0 col1\" >Value</th>    </tr></thead><tbody>\n",
       "                <tr>\n",
       "                        <th id=\"T_15371317_d844_11eb_9675_d03745a99ca0level0_row0\" class=\"row_heading level0 row0\" >0</th>\n",
       "                        <td id=\"T_15371317_d844_11eb_9675_d03745a99ca0row0_col0\" class=\"data row0 col0\" >session_id</td>\n",
       "                        <td id=\"T_15371317_d844_11eb_9675_d03745a99ca0row0_col1\" class=\"data row0 col1\" >4000</td>\n",
       "            </tr>\n",
       "            <tr>\n",
       "                        <th id=\"T_15371317_d844_11eb_9675_d03745a99ca0level0_row1\" class=\"row_heading level0 row1\" >1</th>\n",
       "                        <td id=\"T_15371317_d844_11eb_9675_d03745a99ca0row1_col0\" class=\"data row1 col0\" >Target</td>\n",
       "                        <td id=\"T_15371317_d844_11eb_9675_d03745a99ca0row1_col1\" class=\"data row1 col1\" >target</td>\n",
       "            </tr>\n",
       "            <tr>\n",
       "                        <th id=\"T_15371317_d844_11eb_9675_d03745a99ca0level0_row2\" class=\"row_heading level0 row2\" >2</th>\n",
       "                        <td id=\"T_15371317_d844_11eb_9675_d03745a99ca0row2_col0\" class=\"data row2 col0\" >Target Type</td>\n",
       "                        <td id=\"T_15371317_d844_11eb_9675_d03745a99ca0row2_col1\" class=\"data row2 col1\" >Binary</td>\n",
       "            </tr>\n",
       "            <tr>\n",
       "                        <th id=\"T_15371317_d844_11eb_9675_d03745a99ca0level0_row3\" class=\"row_heading level0 row3\" >3</th>\n",
       "                        <td id=\"T_15371317_d844_11eb_9675_d03745a99ca0row3_col0\" class=\"data row3 col0\" >Label Encoded</td>\n",
       "                        <td id=\"T_15371317_d844_11eb_9675_d03745a99ca0row3_col1\" class=\"data row3 col1\" >0.0: 0, 1.0: 1</td>\n",
       "            </tr>\n",
       "            <tr>\n",
       "                        <th id=\"T_15371317_d844_11eb_9675_d03745a99ca0level0_row4\" class=\"row_heading level0 row4\" >4</th>\n",
       "                        <td id=\"T_15371317_d844_11eb_9675_d03745a99ca0row4_col0\" class=\"data row4 col0\" >Original Data</td>\n",
       "                        <td id=\"T_15371317_d844_11eb_9675_d03745a99ca0row4_col1\" class=\"data row4 col1\" >(19109, 13)</td>\n",
       "            </tr>\n",
       "            <tr>\n",
       "                        <th id=\"T_15371317_d844_11eb_9675_d03745a99ca0level0_row5\" class=\"row_heading level0 row5\" >5</th>\n",
       "                        <td id=\"T_15371317_d844_11eb_9675_d03745a99ca0row5_col0\" class=\"data row5 col0\" >Missing Values</td>\n",
       "                        <td id=\"T_15371317_d844_11eb_9675_d03745a99ca0row5_col1\" class=\"data row5 col1\" >False</td>\n",
       "            </tr>\n",
       "            <tr>\n",
       "                        <th id=\"T_15371317_d844_11eb_9675_d03745a99ca0level0_row6\" class=\"row_heading level0 row6\" >6</th>\n",
       "                        <td id=\"T_15371317_d844_11eb_9675_d03745a99ca0row6_col0\" class=\"data row6 col0\" >Numeric Features</td>\n",
       "                        <td id=\"T_15371317_d844_11eb_9675_d03745a99ca0row6_col1\" class=\"data row6 col1\" >2</td>\n",
       "            </tr>\n",
       "            <tr>\n",
       "                        <th id=\"T_15371317_d844_11eb_9675_d03745a99ca0level0_row7\" class=\"row_heading level0 row7\" >7</th>\n",
       "                        <td id=\"T_15371317_d844_11eb_9675_d03745a99ca0row7_col0\" class=\"data row7 col0\" >Categorical Features</td>\n",
       "                        <td id=\"T_15371317_d844_11eb_9675_d03745a99ca0row7_col1\" class=\"data row7 col1\" >10</td>\n",
       "            </tr>\n",
       "            <tr>\n",
       "                        <th id=\"T_15371317_d844_11eb_9675_d03745a99ca0level0_row8\" class=\"row_heading level0 row8\" >8</th>\n",
       "                        <td id=\"T_15371317_d844_11eb_9675_d03745a99ca0row8_col0\" class=\"data row8 col0\" >Ordinal Features</td>\n",
       "                        <td id=\"T_15371317_d844_11eb_9675_d03745a99ca0row8_col1\" class=\"data row8 col1\" >False</td>\n",
       "            </tr>\n",
       "            <tr>\n",
       "                        <th id=\"T_15371317_d844_11eb_9675_d03745a99ca0level0_row9\" class=\"row_heading level0 row9\" >9</th>\n",
       "                        <td id=\"T_15371317_d844_11eb_9675_d03745a99ca0row9_col0\" class=\"data row9 col0\" >High Cardinality Features</td>\n",
       "                        <td id=\"T_15371317_d844_11eb_9675_d03745a99ca0row9_col1\" class=\"data row9 col1\" >False</td>\n",
       "            </tr>\n",
       "            <tr>\n",
       "                        <th id=\"T_15371317_d844_11eb_9675_d03745a99ca0level0_row10\" class=\"row_heading level0 row10\" >10</th>\n",
       "                        <td id=\"T_15371317_d844_11eb_9675_d03745a99ca0row10_col0\" class=\"data row10 col0\" >High Cardinality Method</td>\n",
       "                        <td id=\"T_15371317_d844_11eb_9675_d03745a99ca0row10_col1\" class=\"data row10 col1\" >None</td>\n",
       "            </tr>\n",
       "            <tr>\n",
       "                        <th id=\"T_15371317_d844_11eb_9675_d03745a99ca0level0_row11\" class=\"row_heading level0 row11\" >11</th>\n",
       "                        <td id=\"T_15371317_d844_11eb_9675_d03745a99ca0row11_col0\" class=\"data row11 col0\" >Transformed Train Set</td>\n",
       "                        <td id=\"T_15371317_d844_11eb_9675_d03745a99ca0row11_col1\" class=\"data row11 col1\" >(16242, 175)</td>\n",
       "            </tr>\n",
       "            <tr>\n",
       "                        <th id=\"T_15371317_d844_11eb_9675_d03745a99ca0level0_row12\" class=\"row_heading level0 row12\" >12</th>\n",
       "                        <td id=\"T_15371317_d844_11eb_9675_d03745a99ca0row12_col0\" class=\"data row12 col0\" >Transformed Test Set</td>\n",
       "                        <td id=\"T_15371317_d844_11eb_9675_d03745a99ca0row12_col1\" class=\"data row12 col1\" >(2867, 175)</td>\n",
       "            </tr>\n",
       "            <tr>\n",
       "                        <th id=\"T_15371317_d844_11eb_9675_d03745a99ca0level0_row13\" class=\"row_heading level0 row13\" >13</th>\n",
       "                        <td id=\"T_15371317_d844_11eb_9675_d03745a99ca0row13_col0\" class=\"data row13 col0\" >Shuffle Train-Test</td>\n",
       "                        <td id=\"T_15371317_d844_11eb_9675_d03745a99ca0row13_col1\" class=\"data row13 col1\" >True</td>\n",
       "            </tr>\n",
       "            <tr>\n",
       "                        <th id=\"T_15371317_d844_11eb_9675_d03745a99ca0level0_row14\" class=\"row_heading level0 row14\" >14</th>\n",
       "                        <td id=\"T_15371317_d844_11eb_9675_d03745a99ca0row14_col0\" class=\"data row14 col0\" >Stratify Train-Test</td>\n",
       "                        <td id=\"T_15371317_d844_11eb_9675_d03745a99ca0row14_col1\" class=\"data row14 col1\" >True</td>\n",
       "            </tr>\n",
       "            <tr>\n",
       "                        <th id=\"T_15371317_d844_11eb_9675_d03745a99ca0level0_row15\" class=\"row_heading level0 row15\" >15</th>\n",
       "                        <td id=\"T_15371317_d844_11eb_9675_d03745a99ca0row15_col0\" class=\"data row15 col0\" >Fold Generator</td>\n",
       "                        <td id=\"T_15371317_d844_11eb_9675_d03745a99ca0row15_col1\" class=\"data row15 col1\" >StratifiedKFold</td>\n",
       "            </tr>\n",
       "            <tr>\n",
       "                        <th id=\"T_15371317_d844_11eb_9675_d03745a99ca0level0_row16\" class=\"row_heading level0 row16\" >16</th>\n",
       "                        <td id=\"T_15371317_d844_11eb_9675_d03745a99ca0row16_col0\" class=\"data row16 col0\" >Fold Number</td>\n",
       "                        <td id=\"T_15371317_d844_11eb_9675_d03745a99ca0row16_col1\" class=\"data row16 col1\" >5</td>\n",
       "            </tr>\n",
       "            <tr>\n",
       "                        <th id=\"T_15371317_d844_11eb_9675_d03745a99ca0level0_row17\" class=\"row_heading level0 row17\" >17</th>\n",
       "                        <td id=\"T_15371317_d844_11eb_9675_d03745a99ca0row17_col0\" class=\"data row17 col0\" >CPU Jobs</td>\n",
       "                        <td id=\"T_15371317_d844_11eb_9675_d03745a99ca0row17_col1\" class=\"data row17 col1\" >-1</td>\n",
       "            </tr>\n",
       "            <tr>\n",
       "                        <th id=\"T_15371317_d844_11eb_9675_d03745a99ca0level0_row18\" class=\"row_heading level0 row18\" >18</th>\n",
       "                        <td id=\"T_15371317_d844_11eb_9675_d03745a99ca0row18_col0\" class=\"data row18 col0\" >Use GPU</td>\n",
       "                        <td id=\"T_15371317_d844_11eb_9675_d03745a99ca0row18_col1\" class=\"data row18 col1\" >False</td>\n",
       "            </tr>\n",
       "            <tr>\n",
       "                        <th id=\"T_15371317_d844_11eb_9675_d03745a99ca0level0_row19\" class=\"row_heading level0 row19\" >19</th>\n",
       "                        <td id=\"T_15371317_d844_11eb_9675_d03745a99ca0row19_col0\" class=\"data row19 col0\" >Log Experiment</td>\n",
       "                        <td id=\"T_15371317_d844_11eb_9675_d03745a99ca0row19_col1\" class=\"data row19 col1\" >False</td>\n",
       "            </tr>\n",
       "            <tr>\n",
       "                        <th id=\"T_15371317_d844_11eb_9675_d03745a99ca0level0_row20\" class=\"row_heading level0 row20\" >20</th>\n",
       "                        <td id=\"T_15371317_d844_11eb_9675_d03745a99ca0row20_col0\" class=\"data row20 col0\" >Experiment Name</td>\n",
       "                        <td id=\"T_15371317_d844_11eb_9675_d03745a99ca0row20_col1\" class=\"data row20 col1\" >clf-default-name</td>\n",
       "            </tr>\n",
       "            <tr>\n",
       "                        <th id=\"T_15371317_d844_11eb_9675_d03745a99ca0level0_row21\" class=\"row_heading level0 row21\" >21</th>\n",
       "                        <td id=\"T_15371317_d844_11eb_9675_d03745a99ca0row21_col0\" class=\"data row21 col0\" >USI</td>\n",
       "                        <td id=\"T_15371317_d844_11eb_9675_d03745a99ca0row21_col1\" class=\"data row21 col1\" >063c</td>\n",
       "            </tr>\n",
       "            <tr>\n",
       "                        <th id=\"T_15371317_d844_11eb_9675_d03745a99ca0level0_row22\" class=\"row_heading level0 row22\" >22</th>\n",
       "                        <td id=\"T_15371317_d844_11eb_9675_d03745a99ca0row22_col0\" class=\"data row22 col0\" >Imputation Type</td>\n",
       "                        <td id=\"T_15371317_d844_11eb_9675_d03745a99ca0row22_col1\" class=\"data row22 col1\" >simple</td>\n",
       "            </tr>\n",
       "            <tr>\n",
       "                        <th id=\"T_15371317_d844_11eb_9675_d03745a99ca0level0_row23\" class=\"row_heading level0 row23\" >23</th>\n",
       "                        <td id=\"T_15371317_d844_11eb_9675_d03745a99ca0row23_col0\" class=\"data row23 col0\" >Iterative Imputation Iteration</td>\n",
       "                        <td id=\"T_15371317_d844_11eb_9675_d03745a99ca0row23_col1\" class=\"data row23 col1\" >None</td>\n",
       "            </tr>\n",
       "            <tr>\n",
       "                        <th id=\"T_15371317_d844_11eb_9675_d03745a99ca0level0_row24\" class=\"row_heading level0 row24\" >24</th>\n",
       "                        <td id=\"T_15371317_d844_11eb_9675_d03745a99ca0row24_col0\" class=\"data row24 col0\" >Numeric Imputer</td>\n",
       "                        <td id=\"T_15371317_d844_11eb_9675_d03745a99ca0row24_col1\" class=\"data row24 col1\" >mean</td>\n",
       "            </tr>\n",
       "            <tr>\n",
       "                        <th id=\"T_15371317_d844_11eb_9675_d03745a99ca0level0_row25\" class=\"row_heading level0 row25\" >25</th>\n",
       "                        <td id=\"T_15371317_d844_11eb_9675_d03745a99ca0row25_col0\" class=\"data row25 col0\" >Iterative Imputation Numeric Model</td>\n",
       "                        <td id=\"T_15371317_d844_11eb_9675_d03745a99ca0row25_col1\" class=\"data row25 col1\" >None</td>\n",
       "            </tr>\n",
       "            <tr>\n",
       "                        <th id=\"T_15371317_d844_11eb_9675_d03745a99ca0level0_row26\" class=\"row_heading level0 row26\" >26</th>\n",
       "                        <td id=\"T_15371317_d844_11eb_9675_d03745a99ca0row26_col0\" class=\"data row26 col0\" >Categorical Imputer</td>\n",
       "                        <td id=\"T_15371317_d844_11eb_9675_d03745a99ca0row26_col1\" class=\"data row26 col1\" >constant</td>\n",
       "            </tr>\n",
       "            <tr>\n",
       "                        <th id=\"T_15371317_d844_11eb_9675_d03745a99ca0level0_row27\" class=\"row_heading level0 row27\" >27</th>\n",
       "                        <td id=\"T_15371317_d844_11eb_9675_d03745a99ca0row27_col0\" class=\"data row27 col0\" >Iterative Imputation Categorical Model</td>\n",
       "                        <td id=\"T_15371317_d844_11eb_9675_d03745a99ca0row27_col1\" class=\"data row27 col1\" >None</td>\n",
       "            </tr>\n",
       "            <tr>\n",
       "                        <th id=\"T_15371317_d844_11eb_9675_d03745a99ca0level0_row28\" class=\"row_heading level0 row28\" >28</th>\n",
       "                        <td id=\"T_15371317_d844_11eb_9675_d03745a99ca0row28_col0\" class=\"data row28 col0\" >Unknown Categoricals Handling</td>\n",
       "                        <td id=\"T_15371317_d844_11eb_9675_d03745a99ca0row28_col1\" class=\"data row28 col1\" >least_frequent</td>\n",
       "            </tr>\n",
       "            <tr>\n",
       "                        <th id=\"T_15371317_d844_11eb_9675_d03745a99ca0level0_row29\" class=\"row_heading level0 row29\" >29</th>\n",
       "                        <td id=\"T_15371317_d844_11eb_9675_d03745a99ca0row29_col0\" class=\"data row29 col0\" >Normalize</td>\n",
       "                        <td id=\"T_15371317_d844_11eb_9675_d03745a99ca0row29_col1\" class=\"data row29 col1\" >True</td>\n",
       "            </tr>\n",
       "            <tr>\n",
       "                        <th id=\"T_15371317_d844_11eb_9675_d03745a99ca0level0_row30\" class=\"row_heading level0 row30\" >30</th>\n",
       "                        <td id=\"T_15371317_d844_11eb_9675_d03745a99ca0row30_col0\" class=\"data row30 col0\" >Normalize Method</td>\n",
       "                        <td id=\"T_15371317_d844_11eb_9675_d03745a99ca0row30_col1\" class=\"data row30 col1\" >zscore</td>\n",
       "            </tr>\n",
       "            <tr>\n",
       "                        <th id=\"T_15371317_d844_11eb_9675_d03745a99ca0level0_row31\" class=\"row_heading level0 row31\" >31</th>\n",
       "                        <td id=\"T_15371317_d844_11eb_9675_d03745a99ca0row31_col0\" class=\"data row31 col0\" >Transformation</td>\n",
       "                        <td id=\"T_15371317_d844_11eb_9675_d03745a99ca0row31_col1\" class=\"data row31 col1\" >False</td>\n",
       "            </tr>\n",
       "            <tr>\n",
       "                        <th id=\"T_15371317_d844_11eb_9675_d03745a99ca0level0_row32\" class=\"row_heading level0 row32\" >32</th>\n",
       "                        <td id=\"T_15371317_d844_11eb_9675_d03745a99ca0row32_col0\" class=\"data row32 col0\" >Transformation Method</td>\n",
       "                        <td id=\"T_15371317_d844_11eb_9675_d03745a99ca0row32_col1\" class=\"data row32 col1\" >None</td>\n",
       "            </tr>\n",
       "            <tr>\n",
       "                        <th id=\"T_15371317_d844_11eb_9675_d03745a99ca0level0_row33\" class=\"row_heading level0 row33\" >33</th>\n",
       "                        <td id=\"T_15371317_d844_11eb_9675_d03745a99ca0row33_col0\" class=\"data row33 col0\" >PCA</td>\n",
       "                        <td id=\"T_15371317_d844_11eb_9675_d03745a99ca0row33_col1\" class=\"data row33 col1\" >False</td>\n",
       "            </tr>\n",
       "            <tr>\n",
       "                        <th id=\"T_15371317_d844_11eb_9675_d03745a99ca0level0_row34\" class=\"row_heading level0 row34\" >34</th>\n",
       "                        <td id=\"T_15371317_d844_11eb_9675_d03745a99ca0row34_col0\" class=\"data row34 col0\" >PCA Method</td>\n",
       "                        <td id=\"T_15371317_d844_11eb_9675_d03745a99ca0row34_col1\" class=\"data row34 col1\" >None</td>\n",
       "            </tr>\n",
       "            <tr>\n",
       "                        <th id=\"T_15371317_d844_11eb_9675_d03745a99ca0level0_row35\" class=\"row_heading level0 row35\" >35</th>\n",
       "                        <td id=\"T_15371317_d844_11eb_9675_d03745a99ca0row35_col0\" class=\"data row35 col0\" >PCA Components</td>\n",
       "                        <td id=\"T_15371317_d844_11eb_9675_d03745a99ca0row35_col1\" class=\"data row35 col1\" >None</td>\n",
       "            </tr>\n",
       "            <tr>\n",
       "                        <th id=\"T_15371317_d844_11eb_9675_d03745a99ca0level0_row36\" class=\"row_heading level0 row36\" >36</th>\n",
       "                        <td id=\"T_15371317_d844_11eb_9675_d03745a99ca0row36_col0\" class=\"data row36 col0\" >Ignore Low Variance</td>\n",
       "                        <td id=\"T_15371317_d844_11eb_9675_d03745a99ca0row36_col1\" class=\"data row36 col1\" >False</td>\n",
       "            </tr>\n",
       "            <tr>\n",
       "                        <th id=\"T_15371317_d844_11eb_9675_d03745a99ca0level0_row37\" class=\"row_heading level0 row37\" >37</th>\n",
       "                        <td id=\"T_15371317_d844_11eb_9675_d03745a99ca0row37_col0\" class=\"data row37 col0\" >Combine Rare Levels</td>\n",
       "                        <td id=\"T_15371317_d844_11eb_9675_d03745a99ca0row37_col1\" class=\"data row37 col1\" >False</td>\n",
       "            </tr>\n",
       "            <tr>\n",
       "                        <th id=\"T_15371317_d844_11eb_9675_d03745a99ca0level0_row38\" class=\"row_heading level0 row38\" >38</th>\n",
       "                        <td id=\"T_15371317_d844_11eb_9675_d03745a99ca0row38_col0\" class=\"data row38 col0\" >Rare Level Threshold</td>\n",
       "                        <td id=\"T_15371317_d844_11eb_9675_d03745a99ca0row38_col1\" class=\"data row38 col1\" >None</td>\n",
       "            </tr>\n",
       "            <tr>\n",
       "                        <th id=\"T_15371317_d844_11eb_9675_d03745a99ca0level0_row39\" class=\"row_heading level0 row39\" >39</th>\n",
       "                        <td id=\"T_15371317_d844_11eb_9675_d03745a99ca0row39_col0\" class=\"data row39 col0\" >Numeric Binning</td>\n",
       "                        <td id=\"T_15371317_d844_11eb_9675_d03745a99ca0row39_col1\" class=\"data row39 col1\" >False</td>\n",
       "            </tr>\n",
       "            <tr>\n",
       "                        <th id=\"T_15371317_d844_11eb_9675_d03745a99ca0level0_row40\" class=\"row_heading level0 row40\" >40</th>\n",
       "                        <td id=\"T_15371317_d844_11eb_9675_d03745a99ca0row40_col0\" class=\"data row40 col0\" >Remove Outliers</td>\n",
       "                        <td id=\"T_15371317_d844_11eb_9675_d03745a99ca0row40_col1\" class=\"data row40 col1\" >False</td>\n",
       "            </tr>\n",
       "            <tr>\n",
       "                        <th id=\"T_15371317_d844_11eb_9675_d03745a99ca0level0_row41\" class=\"row_heading level0 row41\" >41</th>\n",
       "                        <td id=\"T_15371317_d844_11eb_9675_d03745a99ca0row41_col0\" class=\"data row41 col0\" >Outliers Threshold</td>\n",
       "                        <td id=\"T_15371317_d844_11eb_9675_d03745a99ca0row41_col1\" class=\"data row41 col1\" >None</td>\n",
       "            </tr>\n",
       "            <tr>\n",
       "                        <th id=\"T_15371317_d844_11eb_9675_d03745a99ca0level0_row42\" class=\"row_heading level0 row42\" >42</th>\n",
       "                        <td id=\"T_15371317_d844_11eb_9675_d03745a99ca0row42_col0\" class=\"data row42 col0\" >Remove Multicollinearity</td>\n",
       "                        <td id=\"T_15371317_d844_11eb_9675_d03745a99ca0row42_col1\" class=\"data row42 col1\" >True</td>\n",
       "            </tr>\n",
       "            <tr>\n",
       "                        <th id=\"T_15371317_d844_11eb_9675_d03745a99ca0level0_row43\" class=\"row_heading level0 row43\" >43</th>\n",
       "                        <td id=\"T_15371317_d844_11eb_9675_d03745a99ca0row43_col0\" class=\"data row43 col0\" >Multicollinearity Threshold</td>\n",
       "                        <td id=\"T_15371317_d844_11eb_9675_d03745a99ca0row43_col1\" class=\"data row43 col1\" >0.900000</td>\n",
       "            </tr>\n",
       "            <tr>\n",
       "                        <th id=\"T_15371317_d844_11eb_9675_d03745a99ca0level0_row44\" class=\"row_heading level0 row44\" >44</th>\n",
       "                        <td id=\"T_15371317_d844_11eb_9675_d03745a99ca0row44_col0\" class=\"data row44 col0\" >Clustering</td>\n",
       "                        <td id=\"T_15371317_d844_11eb_9675_d03745a99ca0row44_col1\" class=\"data row44 col1\" >False</td>\n",
       "            </tr>\n",
       "            <tr>\n",
       "                        <th id=\"T_15371317_d844_11eb_9675_d03745a99ca0level0_row45\" class=\"row_heading level0 row45\" >45</th>\n",
       "                        <td id=\"T_15371317_d844_11eb_9675_d03745a99ca0row45_col0\" class=\"data row45 col0\" >Clustering Iteration</td>\n",
       "                        <td id=\"T_15371317_d844_11eb_9675_d03745a99ca0row45_col1\" class=\"data row45 col1\" >None</td>\n",
       "            </tr>\n",
       "            <tr>\n",
       "                        <th id=\"T_15371317_d844_11eb_9675_d03745a99ca0level0_row46\" class=\"row_heading level0 row46\" >46</th>\n",
       "                        <td id=\"T_15371317_d844_11eb_9675_d03745a99ca0row46_col0\" class=\"data row46 col0\" >Polynomial Features</td>\n",
       "                        <td id=\"T_15371317_d844_11eb_9675_d03745a99ca0row46_col1\" class=\"data row46 col1\" >False</td>\n",
       "            </tr>\n",
       "            <tr>\n",
       "                        <th id=\"T_15371317_d844_11eb_9675_d03745a99ca0level0_row47\" class=\"row_heading level0 row47\" >47</th>\n",
       "                        <td id=\"T_15371317_d844_11eb_9675_d03745a99ca0row47_col0\" class=\"data row47 col0\" >Polynomial Degree</td>\n",
       "                        <td id=\"T_15371317_d844_11eb_9675_d03745a99ca0row47_col1\" class=\"data row47 col1\" >None</td>\n",
       "            </tr>\n",
       "            <tr>\n",
       "                        <th id=\"T_15371317_d844_11eb_9675_d03745a99ca0level0_row48\" class=\"row_heading level0 row48\" >48</th>\n",
       "                        <td id=\"T_15371317_d844_11eb_9675_d03745a99ca0row48_col0\" class=\"data row48 col0\" >Trignometry Features</td>\n",
       "                        <td id=\"T_15371317_d844_11eb_9675_d03745a99ca0row48_col1\" class=\"data row48 col1\" >False</td>\n",
       "            </tr>\n",
       "            <tr>\n",
       "                        <th id=\"T_15371317_d844_11eb_9675_d03745a99ca0level0_row49\" class=\"row_heading level0 row49\" >49</th>\n",
       "                        <td id=\"T_15371317_d844_11eb_9675_d03745a99ca0row49_col0\" class=\"data row49 col0\" >Polynomial Threshold</td>\n",
       "                        <td id=\"T_15371317_d844_11eb_9675_d03745a99ca0row49_col1\" class=\"data row49 col1\" >None</td>\n",
       "            </tr>\n",
       "            <tr>\n",
       "                        <th id=\"T_15371317_d844_11eb_9675_d03745a99ca0level0_row50\" class=\"row_heading level0 row50\" >50</th>\n",
       "                        <td id=\"T_15371317_d844_11eb_9675_d03745a99ca0row50_col0\" class=\"data row50 col0\" >Group Features</td>\n",
       "                        <td id=\"T_15371317_d844_11eb_9675_d03745a99ca0row50_col1\" class=\"data row50 col1\" >False</td>\n",
       "            </tr>\n",
       "            <tr>\n",
       "                        <th id=\"T_15371317_d844_11eb_9675_d03745a99ca0level0_row51\" class=\"row_heading level0 row51\" >51</th>\n",
       "                        <td id=\"T_15371317_d844_11eb_9675_d03745a99ca0row51_col0\" class=\"data row51 col0\" >Feature Selection</td>\n",
       "                        <td id=\"T_15371317_d844_11eb_9675_d03745a99ca0row51_col1\" class=\"data row51 col1\" >False</td>\n",
       "            </tr>\n",
       "            <tr>\n",
       "                        <th id=\"T_15371317_d844_11eb_9675_d03745a99ca0level0_row52\" class=\"row_heading level0 row52\" >52</th>\n",
       "                        <td id=\"T_15371317_d844_11eb_9675_d03745a99ca0row52_col0\" class=\"data row52 col0\" >Feature Selection Method</td>\n",
       "                        <td id=\"T_15371317_d844_11eb_9675_d03745a99ca0row52_col1\" class=\"data row52 col1\" >classic</td>\n",
       "            </tr>\n",
       "            <tr>\n",
       "                        <th id=\"T_15371317_d844_11eb_9675_d03745a99ca0level0_row53\" class=\"row_heading level0 row53\" >53</th>\n",
       "                        <td id=\"T_15371317_d844_11eb_9675_d03745a99ca0row53_col0\" class=\"data row53 col0\" >Features Selection Threshold</td>\n",
       "                        <td id=\"T_15371317_d844_11eb_9675_d03745a99ca0row53_col1\" class=\"data row53 col1\" >None</td>\n",
       "            </tr>\n",
       "            <tr>\n",
       "                        <th id=\"T_15371317_d844_11eb_9675_d03745a99ca0level0_row54\" class=\"row_heading level0 row54\" >54</th>\n",
       "                        <td id=\"T_15371317_d844_11eb_9675_d03745a99ca0row54_col0\" class=\"data row54 col0\" >Feature Interaction</td>\n",
       "                        <td id=\"T_15371317_d844_11eb_9675_d03745a99ca0row54_col1\" class=\"data row54 col1\" >False</td>\n",
       "            </tr>\n",
       "            <tr>\n",
       "                        <th id=\"T_15371317_d844_11eb_9675_d03745a99ca0level0_row55\" class=\"row_heading level0 row55\" >55</th>\n",
       "                        <td id=\"T_15371317_d844_11eb_9675_d03745a99ca0row55_col0\" class=\"data row55 col0\" >Feature Ratio</td>\n",
       "                        <td id=\"T_15371317_d844_11eb_9675_d03745a99ca0row55_col1\" class=\"data row55 col1\" >False</td>\n",
       "            </tr>\n",
       "            <tr>\n",
       "                        <th id=\"T_15371317_d844_11eb_9675_d03745a99ca0level0_row56\" class=\"row_heading level0 row56\" >56</th>\n",
       "                        <td id=\"T_15371317_d844_11eb_9675_d03745a99ca0row56_col0\" class=\"data row56 col0\" >Interaction Threshold</td>\n",
       "                        <td id=\"T_15371317_d844_11eb_9675_d03745a99ca0row56_col1\" class=\"data row56 col1\" >None</td>\n",
       "            </tr>\n",
       "            <tr>\n",
       "                        <th id=\"T_15371317_d844_11eb_9675_d03745a99ca0level0_row57\" class=\"row_heading level0 row57\" >57</th>\n",
       "                        <td id=\"T_15371317_d844_11eb_9675_d03745a99ca0row57_col0\" class=\"data row57 col0\" >Fix Imbalance</td>\n",
       "                        <td id=\"T_15371317_d844_11eb_9675_d03745a99ca0row57_col1\" class=\"data row57 col1\" >True</td>\n",
       "            </tr>\n",
       "            <tr>\n",
       "                        <th id=\"T_15371317_d844_11eb_9675_d03745a99ca0level0_row58\" class=\"row_heading level0 row58\" >58</th>\n",
       "                        <td id=\"T_15371317_d844_11eb_9675_d03745a99ca0row58_col0\" class=\"data row58 col0\" >Fix Imbalance Method</td>\n",
       "                        <td id=\"T_15371317_d844_11eb_9675_d03745a99ca0row58_col1\" class=\"data row58 col1\" >SMOTE</td>\n",
       "            </tr>\n",
       "    </tbody></table>"
      ],
      "text/plain": [
       "<pandas.io.formats.style.Styler at 0x1393d73e220>"
      ]
     },
     "metadata": {},
     "output_type": "display_data"
    }
   ],
   "source": [
    "clf = setup(data=df_caret, target='target',\n",
    "            train_size=0.85, \n",
    "            normalize=True,\n",
    "            fold=5,\n",
    "            data_split_stratify=True,\n",
    "            fix_imbalance=True,\n",
    "            remove_multicollinearity=True,\n",
    "            session_id=4000)"
   ]
  },
  {
   "cell_type": "markdown",
   "metadata": {},
   "source": [
    "Before training we will first look at the feature importances which are calculated using SHAP values. It can be seen below that the *city_development_index* is the most important feature. Higher index decreases the probability of changing the job and lower increases. Also introduced category for missing values seems to be important. Out of the 123 cities in 2 of them there is a high probability that people will change a job. Based on this analysis one can perform some feature engineering and add some new features. I have tried various combinations but nothing improved the score so I kept the original features only. It is possible that some further exploratory data analysis could improve the model performance. It is not done here but in the Streamlit app one can perform such analysis for all feature combinations."
   ]
  },
  {
   "cell_type": "code",
   "execution_count": 19,
   "metadata": {},
   "outputs": [
    {
     "data": {
      "text/html": [
       "<style  type=\"text/css\" >\n",
       "#T_302fd30f_d826_11eb_813a_d03745a99ca0row5_col0,#T_302fd30f_d826_11eb_813a_d03745a99ca0row5_col1,#T_302fd30f_d826_11eb_813a_d03745a99ca0row5_col2,#T_302fd30f_d826_11eb_813a_d03745a99ca0row5_col3,#T_302fd30f_d826_11eb_813a_d03745a99ca0row5_col4,#T_302fd30f_d826_11eb_813a_d03745a99ca0row5_col5,#T_302fd30f_d826_11eb_813a_d03745a99ca0row5_col6{\n",
       "            background:  yellow;\n",
       "        }</style><table id=\"T_302fd30f_d826_11eb_813a_d03745a99ca0\" ><thead>    <tr>        <th class=\"blank level0\" ></th>        <th class=\"col_heading level0 col0\" >Accuracy</th>        <th class=\"col_heading level0 col1\" >AUC</th>        <th class=\"col_heading level0 col2\" >Recall</th>        <th class=\"col_heading level0 col3\" >Prec.</th>        <th class=\"col_heading level0 col4\" >F1</th>        <th class=\"col_heading level0 col5\" >Kappa</th>        <th class=\"col_heading level0 col6\" >MCC</th>    </tr></thead><tbody>\n",
       "                <tr>\n",
       "                        <th id=\"T_302fd30f_d826_11eb_813a_d03745a99ca0level0_row0\" class=\"row_heading level0 row0\" >0</th>\n",
       "                        <td id=\"T_302fd30f_d826_11eb_813a_d03745a99ca0row0_col0\" class=\"data row0 col0\" >0.7959</td>\n",
       "                        <td id=\"T_302fd30f_d826_11eb_813a_d03745a99ca0row0_col1\" class=\"data row0 col1\" >0.7990</td>\n",
       "                        <td id=\"T_302fd30f_d826_11eb_813a_d03745a99ca0row0_col2\" class=\"data row0 col2\" >0.5914</td>\n",
       "                        <td id=\"T_302fd30f_d826_11eb_813a_d03745a99ca0row0_col3\" class=\"data row0 col3\" >0.5906</td>\n",
       "                        <td id=\"T_302fd30f_d826_11eb_813a_d03745a99ca0row0_col4\" class=\"data row0 col4\" >0.5910</td>\n",
       "                        <td id=\"T_302fd30f_d826_11eb_813a_d03745a99ca0row0_col5\" class=\"data row0 col5\" >0.4550</td>\n",
       "                        <td id=\"T_302fd30f_d826_11eb_813a_d03745a99ca0row0_col6\" class=\"data row0 col6\" >0.4550</td>\n",
       "            </tr>\n",
       "            <tr>\n",
       "                        <th id=\"T_302fd30f_d826_11eb_813a_d03745a99ca0level0_row1\" class=\"row_heading level0 row1\" >1</th>\n",
       "                        <td id=\"T_302fd30f_d826_11eb_813a_d03745a99ca0row1_col0\" class=\"data row1 col0\" >0.8046</td>\n",
       "                        <td id=\"T_302fd30f_d826_11eb_813a_d03745a99ca0row1_col1\" class=\"data row1 col1\" >0.8121</td>\n",
       "                        <td id=\"T_302fd30f_d826_11eb_813a_d03745a99ca0row1_col2\" class=\"data row1 col2\" >0.6025</td>\n",
       "                        <td id=\"T_302fd30f_d826_11eb_813a_d03745a99ca0row1_col3\" class=\"data row1 col3\" >0.6092</td>\n",
       "                        <td id=\"T_302fd30f_d826_11eb_813a_d03745a99ca0row1_col4\" class=\"data row1 col4\" >0.6058</td>\n",
       "                        <td id=\"T_302fd30f_d826_11eb_813a_d03745a99ca0row1_col5\" class=\"data row1 col5\" >0.4759</td>\n",
       "                        <td id=\"T_302fd30f_d826_11eb_813a_d03745a99ca0row1_col6\" class=\"data row1 col6\" >0.4759</td>\n",
       "            </tr>\n",
       "            <tr>\n",
       "                        <th id=\"T_302fd30f_d826_11eb_813a_d03745a99ca0level0_row2\" class=\"row_heading level0 row2\" >2</th>\n",
       "                        <td id=\"T_302fd30f_d826_11eb_813a_d03745a99ca0row2_col0\" class=\"data row2 col0\" >0.7879</td>\n",
       "                        <td id=\"T_302fd30f_d826_11eb_813a_d03745a99ca0row2_col1\" class=\"data row2 col1\" >0.7908</td>\n",
       "                        <td id=\"T_302fd30f_d826_11eb_813a_d03745a99ca0row2_col2\" class=\"data row2 col2\" >0.5877</td>\n",
       "                        <td id=\"T_302fd30f_d826_11eb_813a_d03745a99ca0row2_col3\" class=\"data row2 col3\" >0.5728</td>\n",
       "                        <td id=\"T_302fd30f_d826_11eb_813a_d03745a99ca0row2_col4\" class=\"data row2 col4\" >0.5801</td>\n",
       "                        <td id=\"T_302fd30f_d826_11eb_813a_d03745a99ca0row2_col5\" class=\"data row2 col5\" >0.4382</td>\n",
       "                        <td id=\"T_302fd30f_d826_11eb_813a_d03745a99ca0row2_col6\" class=\"data row2 col6\" >0.4383</td>\n",
       "            </tr>\n",
       "            <tr>\n",
       "                        <th id=\"T_302fd30f_d826_11eb_813a_d03745a99ca0level0_row3\" class=\"row_heading level0 row3\" >3</th>\n",
       "                        <td id=\"T_302fd30f_d826_11eb_813a_d03745a99ca0row3_col0\" class=\"data row3 col0\" >0.7934</td>\n",
       "                        <td id=\"T_302fd30f_d826_11eb_813a_d03745a99ca0row3_col1\" class=\"data row3 col1\" >0.7919</td>\n",
       "                        <td id=\"T_302fd30f_d826_11eb_813a_d03745a99ca0row3_col2\" class=\"data row3 col2\" >0.6037</td>\n",
       "                        <td id=\"T_302fd30f_d826_11eb_813a_d03745a99ca0row3_col3\" class=\"data row3 col3\" >0.5828</td>\n",
       "                        <td id=\"T_302fd30f_d826_11eb_813a_d03745a99ca0row3_col4\" class=\"data row3 col4\" >0.5931</td>\n",
       "                        <td id=\"T_302fd30f_d826_11eb_813a_d03745a99ca0row3_col5\" class=\"data row3 col5\" >0.4547</td>\n",
       "                        <td id=\"T_302fd30f_d826_11eb_813a_d03745a99ca0row3_col6\" class=\"data row3 col6\" >0.4548</td>\n",
       "            </tr>\n",
       "            <tr>\n",
       "                        <th id=\"T_302fd30f_d826_11eb_813a_d03745a99ca0level0_row4\" class=\"row_heading level0 row4\" >4</th>\n",
       "                        <td id=\"T_302fd30f_d826_11eb_813a_d03745a99ca0row4_col0\" class=\"data row4 col0\" >0.7990</td>\n",
       "                        <td id=\"T_302fd30f_d826_11eb_813a_d03745a99ca0row4_col1\" class=\"data row4 col1\" >0.7910</td>\n",
       "                        <td id=\"T_302fd30f_d826_11eb_813a_d03745a99ca0row4_col2\" class=\"data row4 col2\" >0.5975</td>\n",
       "                        <td id=\"T_302fd30f_d826_11eb_813a_d03745a99ca0row4_col3\" class=\"data row4 col3\" >0.5968</td>\n",
       "                        <td id=\"T_302fd30f_d826_11eb_813a_d03745a99ca0row4_col4\" class=\"data row4 col4\" >0.5972</td>\n",
       "                        <td id=\"T_302fd30f_d826_11eb_813a_d03745a99ca0row4_col5\" class=\"data row4 col5\" >0.4632</td>\n",
       "                        <td id=\"T_302fd30f_d826_11eb_813a_d03745a99ca0row4_col6\" class=\"data row4 col6\" >0.4632</td>\n",
       "            </tr>\n",
       "            <tr>\n",
       "                        <th id=\"T_302fd30f_d826_11eb_813a_d03745a99ca0level0_row5\" class=\"row_heading level0 row5\" >Mean</th>\n",
       "                        <td id=\"T_302fd30f_d826_11eb_813a_d03745a99ca0row5_col0\" class=\"data row5 col0\" >0.7961</td>\n",
       "                        <td id=\"T_302fd30f_d826_11eb_813a_d03745a99ca0row5_col1\" class=\"data row5 col1\" >0.7970</td>\n",
       "                        <td id=\"T_302fd30f_d826_11eb_813a_d03745a99ca0row5_col2\" class=\"data row5 col2\" >0.5965</td>\n",
       "                        <td id=\"T_302fd30f_d826_11eb_813a_d03745a99ca0row5_col3\" class=\"data row5 col3\" >0.5905</td>\n",
       "                        <td id=\"T_302fd30f_d826_11eb_813a_d03745a99ca0row5_col4\" class=\"data row5 col4\" >0.5934</td>\n",
       "                        <td id=\"T_302fd30f_d826_11eb_813a_d03745a99ca0row5_col5\" class=\"data row5 col5\" >0.4574</td>\n",
       "                        <td id=\"T_302fd30f_d826_11eb_813a_d03745a99ca0row5_col6\" class=\"data row5 col6\" >0.4575</td>\n",
       "            </tr>\n",
       "            <tr>\n",
       "                        <th id=\"T_302fd30f_d826_11eb_813a_d03745a99ca0level0_row6\" class=\"row_heading level0 row6\" >SD</th>\n",
       "                        <td id=\"T_302fd30f_d826_11eb_813a_d03745a99ca0row6_col0\" class=\"data row6 col0\" >0.0056</td>\n",
       "                        <td id=\"T_302fd30f_d826_11eb_813a_d03745a99ca0row6_col1\" class=\"data row6 col1\" >0.0082</td>\n",
       "                        <td id=\"T_302fd30f_d826_11eb_813a_d03745a99ca0row6_col2\" class=\"data row6 col2\" >0.0062</td>\n",
       "                        <td id=\"T_302fd30f_d826_11eb_813a_d03745a99ca0row6_col3\" class=\"data row6 col3\" >0.0124</td>\n",
       "                        <td id=\"T_302fd30f_d826_11eb_813a_d03745a99ca0row6_col4\" class=\"data row6 col4\" >0.0084</td>\n",
       "                        <td id=\"T_302fd30f_d826_11eb_813a_d03745a99ca0row6_col5\" class=\"data row6 col5\" >0.0123</td>\n",
       "                        <td id=\"T_302fd30f_d826_11eb_813a_d03745a99ca0row6_col6\" class=\"data row6 col6\" >0.0123</td>\n",
       "            </tr>\n",
       "    </tbody></table>"
      ],
      "text/plain": [
       "<pandas.io.formats.style.Styler at 0x139189f9be0>"
      ]
     },
     "metadata": {},
     "output_type": "display_data"
    }
   ],
   "source": [
    "cat = create_model('catboost')"
   ]
  },
  {
   "cell_type": "code",
   "execution_count": 54,
   "metadata": {},
   "outputs": [
    {
     "name": "stdout",
     "output_type": "stream",
     "text": [
      "Transformation Pipeline and Model Succesfully Saved\n"
     ]
    },
    {
     "data": {
      "text/plain": [
       "(Pipeline(memory=None,\n",
       "          steps=[('dtypes',\n",
       "                  DataTypes_Auto_infer(categorical_features=[],\n",
       "                                       display_types=True, features_todrop=[],\n",
       "                                       id_columns=[],\n",
       "                                       ml_usecase='classification',\n",
       "                                       numerical_features=[], target='target',\n",
       "                                       time_features=[])),\n",
       "                 ('imputer',\n",
       "                  Simple_Imputer(categorical_strategy='not_available',\n",
       "                                 fill_value_categorical=None,\n",
       "                                 fill_value_numerical=None,\n",
       "                                 numeric_strat...\n",
       "                 ('clean_names', Clean_Colum_Names()),\n",
       "                 ('feature_select', 'passthrough'),\n",
       "                 ('fix_multi',\n",
       "                  Fix_multicollinearity(correlation_with_target_preference=None,\n",
       "                                        correlation_with_target_threshold=0.0,\n",
       "                                        target_variable='target',\n",
       "                                        threshold=0.9)),\n",
       "                 ('dfs', 'passthrough'), ('pca', 'passthrough'),\n",
       "                 ['trained_model',\n",
       "                  <catboost.core.CatBoostClassifier object at 0x000001391C6D7C10>]],\n",
       "          verbose=False),\n",
       " 'catboost.pkl')"
      ]
     },
     "execution_count": 54,
     "metadata": {},
     "output_type": "execute_result"
    }
   ],
   "source": [
    "save_model(cat, 'catboost')"
   ]
  },
  {
   "cell_type": "code",
   "execution_count": 55,
   "metadata": {},
   "outputs": [
    {
     "name": "stdout",
     "output_type": "stream",
     "text": [
      "Transformation Pipeline and Model Successfully Loaded\n"
     ]
    }
   ],
   "source": [
    "cat = load_model('catboost')"
   ]
  },
  {
   "cell_type": "code",
   "execution_count": 59,
   "metadata": {},
   "outputs": [
    {
     "data": {
      "image/png": "[encoded data removed]",
      "text/plain": [
       "<Figure size 576x684 with 2 Axes>"
      ]
     },
     "metadata": {},
     "output_type": "display_data"
    }
   ],
   "source": [
    "interpret_model(cat.get_params()['trained_model'])"
   ]
  },
  {
   "cell_type": "code",
   "execution_count": 60,
   "metadata": {},
   "outputs": [
    {
     "data": {
      "image/png": "[encoded data removed]",
      "text/plain": [
       "<Figure size 540x360 with 2 Axes>"
      ]
     },
     "metadata": {},
     "output_type": "display_data"
    }
   ],
   "source": [
    "interpret_model(cat.get_params()['trained_model'], plot='correlation', feature='city_development_index')"
   ]
  },
  {
   "cell_type": "markdown",
   "metadata": {},
   "source": [
    "Now we can look at the performance of the base models. From these models I chose 4 for fine-tuning. Catboost was skipped due to the very long training time. The metrics used for evaluation was the *AUC* score. So that we don't only look at the recall of the target class but also to correctly classify people who are not going to change the job."
   ]
  },
  {
   "cell_type": "code",
   "execution_count": 51,
   "metadata": {},
   "outputs": [
    {
     "data": {
      "text/html": [
       "<style  type=\"text/css\" >\n",
       "    #T_6ec7628e_d818_11eb_80cd_d03745a99ca0 th {\n",
       "          text-align: left;\n",
       "    }#T_6ec7628e_d818_11eb_80cd_d03745a99ca0row0_col0,#T_6ec7628e_d818_11eb_80cd_d03745a99ca0row0_col3,#T_6ec7628e_d818_11eb_80cd_d03745a99ca0row0_col4,#T_6ec7628e_d818_11eb_80cd_d03745a99ca0row0_col5,#T_6ec7628e_d818_11eb_80cd_d03745a99ca0row0_col6,#T_6ec7628e_d818_11eb_80cd_d03745a99ca0row0_col7,#T_6ec7628e_d818_11eb_80cd_d03745a99ca0row1_col0,#T_6ec7628e_d818_11eb_80cd_d03745a99ca0row1_col1,#T_6ec7628e_d818_11eb_80cd_d03745a99ca0row1_col2,#T_6ec7628e_d818_11eb_80cd_d03745a99ca0row1_col3,#T_6ec7628e_d818_11eb_80cd_d03745a99ca0row1_col5,#T_6ec7628e_d818_11eb_80cd_d03745a99ca0row1_col6,#T_6ec7628e_d818_11eb_80cd_d03745a99ca0row1_col7,#T_6ec7628e_d818_11eb_80cd_d03745a99ca0row2_col0,#T_6ec7628e_d818_11eb_80cd_d03745a99ca0row2_col1,#T_6ec7628e_d818_11eb_80cd_d03745a99ca0row2_col2,#T_6ec7628e_d818_11eb_80cd_d03745a99ca0row2_col3,#T_6ec7628e_d818_11eb_80cd_d03745a99ca0row2_col4,#T_6ec7628e_d818_11eb_80cd_d03745a99ca0row3_col0,#T_6ec7628e_d818_11eb_80cd_d03745a99ca0row3_col1,#T_6ec7628e_d818_11eb_80cd_d03745a99ca0row3_col2,#T_6ec7628e_d818_11eb_80cd_d03745a99ca0row3_col3,#T_6ec7628e_d818_11eb_80cd_d03745a99ca0row3_col4,#T_6ec7628e_d818_11eb_80cd_d03745a99ca0row3_col5,#T_6ec7628e_d818_11eb_80cd_d03745a99ca0row3_col6,#T_6ec7628e_d818_11eb_80cd_d03745a99ca0row3_col7,#T_6ec7628e_d818_11eb_80cd_d03745a99ca0row4_col0,#T_6ec7628e_d818_11eb_80cd_d03745a99ca0row4_col1,#T_6ec7628e_d818_11eb_80cd_d03745a99ca0row4_col2,#T_6ec7628e_d818_11eb_80cd_d03745a99ca0row4_col3,#T_6ec7628e_d818_11eb_80cd_d03745a99ca0row4_col4,#T_6ec7628e_d818_11eb_80cd_d03745a99ca0row4_col5,#T_6ec7628e_d818_11eb_80cd_d03745a99ca0row4_col6,#T_6ec7628e_d818_11eb_80cd_d03745a99ca0row4_col7,#T_6ec7628e_d818_11eb_80cd_d03745a99ca0row5_col0,#T_6ec7628e_d818_11eb_80cd_d03745a99ca0row5_col1,#T_6ec7628e_d818_11eb_80cd_d03745a99ca0row5_col2,#T_6ec7628e_d818_11eb_80cd_d03745a99ca0row5_col3,#T_6ec7628e_d818_11eb_80cd_d03745a99ca0row5_col4,#T_6ec7628e_d818_11eb_80cd_d03745a99ca0row5_col5,#T_6ec7628e_d818_11eb_80cd_d03745a99ca0row5_col6,#T_6ec7628e_d818_11eb_80cd_d03745a99ca0row5_col7,#T_6ec7628e_d818_11eb_80cd_d03745a99ca0row6_col0,#T_6ec7628e_d818_11eb_80cd_d03745a99ca0row6_col1,#T_6ec7628e_d818_11eb_80cd_d03745a99ca0row6_col2,#T_6ec7628e_d818_11eb_80cd_d03745a99ca0row6_col3,#T_6ec7628e_d818_11eb_80cd_d03745a99ca0row6_col4,#T_6ec7628e_d818_11eb_80cd_d03745a99ca0row6_col5,#T_6ec7628e_d818_11eb_80cd_d03745a99ca0row6_col6,#T_6ec7628e_d818_11eb_80cd_d03745a99ca0row6_col7,#T_6ec7628e_d818_11eb_80cd_d03745a99ca0row7_col0,#T_6ec7628e_d818_11eb_80cd_d03745a99ca0row7_col1,#T_6ec7628e_d818_11eb_80cd_d03745a99ca0row7_col2,#T_6ec7628e_d818_11eb_80cd_d03745a99ca0row7_col3,#T_6ec7628e_d818_11eb_80cd_d03745a99ca0row7_col4,#T_6ec7628e_d818_11eb_80cd_d03745a99ca0row7_col5,#T_6ec7628e_d818_11eb_80cd_d03745a99ca0row7_col6,#T_6ec7628e_d818_11eb_80cd_d03745a99ca0row7_col7,#T_6ec7628e_d818_11eb_80cd_d03745a99ca0row8_col0,#T_6ec7628e_d818_11eb_80cd_d03745a99ca0row8_col1,#T_6ec7628e_d818_11eb_80cd_d03745a99ca0row8_col2,#T_6ec7628e_d818_11eb_80cd_d03745a99ca0row8_col3,#T_6ec7628e_d818_11eb_80cd_d03745a99ca0row8_col4,#T_6ec7628e_d818_11eb_80cd_d03745a99ca0row8_col5,#T_6ec7628e_d818_11eb_80cd_d03745a99ca0row8_col6,#T_6ec7628e_d818_11eb_80cd_d03745a99ca0row8_col7,#T_6ec7628e_d818_11eb_80cd_d03745a99ca0row9_col0,#T_6ec7628e_d818_11eb_80cd_d03745a99ca0row9_col1,#T_6ec7628e_d818_11eb_80cd_d03745a99ca0row9_col2,#T_6ec7628e_d818_11eb_80cd_d03745a99ca0row9_col3,#T_6ec7628e_d818_11eb_80cd_d03745a99ca0row9_col4,#T_6ec7628e_d818_11eb_80cd_d03745a99ca0row9_col5,#T_6ec7628e_d818_11eb_80cd_d03745a99ca0row9_col6,#T_6ec7628e_d818_11eb_80cd_d03745a99ca0row9_col7,#T_6ec7628e_d818_11eb_80cd_d03745a99ca0row10_col0,#T_6ec7628e_d818_11eb_80cd_d03745a99ca0row10_col1,#T_6ec7628e_d818_11eb_80cd_d03745a99ca0row10_col2,#T_6ec7628e_d818_11eb_80cd_d03745a99ca0row10_col3,#T_6ec7628e_d818_11eb_80cd_d03745a99ca0row10_col4,#T_6ec7628e_d818_11eb_80cd_d03745a99ca0row10_col5,#T_6ec7628e_d818_11eb_80cd_d03745a99ca0row10_col6,#T_6ec7628e_d818_11eb_80cd_d03745a99ca0row10_col7,#T_6ec7628e_d818_11eb_80cd_d03745a99ca0row11_col0,#T_6ec7628e_d818_11eb_80cd_d03745a99ca0row11_col1,#T_6ec7628e_d818_11eb_80cd_d03745a99ca0row11_col2,#T_6ec7628e_d818_11eb_80cd_d03745a99ca0row11_col4,#T_6ec7628e_d818_11eb_80cd_d03745a99ca0row11_col5,#T_6ec7628e_d818_11eb_80cd_d03745a99ca0row11_col6,#T_6ec7628e_d818_11eb_80cd_d03745a99ca0row11_col7,#T_6ec7628e_d818_11eb_80cd_d03745a99ca0row12_col0,#T_6ec7628e_d818_11eb_80cd_d03745a99ca0row12_col1,#T_6ec7628e_d818_11eb_80cd_d03745a99ca0row12_col2,#T_6ec7628e_d818_11eb_80cd_d03745a99ca0row12_col3,#T_6ec7628e_d818_11eb_80cd_d03745a99ca0row12_col4,#T_6ec7628e_d818_11eb_80cd_d03745a99ca0row12_col5,#T_6ec7628e_d818_11eb_80cd_d03745a99ca0row12_col6,#T_6ec7628e_d818_11eb_80cd_d03745a99ca0row12_col7,#T_6ec7628e_d818_11eb_80cd_d03745a99ca0row13_col0,#T_6ec7628e_d818_11eb_80cd_d03745a99ca0row13_col1,#T_6ec7628e_d818_11eb_80cd_d03745a99ca0row13_col2,#T_6ec7628e_d818_11eb_80cd_d03745a99ca0row13_col3,#T_6ec7628e_d818_11eb_80cd_d03745a99ca0row13_col4,#T_6ec7628e_d818_11eb_80cd_d03745a99ca0row13_col5,#T_6ec7628e_d818_11eb_80cd_d03745a99ca0row13_col6,#T_6ec7628e_d818_11eb_80cd_d03745a99ca0row13_col7,#T_6ec7628e_d818_11eb_80cd_d03745a99ca0row14_col0,#T_6ec7628e_d818_11eb_80cd_d03745a99ca0row14_col1,#T_6ec7628e_d818_11eb_80cd_d03745a99ca0row14_col2,#T_6ec7628e_d818_11eb_80cd_d03745a99ca0row14_col3,#T_6ec7628e_d818_11eb_80cd_d03745a99ca0row14_col4,#T_6ec7628e_d818_11eb_80cd_d03745a99ca0row14_col5,#T_6ec7628e_d818_11eb_80cd_d03745a99ca0row14_col6,#T_6ec7628e_d818_11eb_80cd_d03745a99ca0row14_col7{\n",
       "            text-align:  left;\n",
       "            text-align:  left;\n",
       "        }#T_6ec7628e_d818_11eb_80cd_d03745a99ca0row0_col1,#T_6ec7628e_d818_11eb_80cd_d03745a99ca0row0_col2,#T_6ec7628e_d818_11eb_80cd_d03745a99ca0row1_col4,#T_6ec7628e_d818_11eb_80cd_d03745a99ca0row2_col5,#T_6ec7628e_d818_11eb_80cd_d03745a99ca0row2_col6,#T_6ec7628e_d818_11eb_80cd_d03745a99ca0row2_col7,#T_6ec7628e_d818_11eb_80cd_d03745a99ca0row11_col3{\n",
       "            text-align:  left;\n",
       "            text-align:  left;\n",
       "            background-color:  yellow;\n",
       "        }#T_6ec7628e_d818_11eb_80cd_d03745a99ca0row0_col8,#T_6ec7628e_d818_11eb_80cd_d03745a99ca0row1_col8,#T_6ec7628e_d818_11eb_80cd_d03745a99ca0row2_col8,#T_6ec7628e_d818_11eb_80cd_d03745a99ca0row3_col8,#T_6ec7628e_d818_11eb_80cd_d03745a99ca0row4_col8,#T_6ec7628e_d818_11eb_80cd_d03745a99ca0row5_col8,#T_6ec7628e_d818_11eb_80cd_d03745a99ca0row6_col8,#T_6ec7628e_d818_11eb_80cd_d03745a99ca0row7_col8,#T_6ec7628e_d818_11eb_80cd_d03745a99ca0row8_col8,#T_6ec7628e_d818_11eb_80cd_d03745a99ca0row9_col8,#T_6ec7628e_d818_11eb_80cd_d03745a99ca0row10_col8,#T_6ec7628e_d818_11eb_80cd_d03745a99ca0row11_col8,#T_6ec7628e_d818_11eb_80cd_d03745a99ca0row12_col8,#T_6ec7628e_d818_11eb_80cd_d03745a99ca0row13_col8{\n",
       "            text-align:  left;\n",
       "            text-align:  left;\n",
       "            background-color:  lightgrey;\n",
       "        }#T_6ec7628e_d818_11eb_80cd_d03745a99ca0row14_col8{\n",
       "            text-align:  left;\n",
       "            text-align:  left;\n",
       "            background-color:  yellow;\n",
       "            background-color:  lightgrey;\n",
       "        }</style><table id=\"T_6ec7628e_d818_11eb_80cd_d03745a99ca0\" ><thead>    <tr>        <th class=\"blank level0\" ></th>        <th class=\"col_heading level0 col0\" >Model</th>        <th class=\"col_heading level0 col1\" >Accuracy</th>        <th class=\"col_heading level0 col2\" >AUC</th>        <th class=\"col_heading level0 col3\" >Recall</th>        <th class=\"col_heading level0 col4\" >Prec.</th>        <th class=\"col_heading level0 col5\" >F1</th>        <th class=\"col_heading level0 col6\" >Kappa</th>        <th class=\"col_heading level0 col7\" >MCC</th>        <th class=\"col_heading level0 col8\" >TT (Sec)</th>    </tr></thead><tbody>\n",
       "                <tr>\n",
       "                        <th id=\"T_6ec7628e_d818_11eb_80cd_d03745a99ca0level0_row0\" class=\"row_heading level0 row0\" >lightgbm</th>\n",
       "                        <td id=\"T_6ec7628e_d818_11eb_80cd_d03745a99ca0row0_col0\" class=\"data row0 col0\" >Light Gradient Boosting Machine</td>\n",
       "                        <td id=\"T_6ec7628e_d818_11eb_80cd_d03745a99ca0row0_col1\" class=\"data row0 col1\" >0.7967</td>\n",
       "                        <td id=\"T_6ec7628e_d818_11eb_80cd_d03745a99ca0row0_col2\" class=\"data row0 col2\" >0.7984</td>\n",
       "                        <td id=\"T_6ec7628e_d818_11eb_80cd_d03745a99ca0row0_col3\" class=\"data row0 col3\" >0.6252</td>\n",
       "                        <td id=\"T_6ec7628e_d818_11eb_80cd_d03745a99ca0row0_col4\" class=\"data row0 col4\" >0.5869</td>\n",
       "                        <td id=\"T_6ec7628e_d818_11eb_80cd_d03745a99ca0row0_col5\" class=\"data row0 col5\" >0.6054</td>\n",
       "                        <td id=\"T_6ec7628e_d818_11eb_80cd_d03745a99ca0row0_col6\" class=\"data row0 col6\" >0.4687</td>\n",
       "                        <td id=\"T_6ec7628e_d818_11eb_80cd_d03745a99ca0row0_col7\" class=\"data row0 col7\" >0.4691</td>\n",
       "                        <td id=\"T_6ec7628e_d818_11eb_80cd_d03745a99ca0row0_col8\" class=\"data row0 col8\" >1.4340</td>\n",
       "            </tr>\n",
       "            <tr>\n",
       "                        <th id=\"T_6ec7628e_d818_11eb_80cd_d03745a99ca0level0_row1\" class=\"row_heading level0 row1\" >catboost</th>\n",
       "                        <td id=\"T_6ec7628e_d818_11eb_80cd_d03745a99ca0row1_col0\" class=\"data row1 col0\" >CatBoost Classifier</td>\n",
       "                        <td id=\"T_6ec7628e_d818_11eb_80cd_d03745a99ca0row1_col1\" class=\"data row1 col1\" >0.7961</td>\n",
       "                        <td id=\"T_6ec7628e_d818_11eb_80cd_d03745a99ca0row1_col2\" class=\"data row1 col2\" >0.7970</td>\n",
       "                        <td id=\"T_6ec7628e_d818_11eb_80cd_d03745a99ca0row1_col3\" class=\"data row1 col3\" >0.5965</td>\n",
       "                        <td id=\"T_6ec7628e_d818_11eb_80cd_d03745a99ca0row1_col4\" class=\"data row1 col4\" >0.5905</td>\n",
       "                        <td id=\"T_6ec7628e_d818_11eb_80cd_d03745a99ca0row1_col5\" class=\"data row1 col5\" >0.5934</td>\n",
       "                        <td id=\"T_6ec7628e_d818_11eb_80cd_d03745a99ca0row1_col6\" class=\"data row1 col6\" >0.4574</td>\n",
       "                        <td id=\"T_6ec7628e_d818_11eb_80cd_d03745a99ca0row1_col7\" class=\"data row1 col7\" >0.4575</td>\n",
       "                        <td id=\"T_6ec7628e_d818_11eb_80cd_d03745a99ca0row1_col8\" class=\"data row1 col8\" >10.7340</td>\n",
       "            </tr>\n",
       "            <tr>\n",
       "                        <th id=\"T_6ec7628e_d818_11eb_80cd_d03745a99ca0level0_row2\" class=\"row_heading level0 row2\" >gbc</th>\n",
       "                        <td id=\"T_6ec7628e_d818_11eb_80cd_d03745a99ca0row2_col0\" class=\"data row2 col0\" >Gradient Boosting Classifier</td>\n",
       "                        <td id=\"T_6ec7628e_d818_11eb_80cd_d03745a99ca0row2_col1\" class=\"data row2 col1\" >0.7919</td>\n",
       "                        <td id=\"T_6ec7628e_d818_11eb_80cd_d03745a99ca0row2_col2\" class=\"data row2 col2\" >0.7953</td>\n",
       "                        <td id=\"T_6ec7628e_d818_11eb_80cd_d03745a99ca0row2_col3\" class=\"data row2 col3\" >0.6958</td>\n",
       "                        <td id=\"T_6ec7628e_d818_11eb_80cd_d03745a99ca0row2_col4\" class=\"data row2 col4\" >0.5677</td>\n",
       "                        <td id=\"T_6ec7628e_d818_11eb_80cd_d03745a99ca0row2_col5\" class=\"data row2 col5\" >0.6252</td>\n",
       "                        <td id=\"T_6ec7628e_d818_11eb_80cd_d03745a99ca0row2_col6\" class=\"data row2 col6\" >0.4832</td>\n",
       "                        <td id=\"T_6ec7628e_d818_11eb_80cd_d03745a99ca0row2_col7\" class=\"data row2 col7\" >0.4881</td>\n",
       "                        <td id=\"T_6ec7628e_d818_11eb_80cd_d03745a99ca0row2_col8\" class=\"data row2 col8\" >3.3040</td>\n",
       "            </tr>\n",
       "            <tr>\n",
       "                        <th id=\"T_6ec7628e_d818_11eb_80cd_d03745a99ca0level0_row3\" class=\"row_heading level0 row3\" >lr</th>\n",
       "                        <td id=\"T_6ec7628e_d818_11eb_80cd_d03745a99ca0row3_col0\" class=\"data row3 col0\" >Logistic Regression</td>\n",
       "                        <td id=\"T_6ec7628e_d818_11eb_80cd_d03745a99ca0row3_col1\" class=\"data row3 col1\" >0.7718</td>\n",
       "                        <td id=\"T_6ec7628e_d818_11eb_80cd_d03745a99ca0row3_col2\" class=\"data row3 col2\" >0.7931</td>\n",
       "                        <td id=\"T_6ec7628e_d818_11eb_80cd_d03745a99ca0row3_col3\" class=\"data row3 col3\" >0.7314</td>\n",
       "                        <td id=\"T_6ec7628e_d818_11eb_80cd_d03745a99ca0row3_col4\" class=\"data row3 col4\" >0.5309</td>\n",
       "                        <td id=\"T_6ec7628e_d818_11eb_80cd_d03745a99ca0row3_col5\" class=\"data row3 col5\" >0.6152</td>\n",
       "                        <td id=\"T_6ec7628e_d818_11eb_80cd_d03745a99ca0row3_col6\" class=\"data row3 col6\" >0.4588</td>\n",
       "                        <td id=\"T_6ec7628e_d818_11eb_80cd_d03745a99ca0row3_col7\" class=\"data row3 col7\" >0.4707</td>\n",
       "                        <td id=\"T_6ec7628e_d818_11eb_80cd_d03745a99ca0row3_col8\" class=\"data row3 col8\" >3.3420</td>\n",
       "            </tr>\n",
       "            <tr>\n",
       "                        <th id=\"T_6ec7628e_d818_11eb_80cd_d03745a99ca0level0_row4\" class=\"row_heading level0 row4\" >lda</th>\n",
       "                        <td id=\"T_6ec7628e_d818_11eb_80cd_d03745a99ca0row4_col0\" class=\"data row4 col0\" >Linear Discriminant Analysis</td>\n",
       "                        <td id=\"T_6ec7628e_d818_11eb_80cd_d03745a99ca0row4_col1\" class=\"data row4 col1\" >0.7731</td>\n",
       "                        <td id=\"T_6ec7628e_d818_11eb_80cd_d03745a99ca0row4_col2\" class=\"data row4 col2\" >0.7919</td>\n",
       "                        <td id=\"T_6ec7628e_d818_11eb_80cd_d03745a99ca0row4_col3\" class=\"data row4 col3\" >0.7254</td>\n",
       "                        <td id=\"T_6ec7628e_d818_11eb_80cd_d03745a99ca0row4_col4\" class=\"data row4 col4\" >0.5330</td>\n",
       "                        <td id=\"T_6ec7628e_d818_11eb_80cd_d03745a99ca0row4_col5\" class=\"data row4 col5\" >0.6145</td>\n",
       "                        <td id=\"T_6ec7628e_d818_11eb_80cd_d03745a99ca0row4_col6\" class=\"data row4 col6\" >0.4590</td>\n",
       "                        <td id=\"T_6ec7628e_d818_11eb_80cd_d03745a99ca0row4_col7\" class=\"data row4 col7\" >0.4700</td>\n",
       "                        <td id=\"T_6ec7628e_d818_11eb_80cd_d03745a99ca0row4_col8\" class=\"data row4 col8\" >1.2760</td>\n",
       "            </tr>\n",
       "            <tr>\n",
       "                        <th id=\"T_6ec7628e_d818_11eb_80cd_d03745a99ca0level0_row5\" class=\"row_heading level0 row5\" >rf</th>\n",
       "                        <td id=\"T_6ec7628e_d818_11eb_80cd_d03745a99ca0row5_col0\" class=\"data row5 col0\" >Random Forest Classifier</td>\n",
       "                        <td id=\"T_6ec7628e_d818_11eb_80cd_d03745a99ca0row5_col1\" class=\"data row5 col1\" >0.7853</td>\n",
       "                        <td id=\"T_6ec7628e_d818_11eb_80cd_d03745a99ca0row5_col2\" class=\"data row5 col2\" >0.7882</td>\n",
       "                        <td id=\"T_6ec7628e_d818_11eb_80cd_d03745a99ca0row5_col3\" class=\"data row5 col3\" >0.5217</td>\n",
       "                        <td id=\"T_6ec7628e_d818_11eb_80cd_d03745a99ca0row5_col4\" class=\"data row5 col4\" >0.5769</td>\n",
       "                        <td id=\"T_6ec7628e_d818_11eb_80cd_d03745a99ca0row5_col5\" class=\"data row5 col5\" >0.5479</td>\n",
       "                        <td id=\"T_6ec7628e_d818_11eb_80cd_d03745a99ca0row5_col6\" class=\"data row5 col6\" >0.4076</td>\n",
       "                        <td id=\"T_6ec7628e_d818_11eb_80cd_d03745a99ca0row5_col7\" class=\"data row5 col7\" >0.4085</td>\n",
       "                        <td id=\"T_6ec7628e_d818_11eb_80cd_d03745a99ca0row5_col8\" class=\"data row5 col8\" >2.1720</td>\n",
       "            </tr>\n",
       "            <tr>\n",
       "                        <th id=\"T_6ec7628e_d818_11eb_80cd_d03745a99ca0level0_row6\" class=\"row_heading level0 row6\" >ada</th>\n",
       "                        <td id=\"T_6ec7628e_d818_11eb_80cd_d03745a99ca0row6_col0\" class=\"data row6 col0\" >Ada Boost Classifier</td>\n",
       "                        <td id=\"T_6ec7628e_d818_11eb_80cd_d03745a99ca0row6_col1\" class=\"data row6 col1\" >0.7804</td>\n",
       "                        <td id=\"T_6ec7628e_d818_11eb_80cd_d03745a99ca0row6_col2\" class=\"data row6 col2\" >0.7835</td>\n",
       "                        <td id=\"T_6ec7628e_d818_11eb_80cd_d03745a99ca0row6_col3\" class=\"data row6 col3\" >0.6647</td>\n",
       "                        <td id=\"T_6ec7628e_d818_11eb_80cd_d03745a99ca0row6_col4\" class=\"data row6 col4\" >0.5494</td>\n",
       "                        <td id=\"T_6ec7628e_d818_11eb_80cd_d03745a99ca0row6_col5\" class=\"data row6 col5\" >0.6014</td>\n",
       "                        <td id=\"T_6ec7628e_d818_11eb_80cd_d03745a99ca0row6_col6\" class=\"data row6 col6\" >0.4517</td>\n",
       "                        <td id=\"T_6ec7628e_d818_11eb_80cd_d03745a99ca0row6_col7\" class=\"data row6 col7\" >0.4558</td>\n",
       "                        <td id=\"T_6ec7628e_d818_11eb_80cd_d03745a99ca0row6_col8\" class=\"data row6 col8\" >1.4220</td>\n",
       "            </tr>\n",
       "            <tr>\n",
       "                        <th id=\"T_6ec7628e_d818_11eb_80cd_d03745a99ca0level0_row7\" class=\"row_heading level0 row7\" >et</th>\n",
       "                        <td id=\"T_6ec7628e_d818_11eb_80cd_d03745a99ca0row7_col0\" class=\"data row7 col0\" >Extra Trees Classifier</td>\n",
       "                        <td id=\"T_6ec7628e_d818_11eb_80cd_d03745a99ca0row7_col1\" class=\"data row7 col1\" >0.7767</td>\n",
       "                        <td id=\"T_6ec7628e_d818_11eb_80cd_d03745a99ca0row7_col2\" class=\"data row7 col2\" >0.7664</td>\n",
       "                        <td id=\"T_6ec7628e_d818_11eb_80cd_d03745a99ca0row7_col3\" class=\"data row7 col3\" >0.4820</td>\n",
       "                        <td id=\"T_6ec7628e_d818_11eb_80cd_d03745a99ca0row7_col4\" class=\"data row7 col4\" >0.5607</td>\n",
       "                        <td id=\"T_6ec7628e_d818_11eb_80cd_d03745a99ca0row7_col5\" class=\"data row7 col5\" >0.5183</td>\n",
       "                        <td id=\"T_6ec7628e_d818_11eb_80cd_d03745a99ca0row7_col6\" class=\"data row7 col6\" >0.3741</td>\n",
       "                        <td id=\"T_6ec7628e_d818_11eb_80cd_d03745a99ca0row7_col7\" class=\"data row7 col7\" >0.3759</td>\n",
       "                        <td id=\"T_6ec7628e_d818_11eb_80cd_d03745a99ca0row7_col8\" class=\"data row7 col8\" >2.6460</td>\n",
       "            </tr>\n",
       "            <tr>\n",
       "                        <th id=\"T_6ec7628e_d818_11eb_80cd_d03745a99ca0level0_row8\" class=\"row_heading level0 row8\" >knn</th>\n",
       "                        <td id=\"T_6ec7628e_d818_11eb_80cd_d03745a99ca0row8_col0\" class=\"data row8 col0\" >K Neighbors Classifier</td>\n",
       "                        <td id=\"T_6ec7628e_d818_11eb_80cd_d03745a99ca0row8_col1\" class=\"data row8 col1\" >0.6443</td>\n",
       "                        <td id=\"T_6ec7628e_d818_11eb_80cd_d03745a99ca0row8_col2\" class=\"data row8 col2\" >0.7254</td>\n",
       "                        <td id=\"T_6ec7628e_d818_11eb_80cd_d03745a99ca0row8_col3\" class=\"data row8 col3\" >0.7600</td>\n",
       "                        <td id=\"T_6ec7628e_d818_11eb_80cd_d03745a99ca0row8_col4\" class=\"data row8 col4\" >0.3905</td>\n",
       "                        <td id=\"T_6ec7628e_d818_11eb_80cd_d03745a99ca0row8_col5\" class=\"data row8 col5\" >0.5158</td>\n",
       "                        <td id=\"T_6ec7628e_d818_11eb_80cd_d03745a99ca0row8_col6\" class=\"data row8 col6\" >0.2780</td>\n",
       "                        <td id=\"T_6ec7628e_d818_11eb_80cd_d03745a99ca0row8_col7\" class=\"data row8 col7\" >0.3168</td>\n",
       "                        <td id=\"T_6ec7628e_d818_11eb_80cd_d03745a99ca0row8_col8\" class=\"data row8 col8\" >8.8660</td>\n",
       "            </tr>\n",
       "            <tr>\n",
       "                        <th id=\"T_6ec7628e_d818_11eb_80cd_d03745a99ca0level0_row9\" class=\"row_heading level0 row9\" >dt</th>\n",
       "                        <td id=\"T_6ec7628e_d818_11eb_80cd_d03745a99ca0row9_col0\" class=\"data row9 col0\" >Decision Tree Classifier</td>\n",
       "                        <td id=\"T_6ec7628e_d818_11eb_80cd_d03745a99ca0row9_col1\" class=\"data row9 col1\" >0.7231</td>\n",
       "                        <td id=\"T_6ec7628e_d818_11eb_80cd_d03745a99ca0row9_col2\" class=\"data row9 col2\" >0.6401</td>\n",
       "                        <td id=\"T_6ec7628e_d818_11eb_80cd_d03745a99ca0row9_col3\" class=\"data row9 col3\" >0.4731</td>\n",
       "                        <td id=\"T_6ec7628e_d818_11eb_80cd_d03745a99ca0row9_col4\" class=\"data row9 col4\" >0.4478</td>\n",
       "                        <td id=\"T_6ec7628e_d818_11eb_80cd_d03745a99ca0row9_col5\" class=\"data row9 col5\" >0.4599</td>\n",
       "                        <td id=\"T_6ec7628e_d818_11eb_80cd_d03745a99ca0row9_col6\" class=\"data row9 col6\" >0.2739</td>\n",
       "                        <td id=\"T_6ec7628e_d818_11eb_80cd_d03745a99ca0row9_col7\" class=\"data row9 col7\" >0.2742</td>\n",
       "                        <td id=\"T_6ec7628e_d818_11eb_80cd_d03745a99ca0row9_col8\" class=\"data row9 col8\" >0.9920</td>\n",
       "            </tr>\n",
       "            <tr>\n",
       "                        <th id=\"T_6ec7628e_d818_11eb_80cd_d03745a99ca0level0_row10\" class=\"row_heading level0 row10\" >nb</th>\n",
       "                        <td id=\"T_6ec7628e_d818_11eb_80cd_d03745a99ca0row10_col0\" class=\"data row10 col0\" >Naive Bayes</td>\n",
       "                        <td id=\"T_6ec7628e_d818_11eb_80cd_d03745a99ca0row10_col1\" class=\"data row10 col1\" >0.4309</td>\n",
       "                        <td id=\"T_6ec7628e_d818_11eb_80cd_d03745a99ca0row10_col2\" class=\"data row10 col2\" >0.6163</td>\n",
       "                        <td id=\"T_6ec7628e_d818_11eb_80cd_d03745a99ca0row10_col3\" class=\"data row10 col3\" >0.8543</td>\n",
       "                        <td id=\"T_6ec7628e_d818_11eb_80cd_d03745a99ca0row10_col4\" class=\"data row10 col4\" >0.2858</td>\n",
       "                        <td id=\"T_6ec7628e_d818_11eb_80cd_d03745a99ca0row10_col5\" class=\"data row10 col5\" >0.4283</td>\n",
       "                        <td id=\"T_6ec7628e_d818_11eb_80cd_d03745a99ca0row10_col6\" class=\"data row10 col6\" >0.0871</td>\n",
       "                        <td id=\"T_6ec7628e_d818_11eb_80cd_d03745a99ca0row10_col7\" class=\"data row10 col7\" >0.1433</td>\n",
       "                        <td id=\"T_6ec7628e_d818_11eb_80cd_d03745a99ca0row10_col8\" class=\"data row10 col8\" >0.9520</td>\n",
       "            </tr>\n",
       "            <tr>\n",
       "                        <th id=\"T_6ec7628e_d818_11eb_80cd_d03745a99ca0level0_row11\" class=\"row_heading level0 row11\" >qda</th>\n",
       "                        <td id=\"T_6ec7628e_d818_11eb_80cd_d03745a99ca0row11_col0\" class=\"data row11 col0\" >Quadratic Discriminant Analysis</td>\n",
       "                        <td id=\"T_6ec7628e_d818_11eb_80cd_d03745a99ca0row11_col1\" class=\"data row11 col1\" >0.2521</td>\n",
       "                        <td id=\"T_6ec7628e_d818_11eb_80cd_d03745a99ca0row11_col2\" class=\"data row11 col2\" >0.5013</td>\n",
       "                        <td id=\"T_6ec7628e_d818_11eb_80cd_d03745a99ca0row11_col3\" class=\"data row11 col3\" >0.9985</td>\n",
       "                        <td id=\"T_6ec7628e_d818_11eb_80cd_d03745a99ca0row11_col4\" class=\"data row11 col4\" >0.2498</td>\n",
       "                        <td id=\"T_6ec7628e_d818_11eb_80cd_d03745a99ca0row11_col5\" class=\"data row11 col5\" >0.3997</td>\n",
       "                        <td id=\"T_6ec7628e_d818_11eb_80cd_d03745a99ca0row11_col6\" class=\"data row11 col6\" >0.0013</td>\n",
       "                        <td id=\"T_6ec7628e_d818_11eb_80cd_d03745a99ca0row11_col7\" class=\"data row11 col7\" >0.0189</td>\n",
       "                        <td id=\"T_6ec7628e_d818_11eb_80cd_d03745a99ca0row11_col8\" class=\"data row11 col8\" >1.0980</td>\n",
       "            </tr>\n",
       "            <tr>\n",
       "                        <th id=\"T_6ec7628e_d818_11eb_80cd_d03745a99ca0level0_row12\" class=\"row_heading level0 row12\" >svm</th>\n",
       "                        <td id=\"T_6ec7628e_d818_11eb_80cd_d03745a99ca0row12_col0\" class=\"data row12 col0\" >SVM - Linear Kernel</td>\n",
       "                        <td id=\"T_6ec7628e_d818_11eb_80cd_d03745a99ca0row12_col1\" class=\"data row12 col1\" >0.7583</td>\n",
       "                        <td id=\"T_6ec7628e_d818_11eb_80cd_d03745a99ca0row12_col2\" class=\"data row12 col2\" >0.0000</td>\n",
       "                        <td id=\"T_6ec7628e_d818_11eb_80cd_d03745a99ca0row12_col3\" class=\"data row12 col3\" >0.7351</td>\n",
       "                        <td id=\"T_6ec7628e_d818_11eb_80cd_d03745a99ca0row12_col4\" class=\"data row12 col4\" >0.5108</td>\n",
       "                        <td id=\"T_6ec7628e_d818_11eb_80cd_d03745a99ca0row12_col5\" class=\"data row12 col5\" >0.6028</td>\n",
       "                        <td id=\"T_6ec7628e_d818_11eb_80cd_d03745a99ca0row12_col6\" class=\"data row12 col6\" >0.4371</td>\n",
       "                        <td id=\"T_6ec7628e_d818_11eb_80cd_d03745a99ca0row12_col7\" class=\"data row12 col7\" >0.4520</td>\n",
       "                        <td id=\"T_6ec7628e_d818_11eb_80cd_d03745a99ca0row12_col8\" class=\"data row12 col8\" >1.1320</td>\n",
       "            </tr>\n",
       "            <tr>\n",
       "                        <th id=\"T_6ec7628e_d818_11eb_80cd_d03745a99ca0level0_row13\" class=\"row_heading level0 row13\" >ridge</th>\n",
       "                        <td id=\"T_6ec7628e_d818_11eb_80cd_d03745a99ca0row13_col0\" class=\"data row13 col0\" >Ridge Classifier</td>\n",
       "                        <td id=\"T_6ec7628e_d818_11eb_80cd_d03745a99ca0row13_col1\" class=\"data row13 col1\" >0.7737</td>\n",
       "                        <td id=\"T_6ec7628e_d818_11eb_80cd_d03745a99ca0row13_col2\" class=\"data row13 col2\" >0.0000</td>\n",
       "                        <td id=\"T_6ec7628e_d818_11eb_80cd_d03745a99ca0row13_col3\" class=\"data row13 col3\" >0.7257</td>\n",
       "                        <td id=\"T_6ec7628e_d818_11eb_80cd_d03745a99ca0row13_col4\" class=\"data row13 col4\" >0.5341</td>\n",
       "                        <td id=\"T_6ec7628e_d818_11eb_80cd_d03745a99ca0row13_col5\" class=\"data row13 col5\" >0.6153</td>\n",
       "                        <td id=\"T_6ec7628e_d818_11eb_80cd_d03745a99ca0row13_col6\" class=\"data row13 col6\" >0.4602</td>\n",
       "                        <td id=\"T_6ec7628e_d818_11eb_80cd_d03745a99ca0row13_col7\" class=\"data row13 col7\" >0.4711</td>\n",
       "                        <td id=\"T_6ec7628e_d818_11eb_80cd_d03745a99ca0row13_col8\" class=\"data row13 col8\" >0.9820</td>\n",
       "            </tr>\n",
       "            <tr>\n",
       "                        <th id=\"T_6ec7628e_d818_11eb_80cd_d03745a99ca0level0_row14\" class=\"row_heading level0 row14\" >xgboost</th>\n",
       "                        <td id=\"T_6ec7628e_d818_11eb_80cd_d03745a99ca0row14_col0\" class=\"data row14 col0\" >Extreme Gradient Boosting</td>\n",
       "                        <td id=\"T_6ec7628e_d818_11eb_80cd_d03745a99ca0row14_col1\" class=\"data row14 col1\" >0.0000</td>\n",
       "                        <td id=\"T_6ec7628e_d818_11eb_80cd_d03745a99ca0row14_col2\" class=\"data row14 col2\" >0.0000</td>\n",
       "                        <td id=\"T_6ec7628e_d818_11eb_80cd_d03745a99ca0row14_col3\" class=\"data row14 col3\" >0.0000</td>\n",
       "                        <td id=\"T_6ec7628e_d818_11eb_80cd_d03745a99ca0row14_col4\" class=\"data row14 col4\" >0.0000</td>\n",
       "                        <td id=\"T_6ec7628e_d818_11eb_80cd_d03745a99ca0row14_col5\" class=\"data row14 col5\" >0.0000</td>\n",
       "                        <td id=\"T_6ec7628e_d818_11eb_80cd_d03745a99ca0row14_col6\" class=\"data row14 col6\" >0.0000</td>\n",
       "                        <td id=\"T_6ec7628e_d818_11eb_80cd_d03745a99ca0row14_col7\" class=\"data row14 col7\" >0.0000</td>\n",
       "                        <td id=\"T_6ec7628e_d818_11eb_80cd_d03745a99ca0row14_col8\" class=\"data row14 col8\" >0.8900</td>\n",
       "            </tr>\n",
       "    </tbody></table>"
      ],
      "text/plain": [
       "<pandas.io.formats.style.Styler at 0x2899bef6a90>"
      ]
     },
     "metadata": {},
     "output_type": "display_data"
    },
    {
     "data": {
      "text/plain": [
       "LGBMClassifier(boosting_type='gbdt', class_weight=None, colsample_bytree=1.0,\n",
       "               importance_type='split', learning_rate=0.1, max_depth=-1,\n",
       "               min_child_samples=20, min_child_weight=0.001, min_split_gain=0.0,\n",
       "               n_estimators=100, n_jobs=-1, num_leaves=31, objective=None,\n",
       "               random_state=4000, reg_alpha=0.0, reg_lambda=0.0, silent=True,\n",
       "               subsample=1.0, subsample_for_bin=200000, subsample_freq=0)"
      ]
     },
     "execution_count": 51,
     "metadata": {},
     "output_type": "execute_result"
    }
   ],
   "source": [
    "compare_models(sort='AUC')"
   ]
  },
  {
   "cell_type": "code",
   "execution_count": 39,
   "metadata": {},
   "outputs": [
    {
     "data": {
      "text/html": [
       "<style  type=\"text/css\" >\n",
       "#T_e80c3717_d7f1_11eb_b95a_d03745a99ca0row5_col0,#T_e80c3717_d7f1_11eb_b95a_d03745a99ca0row5_col1,#T_e80c3717_d7f1_11eb_b95a_d03745a99ca0row5_col2,#T_e80c3717_d7f1_11eb_b95a_d03745a99ca0row5_col3,#T_e80c3717_d7f1_11eb_b95a_d03745a99ca0row5_col4,#T_e80c3717_d7f1_11eb_b95a_d03745a99ca0row5_col5,#T_e80c3717_d7f1_11eb_b95a_d03745a99ca0row5_col6{\n",
       "            background:  yellow;\n",
       "        }</style><table id=\"T_e80c3717_d7f1_11eb_b95a_d03745a99ca0\" ><thead>    <tr>        <th class=\"blank level0\" ></th>        <th class=\"col_heading level0 col0\" >Accuracy</th>        <th class=\"col_heading level0 col1\" >AUC</th>        <th class=\"col_heading level0 col2\" >Recall</th>        <th class=\"col_heading level0 col3\" >Prec.</th>        <th class=\"col_heading level0 col4\" >F1</th>        <th class=\"col_heading level0 col5\" >Kappa</th>        <th class=\"col_heading level0 col6\" >MCC</th>    </tr></thead><tbody>\n",
       "                <tr>\n",
       "                        <th id=\"T_e80c3717_d7f1_11eb_b95a_d03745a99ca0level0_row0\" class=\"row_heading level0 row0\" >0</th>\n",
       "                        <td id=\"T_e80c3717_d7f1_11eb_b95a_d03745a99ca0row0_col0\" class=\"data row0 col0\" >0.7815</td>\n",
       "                        <td id=\"T_e80c3717_d7f1_11eb_b95a_d03745a99ca0row0_col1\" class=\"data row0 col1\" >0.7997</td>\n",
       "                        <td id=\"T_e80c3717_d7f1_11eb_b95a_d03745a99ca0row0_col2\" class=\"data row0 col2\" >0.7346</td>\n",
       "                        <td id=\"T_e80c3717_d7f1_11eb_b95a_d03745a99ca0row0_col3\" class=\"data row0 col3\" >0.5459</td>\n",
       "                        <td id=\"T_e80c3717_d7f1_11eb_b95a_d03745a99ca0row0_col4\" class=\"data row0 col4\" >0.6263</td>\n",
       "                        <td id=\"T_e80c3717_d7f1_11eb_b95a_d03745a99ca0row0_col5\" class=\"data row0 col5\" >0.4766</td>\n",
       "                        <td id=\"T_e80c3717_d7f1_11eb_b95a_d03745a99ca0row0_col6\" class=\"data row0 col6\" >0.4871</td>\n",
       "            </tr>\n",
       "            <tr>\n",
       "                        <th id=\"T_e80c3717_d7f1_11eb_b95a_d03745a99ca0level0_row1\" class=\"row_heading level0 row1\" >1</th>\n",
       "                        <td id=\"T_e80c3717_d7f1_11eb_b95a_d03745a99ca0row1_col0\" class=\"data row1 col0\" >0.8042</td>\n",
       "                        <td id=\"T_e80c3717_d7f1_11eb_b95a_d03745a99ca0row1_col1\" class=\"data row1 col1\" >0.8177</td>\n",
       "                        <td id=\"T_e80c3717_d7f1_11eb_b95a_d03745a99ca0row1_col2\" class=\"data row1 col2\" >0.7506</td>\n",
       "                        <td id=\"T_e80c3717_d7f1_11eb_b95a_d03745a99ca0row1_col3\" class=\"data row1 col3\" >0.5835</td>\n",
       "                        <td id=\"T_e80c3717_d7f1_11eb_b95a_d03745a99ca0row1_col4\" class=\"data row1 col4\" >0.6566</td>\n",
       "                        <td id=\"T_e80c3717_d7f1_11eb_b95a_d03745a99ca0row1_col5\" class=\"data row1 col5\" >0.5227</td>\n",
       "                        <td id=\"T_e80c3717_d7f1_11eb_b95a_d03745a99ca0row1_col6\" class=\"data row1 col6\" >0.5308</td>\n",
       "            </tr>\n",
       "            <tr>\n",
       "                        <th id=\"T_e80c3717_d7f1_11eb_b95a_d03745a99ca0level0_row2\" class=\"row_heading level0 row2\" >2</th>\n",
       "                        <td id=\"T_e80c3717_d7f1_11eb_b95a_d03745a99ca0row2_col0\" class=\"data row2 col0\" >0.7685</td>\n",
       "                        <td id=\"T_e80c3717_d7f1_11eb_b95a_d03745a99ca0row2_col1\" class=\"data row2 col1\" >0.7788</td>\n",
       "                        <td id=\"T_e80c3717_d7f1_11eb_b95a_d03745a99ca0row2_col2\" class=\"data row2 col2\" >0.6975</td>\n",
       "                        <td id=\"T_e80c3717_d7f1_11eb_b95a_d03745a99ca0row2_col3\" class=\"data row2 col3\" >0.5271</td>\n",
       "                        <td id=\"T_e80c3717_d7f1_11eb_b95a_d03745a99ca0row2_col4\" class=\"data row2 col4\" >0.6004</td>\n",
       "                        <td id=\"T_e80c3717_d7f1_11eb_b95a_d03745a99ca0row2_col5\" class=\"data row2 col5\" >0.4419</td>\n",
       "                        <td id=\"T_e80c3717_d7f1_11eb_b95a_d03745a99ca0row2_col6\" class=\"data row2 col6\" >0.4505</td>\n",
       "            </tr>\n",
       "            <tr>\n",
       "                        <th id=\"T_e80c3717_d7f1_11eb_b95a_d03745a99ca0level0_row3\" class=\"row_heading level0 row3\" >3</th>\n",
       "                        <td id=\"T_e80c3717_d7f1_11eb_b95a_d03745a99ca0row3_col0\" class=\"data row3 col0\" >0.7777</td>\n",
       "                        <td id=\"T_e80c3717_d7f1_11eb_b95a_d03745a99ca0row3_col1\" class=\"data row3 col1\" >0.7913</td>\n",
       "                        <td id=\"T_e80c3717_d7f1_11eb_b95a_d03745a99ca0row3_col2\" class=\"data row3 col2\" >0.7136</td>\n",
       "                        <td id=\"T_e80c3717_d7f1_11eb_b95a_d03745a99ca0row3_col3\" class=\"data row3 col3\" >0.5412</td>\n",
       "                        <td id=\"T_e80c3717_d7f1_11eb_b95a_d03745a99ca0row3_col4\" class=\"data row3 col4\" >0.6155</td>\n",
       "                        <td id=\"T_e80c3717_d7f1_11eb_b95a_d03745a99ca0row3_col5\" class=\"data row3 col5\" >0.4633</td>\n",
       "                        <td id=\"T_e80c3717_d7f1_11eb_b95a_d03745a99ca0row3_col6\" class=\"data row3 col6\" >0.4721</td>\n",
       "            </tr>\n",
       "            <tr>\n",
       "                        <th id=\"T_e80c3717_d7f1_11eb_b95a_d03745a99ca0level0_row4\" class=\"row_heading level0 row4\" >4</th>\n",
       "                        <td id=\"T_e80c3717_d7f1_11eb_b95a_d03745a99ca0row4_col0\" class=\"data row4 col0\" >0.7909</td>\n",
       "                        <td id=\"T_e80c3717_d7f1_11eb_b95a_d03745a99ca0row4_col1\" class=\"data row4 col1\" >0.7998</td>\n",
       "                        <td id=\"T_e80c3717_d7f1_11eb_b95a_d03745a99ca0row4_col2\" class=\"data row4 col2\" >0.7358</td>\n",
       "                        <td id=\"T_e80c3717_d7f1_11eb_b95a_d03745a99ca0row4_col3\" class=\"data row4 col3\" >0.5617</td>\n",
       "                        <td id=\"T_e80c3717_d7f1_11eb_b95a_d03745a99ca0row4_col4\" class=\"data row4 col4\" >0.6371</td>\n",
       "                        <td id=\"T_e80c3717_d7f1_11eb_b95a_d03745a99ca0row4_col5\" class=\"data row4 col5\" >0.4940</td>\n",
       "                        <td id=\"T_e80c3717_d7f1_11eb_b95a_d03745a99ca0row4_col6\" class=\"data row4 col6\" >0.5028</td>\n",
       "            </tr>\n",
       "            <tr>\n",
       "                        <th id=\"T_e80c3717_d7f1_11eb_b95a_d03745a99ca0level0_row5\" class=\"row_heading level0 row5\" >Mean</th>\n",
       "                        <td id=\"T_e80c3717_d7f1_11eb_b95a_d03745a99ca0row5_col0\" class=\"data row5 col0\" >0.7846</td>\n",
       "                        <td id=\"T_e80c3717_d7f1_11eb_b95a_d03745a99ca0row5_col1\" class=\"data row5 col1\" >0.7975</td>\n",
       "                        <td id=\"T_e80c3717_d7f1_11eb_b95a_d03745a99ca0row5_col2\" class=\"data row5 col2\" >0.7264</td>\n",
       "                        <td id=\"T_e80c3717_d7f1_11eb_b95a_d03745a99ca0row5_col3\" class=\"data row5 col3\" >0.5519</td>\n",
       "                        <td id=\"T_e80c3717_d7f1_11eb_b95a_d03745a99ca0row5_col4\" class=\"data row5 col4\" >0.6272</td>\n",
       "                        <td id=\"T_e80c3717_d7f1_11eb_b95a_d03745a99ca0row5_col5\" class=\"data row5 col5\" >0.4797</td>\n",
       "                        <td id=\"T_e80c3717_d7f1_11eb_b95a_d03745a99ca0row5_col6\" class=\"data row5 col6\" >0.4887</td>\n",
       "            </tr>\n",
       "            <tr>\n",
       "                        <th id=\"T_e80c3717_d7f1_11eb_b95a_d03745a99ca0level0_row6\" class=\"row_heading level0 row6\" >SD</th>\n",
       "                        <td id=\"T_e80c3717_d7f1_11eb_b95a_d03745a99ca0row6_col0\" class=\"data row6 col0\" >0.0122</td>\n",
       "                        <td id=\"T_e80c3717_d7f1_11eb_b95a_d03745a99ca0row6_col1\" class=\"data row6 col1\" >0.0127</td>\n",
       "                        <td id=\"T_e80c3717_d7f1_11eb_b95a_d03745a99ca0row6_col2\" class=\"data row6 col2\" >0.0187</td>\n",
       "                        <td id=\"T_e80c3717_d7f1_11eb_b95a_d03745a99ca0row6_col3\" class=\"data row6 col3\" >0.0193</td>\n",
       "                        <td id=\"T_e80c3717_d7f1_11eb_b95a_d03745a99ca0row6_col4\" class=\"data row6 col4\" >0.0191</td>\n",
       "                        <td id=\"T_e80c3717_d7f1_11eb_b95a_d03745a99ca0row6_col5\" class=\"data row6 col5\" >0.0274</td>\n",
       "                        <td id=\"T_e80c3717_d7f1_11eb_b95a_d03745a99ca0row6_col6\" class=\"data row6 col6\" >0.0273</td>\n",
       "            </tr>\n",
       "    </tbody></table>"
      ],
      "text/plain": [
       "<pandas.io.formats.style.Styler at 0x289e24dd700>"
      ]
     },
     "metadata": {},
     "output_type": "display_data"
    }
   ],
   "source": [
    "rf_tuned = tune_model(create_model('rf'), \n",
    "                       n_iter=100,\n",
    "                       optimize='AUC')"
   ]
  },
  {
   "cell_type": "code",
   "execution_count": 145,
   "metadata": {},
   "outputs": [
    {
     "data": {
      "text/plain": [
       "RandomForestClassifier(bootstrap=False, ccp_alpha=0.0,\n",
       "                       class_weight='balanced_subsample', criterion='gini',\n",
       "                       max_depth=10, max_features='sqrt', max_leaf_nodes=None,\n",
       "                       max_samples=None, min_impurity_decrease=0.0001,\n",
       "                       min_impurity_split=None, min_samples_leaf=6,\n",
       "                       min_samples_split=7, min_weight_fraction_leaf=0.0,\n",
       "                       n_estimators=290, n_jobs=-1, oob_score=False,\n",
       "                       random_state=4000, verbose=0, warm_start=False)"
      ]
     },
     "execution_count": 145,
     "metadata": {},
     "output_type": "execute_result"
    }
   ],
   "source": [
    "rf_tuned"
   ]
  },
  {
   "cell_type": "code",
   "execution_count": 34,
   "metadata": {},
   "outputs": [
    {
     "data": {
      "text/html": [
       "<style  type=\"text/css\" >\n",
       "#T_e7b1f240_d7ed_11eb_8d38_d03745a99ca0row5_col0,#T_e7b1f240_d7ed_11eb_8d38_d03745a99ca0row5_col1,#T_e7b1f240_d7ed_11eb_8d38_d03745a99ca0row5_col2,#T_e7b1f240_d7ed_11eb_8d38_d03745a99ca0row5_col3,#T_e7b1f240_d7ed_11eb_8d38_d03745a99ca0row5_col4,#T_e7b1f240_d7ed_11eb_8d38_d03745a99ca0row5_col5,#T_e7b1f240_d7ed_11eb_8d38_d03745a99ca0row5_col6{\n",
       "            background:  yellow;\n",
       "        }</style><table id=\"T_e7b1f240_d7ed_11eb_8d38_d03745a99ca0\" ><thead>    <tr>        <th class=\"blank level0\" ></th>        <th class=\"col_heading level0 col0\" >Accuracy</th>        <th class=\"col_heading level0 col1\" >AUC</th>        <th class=\"col_heading level0 col2\" >Recall</th>        <th class=\"col_heading level0 col3\" >Prec.</th>        <th class=\"col_heading level0 col4\" >F1</th>        <th class=\"col_heading level0 col5\" >Kappa</th>        <th class=\"col_heading level0 col6\" >MCC</th>    </tr></thead><tbody>\n",
       "                <tr>\n",
       "                        <th id=\"T_e7b1f240_d7ed_11eb_8d38_d03745a99ca0level0_row0\" class=\"row_heading level0 row0\" >0</th>\n",
       "                        <td id=\"T_e7b1f240_d7ed_11eb_8d38_d03745a99ca0row0_col0\" class=\"data row0 col0\" >0.7852</td>\n",
       "                        <td id=\"T_e7b1f240_d7ed_11eb_8d38_d03745a99ca0row0_col1\" class=\"data row0 col1\" >0.8013</td>\n",
       "                        <td id=\"T_e7b1f240_d7ed_11eb_8d38_d03745a99ca0row0_col2\" class=\"data row0 col2\" >0.7235</td>\n",
       "                        <td id=\"T_e7b1f240_d7ed_11eb_8d38_d03745a99ca0row0_col3\" class=\"data row0 col3\" >0.5528</td>\n",
       "                        <td id=\"T_e7b1f240_d7ed_11eb_8d38_d03745a99ca0row0_col4\" class=\"data row0 col4\" >0.6267</td>\n",
       "                        <td id=\"T_e7b1f240_d7ed_11eb_8d38_d03745a99ca0row0_col5\" class=\"data row0 col5\" >0.4797</td>\n",
       "                        <td id=\"T_e7b1f240_d7ed_11eb_8d38_d03745a99ca0row0_col6\" class=\"data row0 col6\" >0.4882</td>\n",
       "            </tr>\n",
       "            <tr>\n",
       "                        <th id=\"T_e7b1f240_d7ed_11eb_8d38_d03745a99ca0level0_row1\" class=\"row_heading level0 row1\" >1</th>\n",
       "                        <td id=\"T_e7b1f240_d7ed_11eb_8d38_d03745a99ca0row1_col0\" class=\"data row1 col0\" >0.8018</td>\n",
       "                        <td id=\"T_e7b1f240_d7ed_11eb_8d38_d03745a99ca0row1_col1\" class=\"data row1 col1\" >0.8209</td>\n",
       "                        <td id=\"T_e7b1f240_d7ed_11eb_8d38_d03745a99ca0row1_col2\" class=\"data row1 col2\" >0.7432</td>\n",
       "                        <td id=\"T_e7b1f240_d7ed_11eb_8d38_d03745a99ca0row1_col3\" class=\"data row1 col3\" >0.5800</td>\n",
       "                        <td id=\"T_e7b1f240_d7ed_11eb_8d38_d03745a99ca0row1_col4\" class=\"data row1 col4\" >0.6515</td>\n",
       "                        <td id=\"T_e7b1f240_d7ed_11eb_8d38_d03745a99ca0row1_col5\" class=\"data row1 col5\" >0.5159</td>\n",
       "                        <td id=\"T_e7b1f240_d7ed_11eb_8d38_d03745a99ca0row1_col6\" class=\"data row1 col6\" >0.5237</td>\n",
       "            </tr>\n",
       "            <tr>\n",
       "                        <th id=\"T_e7b1f240_d7ed_11eb_8d38_d03745a99ca0level0_row2\" class=\"row_heading level0 row2\" >2</th>\n",
       "                        <td id=\"T_e7b1f240_d7ed_11eb_8d38_d03745a99ca0row2_col0\" class=\"data row2 col0\" >0.7762</td>\n",
       "                        <td id=\"T_e7b1f240_d7ed_11eb_8d38_d03745a99ca0row2_col1\" class=\"data row2 col1\" >0.7855</td>\n",
       "                        <td id=\"T_e7b1f240_d7ed_11eb_8d38_d03745a99ca0row2_col2\" class=\"data row2 col2\" >0.6975</td>\n",
       "                        <td id=\"T_e7b1f240_d7ed_11eb_8d38_d03745a99ca0row2_col3\" class=\"data row2 col3\" >0.5396</td>\n",
       "                        <td id=\"T_e7b1f240_d7ed_11eb_8d38_d03745a99ca0row2_col4\" class=\"data row2 col4\" >0.6085</td>\n",
       "                        <td id=\"T_e7b1f240_d7ed_11eb_8d38_d03745a99ca0row2_col5\" class=\"data row2 col5\" >0.4553</td>\n",
       "                        <td id=\"T_e7b1f240_d7ed_11eb_8d38_d03745a99ca0row2_col6\" class=\"data row2 col6\" >0.4627</td>\n",
       "            </tr>\n",
       "            <tr>\n",
       "                        <th id=\"T_e7b1f240_d7ed_11eb_8d38_d03745a99ca0level0_row3\" class=\"row_heading level0 row3\" >3</th>\n",
       "                        <td id=\"T_e7b1f240_d7ed_11eb_8d38_d03745a99ca0row3_col0\" class=\"data row3 col0\" >0.7783</td>\n",
       "                        <td id=\"T_e7b1f240_d7ed_11eb_8d38_d03745a99ca0row3_col1\" class=\"data row3 col1\" >0.7940</td>\n",
       "                        <td id=\"T_e7b1f240_d7ed_11eb_8d38_d03745a99ca0row3_col2\" class=\"data row3 col2\" >0.7111</td>\n",
       "                        <td id=\"T_e7b1f240_d7ed_11eb_8d38_d03745a99ca0row3_col3\" class=\"data row3 col3\" >0.5424</td>\n",
       "                        <td id=\"T_e7b1f240_d7ed_11eb_8d38_d03745a99ca0row3_col4\" class=\"data row3 col4\" >0.6154</td>\n",
       "                        <td id=\"T_e7b1f240_d7ed_11eb_8d38_d03745a99ca0row3_col5\" class=\"data row3 col5\" >0.4636</td>\n",
       "                        <td id=\"T_e7b1f240_d7ed_11eb_8d38_d03745a99ca0row3_col6\" class=\"data row3 col6\" >0.4720</td>\n",
       "            </tr>\n",
       "            <tr>\n",
       "                        <th id=\"T_e7b1f240_d7ed_11eb_8d38_d03745a99ca0level0_row4\" class=\"row_heading level0 row4\" >4</th>\n",
       "                        <td id=\"T_e7b1f240_d7ed_11eb_8d38_d03745a99ca0row4_col0\" class=\"data row4 col0\" >0.7956</td>\n",
       "                        <td id=\"T_e7b1f240_d7ed_11eb_8d38_d03745a99ca0row4_col1\" class=\"data row4 col1\" >0.8015</td>\n",
       "                        <td id=\"T_e7b1f240_d7ed_11eb_8d38_d03745a99ca0row4_col2\" class=\"data row4 col2\" >0.7358</td>\n",
       "                        <td id=\"T_e7b1f240_d7ed_11eb_8d38_d03745a99ca0row4_col3\" class=\"data row4 col3\" >0.5698</td>\n",
       "                        <td id=\"T_e7b1f240_d7ed_11eb_8d38_d03745a99ca0row4_col4\" class=\"data row4 col4\" >0.6422</td>\n",
       "                        <td id=\"T_e7b1f240_d7ed_11eb_8d38_d03745a99ca0row4_col5\" class=\"data row4 col5\" >0.5024</td>\n",
       "                        <td id=\"T_e7b1f240_d7ed_11eb_8d38_d03745a99ca0row4_col6\" class=\"data row4 col6\" >0.5104</td>\n",
       "            </tr>\n",
       "            <tr>\n",
       "                        <th id=\"T_e7b1f240_d7ed_11eb_8d38_d03745a99ca0level0_row5\" class=\"row_heading level0 row5\" >Mean</th>\n",
       "                        <td id=\"T_e7b1f240_d7ed_11eb_8d38_d03745a99ca0row5_col0\" class=\"data row5 col0\" >0.7874</td>\n",
       "                        <td id=\"T_e7b1f240_d7ed_11eb_8d38_d03745a99ca0row5_col1\" class=\"data row5 col1\" >0.8006</td>\n",
       "                        <td id=\"T_e7b1f240_d7ed_11eb_8d38_d03745a99ca0row5_col2\" class=\"data row5 col2\" >0.7222</td>\n",
       "                        <td id=\"T_e7b1f240_d7ed_11eb_8d38_d03745a99ca0row5_col3\" class=\"data row5 col3\" >0.5569</td>\n",
       "                        <td id=\"T_e7b1f240_d7ed_11eb_8d38_d03745a99ca0row5_col4\" class=\"data row5 col4\" >0.6289</td>\n",
       "                        <td id=\"T_e7b1f240_d7ed_11eb_8d38_d03745a99ca0row5_col5\" class=\"data row5 col5\" >0.4834</td>\n",
       "                        <td id=\"T_e7b1f240_d7ed_11eb_8d38_d03745a99ca0row5_col6\" class=\"data row5 col6\" >0.4914</td>\n",
       "            </tr>\n",
       "            <tr>\n",
       "                        <th id=\"T_e7b1f240_d7ed_11eb_8d38_d03745a99ca0level0_row6\" class=\"row_heading level0 row6\" >SD</th>\n",
       "                        <td id=\"T_e7b1f240_d7ed_11eb_8d38_d03745a99ca0row6_col0\" class=\"data row6 col0\" >0.0099</td>\n",
       "                        <td id=\"T_e7b1f240_d7ed_11eb_8d38_d03745a99ca0row6_col1\" class=\"data row6 col1\" >0.0117</td>\n",
       "                        <td id=\"T_e7b1f240_d7ed_11eb_8d38_d03745a99ca0row6_col2\" class=\"data row6 col2\" >0.0165</td>\n",
       "                        <td id=\"T_e7b1f240_d7ed_11eb_8d38_d03745a99ca0row6_col3\" class=\"data row6 col3\" >0.0156</td>\n",
       "                        <td id=\"T_e7b1f240_d7ed_11eb_8d38_d03745a99ca0row6_col4\" class=\"data row6 col4\" >0.0161</td>\n",
       "                        <td id=\"T_e7b1f240_d7ed_11eb_8d38_d03745a99ca0row6_col5\" class=\"data row6 col5\" >0.0229</td>\n",
       "                        <td id=\"T_e7b1f240_d7ed_11eb_8d38_d03745a99ca0row6_col6\" class=\"data row6 col6\" >0.0229</td>\n",
       "            </tr>\n",
       "    </tbody></table>"
      ],
      "text/plain": [
       "<pandas.io.formats.style.Styler at 0x289e2695700>"
      ]
     },
     "metadata": {},
     "output_type": "display_data"
    }
   ],
   "source": [
    "gbc_tuned = tune_model(create_model('gbc'), n_iter=150, optimize='AUC')"
   ]
  },
  {
   "cell_type": "code",
   "execution_count": 146,
   "metadata": {},
   "outputs": [
    {
     "data": {
      "text/plain": [
       "GradientBoostingClassifier(ccp_alpha=0.0, criterion='friedman_mse', init=None,\n",
       "                           learning_rate=0.01, loss='deviance', max_depth=5,\n",
       "                           max_features=1.0, max_leaf_nodes=None,\n",
       "                           min_impurity_decrease=0.0001,\n",
       "                           min_impurity_split=None, min_samples_leaf=1,\n",
       "                           min_samples_split=5, min_weight_fraction_leaf=0.0,\n",
       "                           n_estimators=200, n_iter_no_change=None,\n",
       "                           presort='deprecated', random_state=4000,\n",
       "                           subsample=0.4, tol=0.0001, validation_fraction=0.1,\n",
       "                           verbose=0, warm_start=False)"
      ]
     },
     "execution_count": 146,
     "metadata": {},
     "output_type": "execute_result"
    }
   ],
   "source": [
    "gbc_tuned"
   ]
  },
  {
   "cell_type": "code",
   "execution_count": 31,
   "metadata": {},
   "outputs": [
    {
     "data": {
      "text/html": [
       "<style  type=\"text/css\" >\n",
       "#T_6520495e_d7ea_11eb_baa0_d03745a99ca0row5_col0,#T_6520495e_d7ea_11eb_baa0_d03745a99ca0row5_col1,#T_6520495e_d7ea_11eb_baa0_d03745a99ca0row5_col2,#T_6520495e_d7ea_11eb_baa0_d03745a99ca0row5_col3,#T_6520495e_d7ea_11eb_baa0_d03745a99ca0row5_col4,#T_6520495e_d7ea_11eb_baa0_d03745a99ca0row5_col5,#T_6520495e_d7ea_11eb_baa0_d03745a99ca0row5_col6{\n",
       "            background:  yellow;\n",
       "        }</style><table id=\"T_6520495e_d7ea_11eb_baa0_d03745a99ca0\" ><thead>    <tr>        <th class=\"blank level0\" ></th>        <th class=\"col_heading level0 col0\" >Accuracy</th>        <th class=\"col_heading level0 col1\" >AUC</th>        <th class=\"col_heading level0 col2\" >Recall</th>        <th class=\"col_heading level0 col3\" >Prec.</th>        <th class=\"col_heading level0 col4\" >F1</th>        <th class=\"col_heading level0 col5\" >Kappa</th>        <th class=\"col_heading level0 col6\" >MCC</th>    </tr></thead><tbody>\n",
       "                <tr>\n",
       "                        <th id=\"T_6520495e_d7ea_11eb_baa0_d03745a99ca0level0_row0\" class=\"row_heading level0 row0\" >0</th>\n",
       "                        <td id=\"T_6520495e_d7ea_11eb_baa0_d03745a99ca0row0_col0\" class=\"data row0 col0\" >0.7889</td>\n",
       "                        <td id=\"T_6520495e_d7ea_11eb_baa0_d03745a99ca0row0_col1\" class=\"data row0 col1\" >0.8006</td>\n",
       "                        <td id=\"T_6520495e_d7ea_11eb_baa0_d03745a99ca0row0_col2\" class=\"data row0 col2\" >0.7210</td>\n",
       "                        <td id=\"T_6520495e_d7ea_11eb_baa0_d03745a99ca0row0_col3\" class=\"data row0 col3\" >0.5594</td>\n",
       "                        <td id=\"T_6520495e_d7ea_11eb_baa0_d03745a99ca0row0_col4\" class=\"data row0 col4\" >0.6300</td>\n",
       "                        <td id=\"T_6520495e_d7ea_11eb_baa0_d03745a99ca0row0_col5\" class=\"data row0 col5\" >0.4855</td>\n",
       "                        <td id=\"T_6520495e_d7ea_11eb_baa0_d03745a99ca0row0_col6\" class=\"data row0 col6\" >0.4932</td>\n",
       "            </tr>\n",
       "            <tr>\n",
       "                        <th id=\"T_6520495e_d7ea_11eb_baa0_d03745a99ca0level0_row1\" class=\"row_heading level0 row1\" >1</th>\n",
       "                        <td id=\"T_6520495e_d7ea_11eb_baa0_d03745a99ca0row1_col0\" class=\"data row1 col0\" >0.8107</td>\n",
       "                        <td id=\"T_6520495e_d7ea_11eb_baa0_d03745a99ca0row1_col1\" class=\"data row1 col1\" >0.8230</td>\n",
       "                        <td id=\"T_6520495e_d7ea_11eb_baa0_d03745a99ca0row1_col2\" class=\"data row1 col2\" >0.7358</td>\n",
       "                        <td id=\"T_6520495e_d7ea_11eb_baa0_d03745a99ca0row1_col3\" class=\"data row1 col3\" >0.5978</td>\n",
       "                        <td id=\"T_6520495e_d7ea_11eb_baa0_d03745a99ca0row1_col4\" class=\"data row1 col4\" >0.6597</td>\n",
       "                        <td id=\"T_6520495e_d7ea_11eb_baa0_d03745a99ca0row1_col5\" class=\"data row1 col5\" >0.5305</td>\n",
       "                        <td id=\"T_6520495e_d7ea_11eb_baa0_d03745a99ca0row1_col6\" class=\"data row1 col6\" >0.5360</td>\n",
       "            </tr>\n",
       "            <tr>\n",
       "                        <th id=\"T_6520495e_d7ea_11eb_baa0_d03745a99ca0level0_row2\" class=\"row_heading level0 row2\" >2</th>\n",
       "                        <td id=\"T_6520495e_d7ea_11eb_baa0_d03745a99ca0row2_col0\" class=\"data row2 col0\" >0.7808</td>\n",
       "                        <td id=\"T_6520495e_d7ea_11eb_baa0_d03745a99ca0row2_col1\" class=\"data row2 col1\" >0.7886</td>\n",
       "                        <td id=\"T_6520495e_d7ea_11eb_baa0_d03745a99ca0row2_col2\" class=\"data row2 col2\" >0.6852</td>\n",
       "                        <td id=\"T_6520495e_d7ea_11eb_baa0_d03745a99ca0row2_col3\" class=\"data row2 col3\" >0.5484</td>\n",
       "                        <td id=\"T_6520495e_d7ea_11eb_baa0_d03745a99ca0row2_col4\" class=\"data row2 col4\" >0.6092</td>\n",
       "                        <td id=\"T_6520495e_d7ea_11eb_baa0_d03745a99ca0row2_col5\" class=\"data row2 col5\" >0.4595</td>\n",
       "                        <td id=\"T_6520495e_d7ea_11eb_baa0_d03745a99ca0row2_col6\" class=\"data row2 col6\" >0.4650</td>\n",
       "            </tr>\n",
       "            <tr>\n",
       "                        <th id=\"T_6520495e_d7ea_11eb_baa0_d03745a99ca0level0_row3\" class=\"row_heading level0 row3\" >3</th>\n",
       "                        <td id=\"T_6520495e_d7ea_11eb_baa0_d03745a99ca0row3_col0\" class=\"data row3 col0\" >0.7891</td>\n",
       "                        <td id=\"T_6520495e_d7ea_11eb_baa0_d03745a99ca0row3_col1\" class=\"data row3 col1\" >0.7961</td>\n",
       "                        <td id=\"T_6520495e_d7ea_11eb_baa0_d03745a99ca0row3_col2\" class=\"data row3 col2\" >0.7012</td>\n",
       "                        <td id=\"T_6520495e_d7ea_11eb_baa0_d03745a99ca0row3_col3\" class=\"data row3 col3\" >0.5618</td>\n",
       "                        <td id=\"T_6520495e_d7ea_11eb_baa0_d03745a99ca0row3_col4\" class=\"data row3 col4\" >0.6238</td>\n",
       "                        <td id=\"T_6520495e_d7ea_11eb_baa0_d03745a99ca0row3_col5\" class=\"data row3 col5\" >0.4798</td>\n",
       "                        <td id=\"T_6520495e_d7ea_11eb_baa0_d03745a99ca0row3_col6\" class=\"data row3 col6\" >0.4855</td>\n",
       "            </tr>\n",
       "            <tr>\n",
       "                        <th id=\"T_6520495e_d7ea_11eb_baa0_d03745a99ca0level0_row4\" class=\"row_heading level0 row4\" >4</th>\n",
       "                        <td id=\"T_6520495e_d7ea_11eb_baa0_d03745a99ca0row4_col0\" class=\"data row4 col0\" >0.8011</td>\n",
       "                        <td id=\"T_6520495e_d7ea_11eb_baa0_d03745a99ca0row4_col1\" class=\"data row4 col1\" >0.8000</td>\n",
       "                        <td id=\"T_6520495e_d7ea_11eb_baa0_d03745a99ca0row4_col2\" class=\"data row4 col2\" >0.7198</td>\n",
       "                        <td id=\"T_6520495e_d7ea_11eb_baa0_d03745a99ca0row4_col3\" class=\"data row4 col3\" >0.5818</td>\n",
       "                        <td id=\"T_6520495e_d7ea_11eb_baa0_d03745a99ca0row4_col4\" class=\"data row4 col4\" >0.6435</td>\n",
       "                        <td id=\"T_6520495e_d7ea_11eb_baa0_d03745a99ca0row4_col5\" class=\"data row4 col5\" >0.5077</td>\n",
       "                        <td id=\"T_6520495e_d7ea_11eb_baa0_d03745a99ca0row4_col6\" class=\"data row4 col6\" >0.5132</td>\n",
       "            </tr>\n",
       "            <tr>\n",
       "                        <th id=\"T_6520495e_d7ea_11eb_baa0_d03745a99ca0level0_row5\" class=\"row_heading level0 row5\" >Mean</th>\n",
       "                        <td id=\"T_6520495e_d7ea_11eb_baa0_d03745a99ca0row5_col0\" class=\"data row5 col0\" >0.7941</td>\n",
       "                        <td id=\"T_6520495e_d7ea_11eb_baa0_d03745a99ca0row5_col1\" class=\"data row5 col1\" >0.8017</td>\n",
       "                        <td id=\"T_6520495e_d7ea_11eb_baa0_d03745a99ca0row5_col2\" class=\"data row5 col2\" >0.7126</td>\n",
       "                        <td id=\"T_6520495e_d7ea_11eb_baa0_d03745a99ca0row5_col3\" class=\"data row5 col3\" >0.5699</td>\n",
       "                        <td id=\"T_6520495e_d7ea_11eb_baa0_d03745a99ca0row5_col4\" class=\"data row5 col4\" >0.6332</td>\n",
       "                        <td id=\"T_6520495e_d7ea_11eb_baa0_d03745a99ca0row5_col5\" class=\"data row5 col5\" >0.4926</td>\n",
       "                        <td id=\"T_6520495e_d7ea_11eb_baa0_d03745a99ca0row5_col6\" class=\"data row5 col6\" >0.4986</td>\n",
       "            </tr>\n",
       "            <tr>\n",
       "                        <th id=\"T_6520495e_d7ea_11eb_baa0_d03745a99ca0level0_row6\" class=\"row_heading level0 row6\" >SD</th>\n",
       "                        <td id=\"T_6520495e_d7ea_11eb_baa0_d03745a99ca0row6_col0\" class=\"data row6 col0\" >0.0105</td>\n",
       "                        <td id=\"T_6520495e_d7ea_11eb_baa0_d03745a99ca0row6_col1\" class=\"data row6 col1\" >0.0115</td>\n",
       "                        <td id=\"T_6520495e_d7ea_11eb_baa0_d03745a99ca0row6_col2\" class=\"data row6 col2\" >0.0176</td>\n",
       "                        <td id=\"T_6520495e_d7ea_11eb_baa0_d03745a99ca0row6_col3\" class=\"data row6 col3\" >0.0177</td>\n",
       "                        <td id=\"T_6520495e_d7ea_11eb_baa0_d03745a99ca0row6_col4\" class=\"data row6 col4\" >0.0172</td>\n",
       "                        <td id=\"T_6520495e_d7ea_11eb_baa0_d03745a99ca0row6_col5\" class=\"data row6 col5\" >0.0244</td>\n",
       "                        <td id=\"T_6520495e_d7ea_11eb_baa0_d03745a99ca0row6_col6\" class=\"data row6 col6\" >0.0243</td>\n",
       "            </tr>\n",
       "    </tbody></table>"
      ],
      "text/plain": [
       "<pandas.io.formats.style.Styler at 0x289e2543130>"
      ]
     },
     "metadata": {},
     "output_type": "display_data"
    }
   ],
   "source": [
    "param_grid ={'num_leaves': list(range(1, 100)), \n",
    "             'learning_rate': np.power(10, np.arange(-5., 0.)),\n",
    "             'n_estimators': list(range(100, 1500)),\n",
    "             'min_child_weight': np.power(10, np.arange(-15., -1)),\n",
    "             'reg_alpha': np.power(10, np.arange(-5., 1.)),\n",
    "             'reg_lambda': np.power(10, np.arange(-5., 1.)),\n",
    "             'feature_fraction': uniform(loc=0., scale=1.),\n",
    "             'bagging_fraction': uniform(loc=0., scale=1.),\n",
    "             'bagging_freq': np.arange(1, 10)\n",
    "            }\n",
    "\n",
    "lgb_tuned = tune_model(create_model('lightgbm'), \n",
    "                       n_iter=150,\n",
    "                       custom_grid=param_grid,\n",
    "                       optimize='AUC')"
   ]
  },
  {
   "cell_type": "code",
   "execution_count": 148,
   "metadata": {},
   "outputs": [
    {
     "data": {
      "text/plain": [
       "LGBMClassifier(bagging_fraction=0.9090111611677784, bagging_freq=4,\n",
       "               boosting_type='gbdt', class_weight=None, colsample_bytree=1.0,\n",
       "               feature_fraction=0.6225207643958737, importance_type='split',\n",
       "               learning_rate=0.001, max_depth=-1, min_child_samples=20,\n",
       "               min_child_weight=1e-09, min_split_gain=0.0, n_estimators=383,\n",
       "               n_jobs=-1, num_leaves=42, objective=None, random_state=4000,\n",
       "               reg_alpha=1.0, reg_lambda=0.1, silent=True, subsample=1.0,\n",
       "               subsample_for_bin=200000, subsample_freq=0)"
      ]
     },
     "execution_count": 148,
     "metadata": {},
     "output_type": "execute_result"
    }
   ],
   "source": [
    "lgb_tuned"
   ]
  },
  {
   "cell_type": "code",
   "execution_count": 28,
   "metadata": {},
   "outputs": [
    {
     "data": {
      "text/html": [
       "<style  type=\"text/css\" >\n",
       "#T_f41a7e2a_d7e6_11eb_a703_d03745a99ca0row5_col0,#T_f41a7e2a_d7e6_11eb_a703_d03745a99ca0row5_col1,#T_f41a7e2a_d7e6_11eb_a703_d03745a99ca0row5_col2,#T_f41a7e2a_d7e6_11eb_a703_d03745a99ca0row5_col3,#T_f41a7e2a_d7e6_11eb_a703_d03745a99ca0row5_col4,#T_f41a7e2a_d7e6_11eb_a703_d03745a99ca0row5_col5,#T_f41a7e2a_d7e6_11eb_a703_d03745a99ca0row5_col6{\n",
       "            background:  yellow;\n",
       "        }</style><table id=\"T_f41a7e2a_d7e6_11eb_a703_d03745a99ca0\" ><thead>    <tr>        <th class=\"blank level0\" ></th>        <th class=\"col_heading level0 col0\" >Accuracy</th>        <th class=\"col_heading level0 col1\" >AUC</th>        <th class=\"col_heading level0 col2\" >Recall</th>        <th class=\"col_heading level0 col3\" >Prec.</th>        <th class=\"col_heading level0 col4\" >F1</th>        <th class=\"col_heading level0 col5\" >Kappa</th>        <th class=\"col_heading level0 col6\" >MCC</th>    </tr></thead><tbody>\n",
       "                <tr>\n",
       "                        <th id=\"T_f41a7e2a_d7e6_11eb_a703_d03745a99ca0level0_row0\" class=\"row_heading level0 row0\" >0</th>\n",
       "                        <td id=\"T_f41a7e2a_d7e6_11eb_a703_d03745a99ca0row0_col0\" class=\"data row0 col0\" >0.7682</td>\n",
       "                        <td id=\"T_f41a7e2a_d7e6_11eb_a703_d03745a99ca0row0_col1\" class=\"data row0 col1\" >0.7979</td>\n",
       "                        <td id=\"T_f41a7e2a_d7e6_11eb_a703_d03745a99ca0row0_col2\" class=\"data row0 col2\" >0.7531</td>\n",
       "                        <td id=\"T_f41a7e2a_d7e6_11eb_a703_d03745a99ca0row0_col3\" class=\"data row0 col3\" >0.5245</td>\n",
       "                        <td id=\"T_f41a7e2a_d7e6_11eb_a703_d03745a99ca0row0_col4\" class=\"data row0 col4\" >0.6183</td>\n",
       "                        <td id=\"T_f41a7e2a_d7e6_11eb_a703_d03745a99ca0row0_col5\" class=\"data row0 col5\" >0.4595</td>\n",
       "                        <td id=\"T_f41a7e2a_d7e6_11eb_a703_d03745a99ca0row0_col6\" class=\"data row0 col6\" >0.4750</td>\n",
       "            </tr>\n",
       "            <tr>\n",
       "                        <th id=\"T_f41a7e2a_d7e6_11eb_a703_d03745a99ca0level0_row1\" class=\"row_heading level0 row1\" >1</th>\n",
       "                        <td id=\"T_f41a7e2a_d7e6_11eb_a703_d03745a99ca0row1_col0\" class=\"data row1 col0\" >0.7873</td>\n",
       "                        <td id=\"T_f41a7e2a_d7e6_11eb_a703_d03745a99ca0row1_col1\" class=\"data row1 col1\" >0.8152</td>\n",
       "                        <td id=\"T_f41a7e2a_d7e6_11eb_a703_d03745a99ca0row1_col2\" class=\"data row1 col2\" >0.7827</td>\n",
       "                        <td id=\"T_f41a7e2a_d7e6_11eb_a703_d03745a99ca0row1_col3\" class=\"data row1 col3\" >0.5518</td>\n",
       "                        <td id=\"T_f41a7e2a_d7e6_11eb_a703_d03745a99ca0row1_col4\" class=\"data row1 col4\" >0.6473</td>\n",
       "                        <td id=\"T_f41a7e2a_d7e6_11eb_a703_d03745a99ca0row1_col5\" class=\"data row1 col5\" >0.5015</td>\n",
       "                        <td id=\"T_f41a7e2a_d7e6_11eb_a703_d03745a99ca0row1_col6\" class=\"data row1 col6\" >0.5172</td>\n",
       "            </tr>\n",
       "            <tr>\n",
       "                        <th id=\"T_f41a7e2a_d7e6_11eb_a703_d03745a99ca0level0_row2\" class=\"row_heading level0 row2\" >2</th>\n",
       "                        <td id=\"T_f41a7e2a_d7e6_11eb_a703_d03745a99ca0row2_col0\" class=\"data row2 col0\" >0.7595</td>\n",
       "                        <td id=\"T_f41a7e2a_d7e6_11eb_a703_d03745a99ca0row2_col1\" class=\"data row2 col1\" >0.7812</td>\n",
       "                        <td id=\"T_f41a7e2a_d7e6_11eb_a703_d03745a99ca0row2_col2\" class=\"data row2 col2\" >0.7259</td>\n",
       "                        <td id=\"T_f41a7e2a_d7e6_11eb_a703_d03745a99ca0row2_col3\" class=\"data row2 col3\" >0.5126</td>\n",
       "                        <td id=\"T_f41a7e2a_d7e6_11eb_a703_d03745a99ca0row2_col4\" class=\"data row2 col4\" >0.6009</td>\n",
       "                        <td id=\"T_f41a7e2a_d7e6_11eb_a703_d03745a99ca0row2_col5\" class=\"data row2 col5\" >0.4361</td>\n",
       "                        <td id=\"T_f41a7e2a_d7e6_11eb_a703_d03745a99ca0row2_col6\" class=\"data row2 col6\" >0.4496</td>\n",
       "            </tr>\n",
       "            <tr>\n",
       "                        <th id=\"T_f41a7e2a_d7e6_11eb_a703_d03745a99ca0level0_row3\" class=\"row_heading level0 row3\" >3</th>\n",
       "                        <td id=\"T_f41a7e2a_d7e6_11eb_a703_d03745a99ca0row3_col0\" class=\"data row3 col0\" >0.7632</td>\n",
       "                        <td id=\"T_f41a7e2a_d7e6_11eb_a703_d03745a99ca0row3_col1\" class=\"data row3 col1\" >0.7912</td>\n",
       "                        <td id=\"T_f41a7e2a_d7e6_11eb_a703_d03745a99ca0row3_col2\" class=\"data row3 col2\" >0.7296</td>\n",
       "                        <td id=\"T_f41a7e2a_d7e6_11eb_a703_d03745a99ca0row3_col3\" class=\"data row3 col3\" >0.5180</td>\n",
       "                        <td id=\"T_f41a7e2a_d7e6_11eb_a703_d03745a99ca0row3_col4\" class=\"data row3 col4\" >0.6058</td>\n",
       "                        <td id=\"T_f41a7e2a_d7e6_11eb_a703_d03745a99ca0row3_col5\" class=\"data row3 col5\" >0.4435</td>\n",
       "                        <td id=\"T_f41a7e2a_d7e6_11eb_a703_d03745a99ca0row3_col6\" class=\"data row3 col6\" >0.4568</td>\n",
       "            </tr>\n",
       "            <tr>\n",
       "                        <th id=\"T_f41a7e2a_d7e6_11eb_a703_d03745a99ca0level0_row4\" class=\"row_heading level0 row4\" >4</th>\n",
       "                        <td id=\"T_f41a7e2a_d7e6_11eb_a703_d03745a99ca0row4_col0\" class=\"data row4 col0\" >0.7783</td>\n",
       "                        <td id=\"T_f41a7e2a_d7e6_11eb_a703_d03745a99ca0row4_col1\" class=\"data row4 col1\" >0.7922</td>\n",
       "                        <td id=\"T_f41a7e2a_d7e6_11eb_a703_d03745a99ca0row4_col2\" class=\"data row4 col2\" >0.7506</td>\n",
       "                        <td id=\"T_f41a7e2a_d7e6_11eb_a703_d03745a99ca0row4_col3\" class=\"data row4 col3\" >0.5400</td>\n",
       "                        <td id=\"T_f41a7e2a_d7e6_11eb_a703_d03745a99ca0row4_col4\" class=\"data row4 col4\" >0.6281</td>\n",
       "                        <td id=\"T_f41a7e2a_d7e6_11eb_a703_d03745a99ca0row4_col5\" class=\"data row4 col5\" >0.4761</td>\n",
       "                        <td id=\"T_f41a7e2a_d7e6_11eb_a703_d03745a99ca0row4_col6\" class=\"data row4 col6\" >0.4892</td>\n",
       "            </tr>\n",
       "            <tr>\n",
       "                        <th id=\"T_f41a7e2a_d7e6_11eb_a703_d03745a99ca0level0_row5\" class=\"row_heading level0 row5\" >Mean</th>\n",
       "                        <td id=\"T_f41a7e2a_d7e6_11eb_a703_d03745a99ca0row5_col0\" class=\"data row5 col0\" >0.7713</td>\n",
       "                        <td id=\"T_f41a7e2a_d7e6_11eb_a703_d03745a99ca0row5_col1\" class=\"data row5 col1\" >0.7955</td>\n",
       "                        <td id=\"T_f41a7e2a_d7e6_11eb_a703_d03745a99ca0row5_col2\" class=\"data row5 col2\" >0.7484</td>\n",
       "                        <td id=\"T_f41a7e2a_d7e6_11eb_a703_d03745a99ca0row5_col3\" class=\"data row5 col3\" >0.5294</td>\n",
       "                        <td id=\"T_f41a7e2a_d7e6_11eb_a703_d03745a99ca0row5_col4\" class=\"data row5 col4\" >0.6201</td>\n",
       "                        <td id=\"T_f41a7e2a_d7e6_11eb_a703_d03745a99ca0row5_col5\" class=\"data row5 col5\" >0.4633</td>\n",
       "                        <td id=\"T_f41a7e2a_d7e6_11eb_a703_d03745a99ca0row5_col6\" class=\"data row5 col6\" >0.4776</td>\n",
       "            </tr>\n",
       "            <tr>\n",
       "                        <th id=\"T_f41a7e2a_d7e6_11eb_a703_d03745a99ca0level0_row6\" class=\"row_heading level0 row6\" >SD</th>\n",
       "                        <td id=\"T_f41a7e2a_d7e6_11eb_a703_d03745a99ca0row6_col0\" class=\"data row6 col0\" >0.0102</td>\n",
       "                        <td id=\"T_f41a7e2a_d7e6_11eb_a703_d03745a99ca0row6_col1\" class=\"data row6 col1\" >0.0112</td>\n",
       "                        <td id=\"T_f41a7e2a_d7e6_11eb_a703_d03745a99ca0row6_col2\" class=\"data row6 col2\" >0.0203</td>\n",
       "                        <td id=\"T_f41a7e2a_d7e6_11eb_a703_d03745a99ca0row6_col3\" class=\"data row6 col3\" >0.0145</td>\n",
       "                        <td id=\"T_f41a7e2a_d7e6_11eb_a703_d03745a99ca0row6_col4\" class=\"data row6 col4\" >0.0166</td>\n",
       "                        <td id=\"T_f41a7e2a_d7e6_11eb_a703_d03745a99ca0row6_col5\" class=\"data row6 col5\" >0.0235</td>\n",
       "                        <td id=\"T_f41a7e2a_d7e6_11eb_a703_d03745a99ca0row6_col6\" class=\"data row6 col6\" >0.0242</td>\n",
       "            </tr>\n",
       "    </tbody></table>"
      ],
      "text/plain": [
       "<pandas.io.formats.style.Styler at 0x289e31dff70>"
      ]
     },
     "metadata": {},
     "output_type": "display_data"
    }
   ],
   "source": [
    "param_grid = {\n",
    "    'solver': ['newton-cg', 'lbfgs', 'liblinear', 'sag', 'saga'],\n",
    "    'penalty': ['l1', 'l2', 'elasticnet'],\n",
    "    'C':  np.power(10, np.arange(-5., 2.))\n",
    "}\n",
    "\n",
    "lr_tuned = tune_model(create_model('lr'), \n",
    "                      custom_grid=param_grid, \n",
    "                      search_algorithm='grid',\n",
    "                      optimize='AUC')"
   ]
  },
  {
   "cell_type": "code",
   "execution_count": 147,
   "metadata": {},
   "outputs": [
    {
     "data": {
      "text/plain": [
       "LogisticRegression(C=0.01, class_weight=None, dual=False, fit_intercept=True,\n",
       "                   intercept_scaling=1, l1_ratio=None, max_iter=1000,\n",
       "                   multi_class='auto', n_jobs=None, penalty='l2',\n",
       "                   random_state=4000, solver='liblinear', tol=0.0001, verbose=0,\n",
       "                   warm_start=False)"
      ]
     },
     "execution_count": 147,
     "metadata": {},
     "output_type": "execute_result"
    }
   ],
   "source": [
    "lr_tuned"
   ]
  },
  {
   "cell_type": "code",
   "execution_count": 153,
   "metadata": {},
   "outputs": [
    {
     "data": {
      "text/html": [
       "<style  type=\"text/css\" >\n",
       "#T_4204965e_d823_11eb_b0dd_d03745a99ca0row5_col0,#T_4204965e_d823_11eb_b0dd_d03745a99ca0row5_col1,#T_4204965e_d823_11eb_b0dd_d03745a99ca0row5_col2,#T_4204965e_d823_11eb_b0dd_d03745a99ca0row5_col3,#T_4204965e_d823_11eb_b0dd_d03745a99ca0row5_col4,#T_4204965e_d823_11eb_b0dd_d03745a99ca0row5_col5,#T_4204965e_d823_11eb_b0dd_d03745a99ca0row5_col6{\n",
       "            background:  yellow;\n",
       "        }</style><table id=\"T_4204965e_d823_11eb_b0dd_d03745a99ca0\" ><thead>    <tr>        <th class=\"blank level0\" ></th>        <th class=\"col_heading level0 col0\" >Accuracy</th>        <th class=\"col_heading level0 col1\" >AUC</th>        <th class=\"col_heading level0 col2\" >Recall</th>        <th class=\"col_heading level0 col3\" >Prec.</th>        <th class=\"col_heading level0 col4\" >F1</th>        <th class=\"col_heading level0 col5\" >Kappa</th>        <th class=\"col_heading level0 col6\" >MCC</th>    </tr></thead><tbody>\n",
       "                <tr>\n",
       "                        <th id=\"T_4204965e_d823_11eb_b0dd_d03745a99ca0level0_row0\" class=\"row_heading level0 row0\" >0</th>\n",
       "                        <td id=\"T_4204965e_d823_11eb_b0dd_d03745a99ca0row0_col0\" class=\"data row0 col0\" >0.7836</td>\n",
       "                        <td id=\"T_4204965e_d823_11eb_b0dd_d03745a99ca0row0_col1\" class=\"data row0 col1\" >0.8014</td>\n",
       "                        <td id=\"T_4204965e_d823_11eb_b0dd_d03745a99ca0row0_col2\" class=\"data row0 col2\" >0.7358</td>\n",
       "                        <td id=\"T_4204965e_d823_11eb_b0dd_d03745a99ca0row0_col3\" class=\"data row0 col3\" >0.5493</td>\n",
       "                        <td id=\"T_4204965e_d823_11eb_b0dd_d03745a99ca0row0_col4\" class=\"data row0 col4\" >0.6290</td>\n",
       "                        <td id=\"T_4204965e_d823_11eb_b0dd_d03745a99ca0row0_col5\" class=\"data row0 col5\" >0.4808</td>\n",
       "                        <td id=\"T_4204965e_d823_11eb_b0dd_d03745a99ca0row0_col6\" class=\"data row0 col6\" >0.4910</td>\n",
       "            </tr>\n",
       "            <tr>\n",
       "                        <th id=\"T_4204965e_d823_11eb_b0dd_d03745a99ca0level0_row1\" class=\"row_heading level0 row1\" >1</th>\n",
       "                        <td id=\"T_4204965e_d823_11eb_b0dd_d03745a99ca0row1_col0\" class=\"data row1 col0\" >0.8055</td>\n",
       "                        <td id=\"T_4204965e_d823_11eb_b0dd_d03745a99ca0row1_col1\" class=\"data row1 col1\" >0.8200</td>\n",
       "                        <td id=\"T_4204965e_d823_11eb_b0dd_d03745a99ca0row1_col2\" class=\"data row1 col2\" >0.7568</td>\n",
       "                        <td id=\"T_4204965e_d823_11eb_b0dd_d03745a99ca0row1_col3\" class=\"data row1 col3\" >0.5849</td>\n",
       "                        <td id=\"T_4204965e_d823_11eb_b0dd_d03745a99ca0row1_col4\" class=\"data row1 col4\" >0.6598</td>\n",
       "                        <td id=\"T_4204965e_d823_11eb_b0dd_d03745a99ca0row1_col5\" class=\"data row1 col5\" >0.5268</td>\n",
       "                        <td id=\"T_4204965e_d823_11eb_b0dd_d03745a99ca0row1_col6\" class=\"data row1 col6\" >0.5353</td>\n",
       "            </tr>\n",
       "            <tr>\n",
       "                        <th id=\"T_4204965e_d823_11eb_b0dd_d03745a99ca0level0_row2\" class=\"row_heading level0 row2\" >2</th>\n",
       "                        <td id=\"T_4204965e_d823_11eb_b0dd_d03745a99ca0row2_col0\" class=\"data row2 col0\" >0.7740</td>\n",
       "                        <td id=\"T_4204965e_d823_11eb_b0dd_d03745a99ca0row2_col1\" class=\"data row2 col1\" >0.7845</td>\n",
       "                        <td id=\"T_4204965e_d823_11eb_b0dd_d03745a99ca0row2_col2\" class=\"data row2 col2\" >0.7086</td>\n",
       "                        <td id=\"T_4204965e_d823_11eb_b0dd_d03745a99ca0row2_col3\" class=\"data row2 col3\" >0.5354</td>\n",
       "                        <td id=\"T_4204965e_d823_11eb_b0dd_d03745a99ca0row2_col4\" class=\"data row2 col4\" >0.6100</td>\n",
       "                        <td id=\"T_4204965e_d823_11eb_b0dd_d03745a99ca0row2_col5\" class=\"data row2 col5\" >0.4552</td>\n",
       "                        <td id=\"T_4204965e_d823_11eb_b0dd_d03745a99ca0row2_col6\" class=\"data row2 col6\" >0.4641</td>\n",
       "            </tr>\n",
       "            <tr>\n",
       "                        <th id=\"T_4204965e_d823_11eb_b0dd_d03745a99ca0level0_row3\" class=\"row_heading level0 row3\" >3</th>\n",
       "                        <td id=\"T_4204965e_d823_11eb_b0dd_d03745a99ca0row3_col0\" class=\"data row3 col0\" >0.7808</td>\n",
       "                        <td id=\"T_4204965e_d823_11eb_b0dd_d03745a99ca0row3_col1\" class=\"data row3 col1\" >0.7957</td>\n",
       "                        <td id=\"T_4204965e_d823_11eb_b0dd_d03745a99ca0row3_col2\" class=\"data row3 col2\" >0.7222</td>\n",
       "                        <td id=\"T_4204965e_d823_11eb_b0dd_d03745a99ca0row3_col3\" class=\"data row3 col3\" >0.5457</td>\n",
       "                        <td id=\"T_4204965e_d823_11eb_b0dd_d03745a99ca0row3_col4\" class=\"data row3 col4\" >0.6217</td>\n",
       "                        <td id=\"T_4204965e_d823_11eb_b0dd_d03745a99ca0row3_col5\" class=\"data row3 col5\" >0.4715</td>\n",
       "                        <td id=\"T_4204965e_d823_11eb_b0dd_d03745a99ca0row3_col6\" class=\"data row3 col6\" >0.4807</td>\n",
       "            </tr>\n",
       "            <tr>\n",
       "                        <th id=\"T_4204965e_d823_11eb_b0dd_d03745a99ca0level0_row4\" class=\"row_heading level0 row4\" >4</th>\n",
       "                        <td id=\"T_4204965e_d823_11eb_b0dd_d03745a99ca0row4_col0\" class=\"data row4 col0\" >0.7940</td>\n",
       "                        <td id=\"T_4204965e_d823_11eb_b0dd_d03745a99ca0row4_col1\" class=\"data row4 col1\" >0.7998</td>\n",
       "                        <td id=\"T_4204965e_d823_11eb_b0dd_d03745a99ca0row4_col2\" class=\"data row4 col2\" >0.7420</td>\n",
       "                        <td id=\"T_4204965e_d823_11eb_b0dd_d03745a99ca0row4_col3\" class=\"data row4 col3\" >0.5664</td>\n",
       "                        <td id=\"T_4204965e_d823_11eb_b0dd_d03745a99ca0row4_col4\" class=\"data row4 col4\" >0.6424</td>\n",
       "                        <td id=\"T_4204965e_d823_11eb_b0dd_d03745a99ca0row4_col5\" class=\"data row4 col5\" >0.5014</td>\n",
       "                        <td id=\"T_4204965e_d823_11eb_b0dd_d03745a99ca0row4_col6\" class=\"data row4 col6\" >0.5104</td>\n",
       "            </tr>\n",
       "            <tr>\n",
       "                        <th id=\"T_4204965e_d823_11eb_b0dd_d03745a99ca0level0_row5\" class=\"row_heading level0 row5\" >Mean</th>\n",
       "                        <td id=\"T_4204965e_d823_11eb_b0dd_d03745a99ca0row5_col0\" class=\"data row5 col0\" >0.7876</td>\n",
       "                        <td id=\"T_4204965e_d823_11eb_b0dd_d03745a99ca0row5_col1\" class=\"data row5 col1\" >0.8003</td>\n",
       "                        <td id=\"T_4204965e_d823_11eb_b0dd_d03745a99ca0row5_col2\" class=\"data row5 col2\" >0.7331</td>\n",
       "                        <td id=\"T_4204965e_d823_11eb_b0dd_d03745a99ca0row5_col3\" class=\"data row5 col3\" >0.5564</td>\n",
       "                        <td id=\"T_4204965e_d823_11eb_b0dd_d03745a99ca0row5_col4\" class=\"data row5 col4\" >0.6326</td>\n",
       "                        <td id=\"T_4204965e_d823_11eb_b0dd_d03745a99ca0row5_col5\" class=\"data row5 col5\" >0.4871</td>\n",
       "                        <td id=\"T_4204965e_d823_11eb_b0dd_d03745a99ca0row5_col6\" class=\"data row5 col6\" >0.4963</td>\n",
       "            </tr>\n",
       "            <tr>\n",
       "                        <th id=\"T_4204965e_d823_11eb_b0dd_d03745a99ca0level0_row6\" class=\"row_heading level0 row6\" >SD</th>\n",
       "                        <td id=\"T_4204965e_d823_11eb_b0dd_d03745a99ca0row6_col0\" class=\"data row6 col0\" >0.0110</td>\n",
       "                        <td id=\"T_4204965e_d823_11eb_b0dd_d03745a99ca0row6_col1\" class=\"data row6 col1\" >0.0115</td>\n",
       "                        <td id=\"T_4204965e_d823_11eb_b0dd_d03745a99ca0row6_col2\" class=\"data row6 col2\" >0.0165</td>\n",
       "                        <td id=\"T_4204965e_d823_11eb_b0dd_d03745a99ca0row6_col3\" class=\"data row6 col3\" >0.0174</td>\n",
       "                        <td id=\"T_4204965e_d823_11eb_b0dd_d03745a99ca0row6_col4\" class=\"data row6 col4\" >0.0172</td>\n",
       "                        <td id=\"T_4204965e_d823_11eb_b0dd_d03745a99ca0row6_col5\" class=\"data row6 col5\" >0.0248</td>\n",
       "                        <td id=\"T_4204965e_d823_11eb_b0dd_d03745a99ca0row6_col6\" class=\"data row6 col6\" >0.0246</td>\n",
       "            </tr>\n",
       "    </tbody></table>"
      ],
      "text/plain": [
       "<pandas.io.formats.style.Styler at 0x28995e65940>"
      ]
     },
     "metadata": {},
     "output_type": "display_data"
    }
   ],
   "source": [
    "blender = blend_models([lr_tuned, lgb_tuned, rf_tuned, gbc_tuned], method='soft')"
   ]
  },
  {
   "cell_type": "code",
   "execution_count": 43,
   "metadata": {},
   "outputs": [
    {
     "data": {
      "text/html": [
       "<style  type=\"text/css\" >\n",
       "#T_2046cf84_d7f7_11eb_b2f8_d03745a99ca0row5_col0,#T_2046cf84_d7f7_11eb_b2f8_d03745a99ca0row5_col1,#T_2046cf84_d7f7_11eb_b2f8_d03745a99ca0row5_col2,#T_2046cf84_d7f7_11eb_b2f8_d03745a99ca0row5_col3,#T_2046cf84_d7f7_11eb_b2f8_d03745a99ca0row5_col4,#T_2046cf84_d7f7_11eb_b2f8_d03745a99ca0row5_col5,#T_2046cf84_d7f7_11eb_b2f8_d03745a99ca0row5_col6{\n",
       "            background:  yellow;\n",
       "        }</style><table id=\"T_2046cf84_d7f7_11eb_b2f8_d03745a99ca0\" ><thead>    <tr>        <th class=\"blank level0\" ></th>        <th class=\"col_heading level0 col0\" >Accuracy</th>        <th class=\"col_heading level0 col1\" >AUC</th>        <th class=\"col_heading level0 col2\" >Recall</th>        <th class=\"col_heading level0 col3\" >Prec.</th>        <th class=\"col_heading level0 col4\" >F1</th>        <th class=\"col_heading level0 col5\" >Kappa</th>        <th class=\"col_heading level0 col6\" >MCC</th>    </tr></thead><tbody>\n",
       "                <tr>\n",
       "                        <th id=\"T_2046cf84_d7f7_11eb_b2f8_d03745a99ca0level0_row0\" class=\"row_heading level0 row0\" >0</th>\n",
       "                        <td id=\"T_2046cf84_d7f7_11eb_b2f8_d03745a99ca0row0_col0\" class=\"data row0 col0\" >0.7864</td>\n",
       "                        <td id=\"T_2046cf84_d7f7_11eb_b2f8_d03745a99ca0row0_col1\" class=\"data row0 col1\" >0.8043</td>\n",
       "                        <td id=\"T_2046cf84_d7f7_11eb_b2f8_d03745a99ca0row0_col2\" class=\"data row0 col2\" >0.7383</td>\n",
       "                        <td id=\"T_2046cf84_d7f7_11eb_b2f8_d03745a99ca0row0_col3\" class=\"data row0 col3\" >0.5537</td>\n",
       "                        <td id=\"T_2046cf84_d7f7_11eb_b2f8_d03745a99ca0row0_col4\" class=\"data row0 col4\" >0.6328</td>\n",
       "                        <td id=\"T_2046cf84_d7f7_11eb_b2f8_d03745a99ca0row0_col5\" class=\"data row0 col5\" >0.4865</td>\n",
       "                        <td id=\"T_2046cf84_d7f7_11eb_b2f8_d03745a99ca0row0_col6\" class=\"data row0 col6\" >0.4965</td>\n",
       "            </tr>\n",
       "            <tr>\n",
       "                        <th id=\"T_2046cf84_d7f7_11eb_b2f8_d03745a99ca0level0_row1\" class=\"row_heading level0 row1\" >1</th>\n",
       "                        <td id=\"T_2046cf84_d7f7_11eb_b2f8_d03745a99ca0row1_col0\" class=\"data row1 col0\" >0.8067</td>\n",
       "                        <td id=\"T_2046cf84_d7f7_11eb_b2f8_d03745a99ca0row1_col1\" class=\"data row1 col1\" >0.8213</td>\n",
       "                        <td id=\"T_2046cf84_d7f7_11eb_b2f8_d03745a99ca0row1_col2\" class=\"data row1 col2\" >0.7568</td>\n",
       "                        <td id=\"T_2046cf84_d7f7_11eb_b2f8_d03745a99ca0row1_col3\" class=\"data row1 col3\" >0.5872</td>\n",
       "                        <td id=\"T_2046cf84_d7f7_11eb_b2f8_d03745a99ca0row1_col4\" class=\"data row1 col4\" >0.6613</td>\n",
       "                        <td id=\"T_2046cf84_d7f7_11eb_b2f8_d03745a99ca0row1_col5\" class=\"data row1 col5\" >0.5290</td>\n",
       "                        <td id=\"T_2046cf84_d7f7_11eb_b2f8_d03745a99ca0row1_col6\" class=\"data row1 col6\" >0.5374</td>\n",
       "            </tr>\n",
       "            <tr>\n",
       "                        <th id=\"T_2046cf84_d7f7_11eb_b2f8_d03745a99ca0level0_row2\" class=\"row_heading level0 row2\" >2</th>\n",
       "                        <td id=\"T_2046cf84_d7f7_11eb_b2f8_d03745a99ca0row2_col0\" class=\"data row2 col0\" >0.7771</td>\n",
       "                        <td id=\"T_2046cf84_d7f7_11eb_b2f8_d03745a99ca0row2_col1\" class=\"data row2 col1\" >0.7876</td>\n",
       "                        <td id=\"T_2046cf84_d7f7_11eb_b2f8_d03745a99ca0row2_col2\" class=\"data row2 col2\" >0.7099</td>\n",
       "                        <td id=\"T_2046cf84_d7f7_11eb_b2f8_d03745a99ca0row2_col3\" class=\"data row2 col3\" >0.5404</td>\n",
       "                        <td id=\"T_2046cf84_d7f7_11eb_b2f8_d03745a99ca0row2_col4\" class=\"data row2 col4\" >0.6137</td>\n",
       "                        <td id=\"T_2046cf84_d7f7_11eb_b2f8_d03745a99ca0row2_col5\" class=\"data row2 col5\" >0.4610</td>\n",
       "                        <td id=\"T_2046cf84_d7f7_11eb_b2f8_d03745a99ca0row2_col6\" class=\"data row2 col6\" >0.4695</td>\n",
       "            </tr>\n",
       "            <tr>\n",
       "                        <th id=\"T_2046cf84_d7f7_11eb_b2f8_d03745a99ca0level0_row3\" class=\"row_heading level0 row3\" >3</th>\n",
       "                        <td id=\"T_2046cf84_d7f7_11eb_b2f8_d03745a99ca0row3_col0\" class=\"data row3 col0\" >0.7826</td>\n",
       "                        <td id=\"T_2046cf84_d7f7_11eb_b2f8_d03745a99ca0row3_col1\" class=\"data row3 col1\" >0.7986</td>\n",
       "                        <td id=\"T_2046cf84_d7f7_11eb_b2f8_d03745a99ca0row3_col2\" class=\"data row3 col2\" >0.7222</td>\n",
       "                        <td id=\"T_2046cf84_d7f7_11eb_b2f8_d03745a99ca0row3_col3\" class=\"data row3 col3\" >0.5488</td>\n",
       "                        <td id=\"T_2046cf84_d7f7_11eb_b2f8_d03745a99ca0row3_col4\" class=\"data row3 col4\" >0.6237</td>\n",
       "                        <td id=\"T_2046cf84_d7f7_11eb_b2f8_d03745a99ca0row3_col5\" class=\"data row3 col5\" >0.4748</td>\n",
       "                        <td id=\"T_2046cf84_d7f7_11eb_b2f8_d03745a99ca0row3_col6\" class=\"data row3 col6\" >0.4837</td>\n",
       "            </tr>\n",
       "            <tr>\n",
       "                        <th id=\"T_2046cf84_d7f7_11eb_b2f8_d03745a99ca0level0_row4\" class=\"row_heading level0 row4\" >4</th>\n",
       "                        <td id=\"T_2046cf84_d7f7_11eb_b2f8_d03745a99ca0row4_col0\" class=\"data row4 col0\" >0.7946</td>\n",
       "                        <td id=\"T_2046cf84_d7f7_11eb_b2f8_d03745a99ca0row4_col1\" class=\"data row4 col1\" >0.8007</td>\n",
       "                        <td id=\"T_2046cf84_d7f7_11eb_b2f8_d03745a99ca0row4_col2\" class=\"data row4 col2\" >0.7395</td>\n",
       "                        <td id=\"T_2046cf84_d7f7_11eb_b2f8_d03745a99ca0row4_col3\" class=\"data row4 col3\" >0.5678</td>\n",
       "                        <td id=\"T_2046cf84_d7f7_11eb_b2f8_d03745a99ca0row4_col4\" class=\"data row4 col4\" >0.6424</td>\n",
       "                        <td id=\"T_2046cf84_d7f7_11eb_b2f8_d03745a99ca0row4_col5\" class=\"data row4 col5\" >0.5018</td>\n",
       "                        <td id=\"T_2046cf84_d7f7_11eb_b2f8_d03745a99ca0row4_col6\" class=\"data row4 col6\" >0.5104</td>\n",
       "            </tr>\n",
       "            <tr>\n",
       "                        <th id=\"T_2046cf84_d7f7_11eb_b2f8_d03745a99ca0level0_row5\" class=\"row_heading level0 row5\" >Mean</th>\n",
       "                        <td id=\"T_2046cf84_d7f7_11eb_b2f8_d03745a99ca0row5_col0\" class=\"data row5 col0\" >0.7895</td>\n",
       "                        <td id=\"T_2046cf84_d7f7_11eb_b2f8_d03745a99ca0row5_col1\" class=\"data row5 col1\" >0.8025</td>\n",
       "                        <td id=\"T_2046cf84_d7f7_11eb_b2f8_d03745a99ca0row5_col2\" class=\"data row5 col2\" >0.7333</td>\n",
       "                        <td id=\"T_2046cf84_d7f7_11eb_b2f8_d03745a99ca0row5_col3\" class=\"data row5 col3\" >0.5596</td>\n",
       "                        <td id=\"T_2046cf84_d7f7_11eb_b2f8_d03745a99ca0row5_col4\" class=\"data row5 col4\" >0.6348</td>\n",
       "                        <td id=\"T_2046cf84_d7f7_11eb_b2f8_d03745a99ca0row5_col5\" class=\"data row5 col5\" >0.4906</td>\n",
       "                        <td id=\"T_2046cf84_d7f7_11eb_b2f8_d03745a99ca0row5_col6\" class=\"data row5 col6\" >0.4995</td>\n",
       "            </tr>\n",
       "            <tr>\n",
       "                        <th id=\"T_2046cf84_d7f7_11eb_b2f8_d03745a99ca0level0_row6\" class=\"row_heading level0 row6\" >SD</th>\n",
       "                        <td id=\"T_2046cf84_d7f7_11eb_b2f8_d03745a99ca0row6_col0\" class=\"data row6 col0\" >0.0103</td>\n",
       "                        <td id=\"T_2046cf84_d7f7_11eb_b2f8_d03745a99ca0row6_col1\" class=\"data row6 col1\" >0.0109</td>\n",
       "                        <td id=\"T_2046cf84_d7f7_11eb_b2f8_d03745a99ca0row6_col2\" class=\"data row6 col2\" >0.0160</td>\n",
       "                        <td id=\"T_2046cf84_d7f7_11eb_b2f8_d03745a99ca0row6_col3\" class=\"data row6 col3\" >0.0164</td>\n",
       "                        <td id=\"T_2046cf84_d7f7_11eb_b2f8_d03745a99ca0row6_col4\" class=\"data row6 col4\" >0.0163</td>\n",
       "                        <td id=\"T_2046cf84_d7f7_11eb_b2f8_d03745a99ca0row6_col5\" class=\"data row6 col5\" >0.0234</td>\n",
       "                        <td id=\"T_2046cf84_d7f7_11eb_b2f8_d03745a99ca0row6_col6\" class=\"data row6 col6\" >0.0233</td>\n",
       "            </tr>\n",
       "    </tbody></table>"
      ],
      "text/plain": [
       "<pandas.io.formats.style.Styler at 0x289e21e7880>"
      ]
     },
     "metadata": {},
     "output_type": "display_data"
    }
   ],
   "source": [
    "stacking = stack_models(estimator_list=[lgb_tuned, rf_tuned, gbc_tuned], meta_model=lr_tuned)"
   ]
  },
  {
   "cell_type": "markdown",
   "metadata": {},
   "source": [
    "In terms of performance the best score of a single model was achieved with the LGBMClassifier but the differences were in general very small. Most of these models can probably perform better since the number of iterations in hyperparameters searching was limited by the speed of computations which vas very slow. At the end I have tried blending fine-tuned models and also stacking them. Stacking performed slightly better so this is the final model."
   ]
  },
  {
   "cell_type": "code",
   "execution_count": 111,
   "metadata": {},
   "outputs": [
    {
     "name": "stdout",
     "output_type": "stream",
     "text": [
      "Transformation Pipeline and Model Succesfully Saved\n"
     ]
    },
    {
     "data": {
      "text/plain": [
       "(Pipeline(memory=None,\n",
       "          steps=[('dtypes',\n",
       "                  DataTypes_Auto_infer(categorical_features=[],\n",
       "                                       display_types=True, features_todrop=[],\n",
       "                                       id_columns=[],\n",
       "                                       ml_usecase='classification',\n",
       "                                       numerical_features=[], target='target',\n",
       "                                       time_features=[])),\n",
       "                 ('imputer',\n",
       "                  Simple_Imputer(categorical_strategy='not_available',\n",
       "                                 fill_value_categorical=None,\n",
       "                                 fill_value_numerical=None,\n",
       "                                 numeric_strat...\n",
       "                                                                    importance_type='split',\n",
       "                                                                    learning_rate=0.001,\n",
       "                                                                    max_depth=-1,\n",
       "                                                                    min_child_samples=20,\n",
       "                                                                    min_child_weight=1e-09,\n",
       "                                                                    min_split_gain=0.0,\n",
       "                                                                    n_estimators=383,\n",
       "                                                                    n_jobs=-1,\n",
       "                                                                    num_leaves=42,\n",
       "                                                                    objective=None,\n",
       "                                                                    random_state=4000,\n",
       "                                                                    reg_alpha=1.0,\n",
       "                                                                    reg_lambda=0.1,\n",
       "                                                                    silent=True,\n",
       "                                                                    subsample=1.0,\n",
       "                                                                    subsample_for_bin=200000,\n",
       "                                                                    subsample_freq=0),\n",
       "                                     n_jobs=-1, passthrough=True,\n",
       "                                     stack_method='auto', verbose=0)]],\n",
       "          verbose=False),\n",
       " 'stacking_clf.pkl')"
      ]
     },
     "execution_count": 111,
     "metadata": {},
     "output_type": "execute_result"
    }
   ],
   "source": [
    "save_model(stacking, 'stacking_clf')"
   ]
  },
  {
   "cell_type": "code",
   "execution_count": 131,
   "metadata": {},
   "outputs": [
    {
     "name": "stdout",
     "output_type": "stream",
     "text": [
      "Transformation Pipeline and Model Successfully Loaded\n"
     ]
    }
   ],
   "source": [
    "stacking_model = load_model('stacking_clf')"
   ]
  },
  {
   "cell_type": "markdown",
   "metadata": {},
   "source": [
    "Now we can predict on the test set and look at the performance with comparison to the cross-validation data."
   ]
  },
  {
   "cell_type": "code",
   "execution_count": 141,
   "metadata": {},
   "outputs": [
    {
     "data": {
      "text/html": [
       "<style  type=\"text/css\" >\n",
       "</style><table id=\"T_e657ecbf_d844_11eb_9b54_d03745a99ca0\" ><thead>    <tr>        <th class=\"blank level0\" ></th>        <th class=\"col_heading level0 col0\" >Model</th>        <th class=\"col_heading level0 col1\" >Accuracy</th>        <th class=\"col_heading level0 col2\" >AUC</th>        <th class=\"col_heading level0 col3\" >Recall</th>        <th class=\"col_heading level0 col4\" >Prec.</th>        <th class=\"col_heading level0 col5\" >F1</th>        <th class=\"col_heading level0 col6\" >Kappa</th>        <th class=\"col_heading level0 col7\" >MCC</th>    </tr></thead><tbody>\n",
       "                <tr>\n",
       "                        <th id=\"T_e657ecbf_d844_11eb_9b54_d03745a99ca0level0_row0\" class=\"row_heading level0 row0\" >0</th>\n",
       "                        <td id=\"T_e657ecbf_d844_11eb_9b54_d03745a99ca0row0_col0\" class=\"data row0 col0\" >Stacking Classifier</td>\n",
       "                        <td id=\"T_e657ecbf_d844_11eb_9b54_d03745a99ca0row0_col1\" class=\"data row0 col1\" >0.7953</td>\n",
       "                        <td id=\"T_e657ecbf_d844_11eb_9b54_d03745a99ca0row0_col2\" class=\"data row0 col2\" >0.8020</td>\n",
       "                        <td id=\"T_e657ecbf_d844_11eb_9b54_d03745a99ca0row0_col3\" class=\"data row0 col3\" >0.7119</td>\n",
       "                        <td id=\"T_e657ecbf_d844_11eb_9b54_d03745a99ca0row0_col4\" class=\"data row0 col4\" >0.5719</td>\n",
       "                        <td id=\"T_e657ecbf_d844_11eb_9b54_d03745a99ca0row0_col5\" class=\"data row0 col5\" >0.6343</td>\n",
       "                        <td id=\"T_e657ecbf_d844_11eb_9b54_d03745a99ca0row0_col6\" class=\"data row0 col6\" >0.4944</td>\n",
       "                        <td id=\"T_e657ecbf_d844_11eb_9b54_d03745a99ca0row0_col7\" class=\"data row0 col7\" >0.5002</td>\n",
       "            </tr>\n",
       "    </tbody></table>"
      ],
      "text/plain": [
       "<pandas.io.formats.style.Styler at 0x13932e99250>"
      ]
     },
     "metadata": {},
     "output_type": "display_data"
    },
    {
     "data": {
      "text/html": [
       "<div>\n",
       "<style scoped>\n",
       "    .dataframe tbody tr th:only-of-type {\n",
       "        vertical-align: middle;\n",
       "    }\n",
       "\n",
       "    .dataframe tbody tr th {\n",
       "        vertical-align: top;\n",
       "    }\n",
       "\n",
       "    .dataframe thead th {\n",
       "        text-align: right;\n",
       "    }\n",
       "</style>\n",
       "<table border=\"1\" class=\"dataframe\">\n",
       "  <thead>\n",
       "    <tr style=\"text-align: right;\">\n",
       "      <th></th>\n",
       "      <th>city_development_index</th>\n",
       "      <th>training_hours</th>\n",
       "      <th>city_city_10</th>\n",
       "      <th>city_city_100</th>\n",
       "      <th>city_city_101</th>\n",
       "      <th>city_city_102</th>\n",
       "      <th>city_city_103</th>\n",
       "      <th>city_city_104</th>\n",
       "      <th>city_city_105</th>\n",
       "      <th>city_city_106</th>\n",
       "      <th>...</th>\n",
       "      <th>last_new_job_1</th>\n",
       "      <th>last_new_job_2</th>\n",
       "      <th>last_new_job_3</th>\n",
       "      <th>last_new_job_4</th>\n",
       "      <th>last_new_job_&gt;4</th>\n",
       "      <th>last_new_job_Not specified</th>\n",
       "      <th>last_new_job_never</th>\n",
       "      <th>target</th>\n",
       "      <th>Label</th>\n",
       "      <th>Score</th>\n",
       "    </tr>\n",
       "  </thead>\n",
       "  <tbody>\n",
       "    <tr>\n",
       "      <th>0</th>\n",
       "      <td>0.790420</td>\n",
       "      <td>-1.024323</td>\n",
       "      <td>0.0</td>\n",
       "      <td>0.0</td>\n",
       "      <td>0.0</td>\n",
       "      <td>0.0</td>\n",
       "      <td>0.0</td>\n",
       "      <td>0.0</td>\n",
       "      <td>0.0</td>\n",
       "      <td>0.0</td>\n",
       "      <td>...</td>\n",
       "      <td>0.0</td>\n",
       "      <td>0.0</td>\n",
       "      <td>0.0</td>\n",
       "      <td>0.0</td>\n",
       "      <td>1.0</td>\n",
       "      <td>0.0</td>\n",
       "      <td>0.0</td>\n",
       "      <td>0.0</td>\n",
       "      <td>0.0</td>\n",
       "      <td>0.5773</td>\n",
       "    </tr>\n",
       "    <tr>\n",
       "      <th>1</th>\n",
       "      <td>-1.658060</td>\n",
       "      <td>0.408848</td>\n",
       "      <td>0.0</td>\n",
       "      <td>0.0</td>\n",
       "      <td>0.0</td>\n",
       "      <td>0.0</td>\n",
       "      <td>0.0</td>\n",
       "      <td>0.0</td>\n",
       "      <td>0.0</td>\n",
       "      <td>0.0</td>\n",
       "      <td>...</td>\n",
       "      <td>0.0</td>\n",
       "      <td>1.0</td>\n",
       "      <td>0.0</td>\n",
       "      <td>0.0</td>\n",
       "      <td>0.0</td>\n",
       "      <td>0.0</td>\n",
       "      <td>0.0</td>\n",
       "      <td>0.0</td>\n",
       "      <td>1.0</td>\n",
       "      <td>0.5954</td>\n",
       "    </tr>\n",
       "    <tr>\n",
       "      <th>2</th>\n",
       "      <td>0.895818</td>\n",
       "      <td>1.157093</td>\n",
       "      <td>0.0</td>\n",
       "      <td>0.0</td>\n",
       "      <td>0.0</td>\n",
       "      <td>0.0</td>\n",
       "      <td>0.0</td>\n",
       "      <td>0.0</td>\n",
       "      <td>0.0</td>\n",
       "      <td>0.0</td>\n",
       "      <td>...</td>\n",
       "      <td>1.0</td>\n",
       "      <td>0.0</td>\n",
       "      <td>0.0</td>\n",
       "      <td>0.0</td>\n",
       "      <td>0.0</td>\n",
       "      <td>0.0</td>\n",
       "      <td>0.0</td>\n",
       "      <td>0.0</td>\n",
       "      <td>0.0</td>\n",
       "      <td>0.6236</td>\n",
       "    </tr>\n",
       "    <tr>\n",
       "      <th>3</th>\n",
       "      <td>0.741775</td>\n",
       "      <td>0.837249</td>\n",
       "      <td>0.0</td>\n",
       "      <td>0.0</td>\n",
       "      <td>0.0</td>\n",
       "      <td>0.0</td>\n",
       "      <td>0.0</td>\n",
       "      <td>0.0</td>\n",
       "      <td>0.0</td>\n",
       "      <td>0.0</td>\n",
       "      <td>...</td>\n",
       "      <td>0.0</td>\n",
       "      <td>0.0</td>\n",
       "      <td>0.0</td>\n",
       "      <td>0.0</td>\n",
       "      <td>1.0</td>\n",
       "      <td>0.0</td>\n",
       "      <td>0.0</td>\n",
       "      <td>0.0</td>\n",
       "      <td>0.0</td>\n",
       "      <td>0.6233</td>\n",
       "    </tr>\n",
       "    <tr>\n",
       "      <th>4</th>\n",
       "      <td>-2.833655</td>\n",
       "      <td>0.847868</td>\n",
       "      <td>0.0</td>\n",
       "      <td>0.0</td>\n",
       "      <td>0.0</td>\n",
       "      <td>0.0</td>\n",
       "      <td>0.0</td>\n",
       "      <td>0.0</td>\n",
       "      <td>0.0</td>\n",
       "      <td>0.0</td>\n",
       "      <td>...</td>\n",
       "      <td>1.0</td>\n",
       "      <td>0.0</td>\n",
       "      <td>0.0</td>\n",
       "      <td>0.0</td>\n",
       "      <td>0.0</td>\n",
       "      <td>0.0</td>\n",
       "      <td>0.0</td>\n",
       "      <td>1.0</td>\n",
       "      <td>1.0</td>\n",
       "      <td>0.5723</td>\n",
       "    </tr>\n",
       "    <tr>\n",
       "      <th>...</th>\n",
       "      <td>...</td>\n",
       "      <td>...</td>\n",
       "      <td>...</td>\n",
       "      <td>...</td>\n",
       "      <td>...</td>\n",
       "      <td>...</td>\n",
       "      <td>...</td>\n",
       "      <td>...</td>\n",
       "      <td>...</td>\n",
       "      <td>...</td>\n",
       "      <td>...</td>\n",
       "      <td>...</td>\n",
       "      <td>...</td>\n",
       "      <td>...</td>\n",
       "      <td>...</td>\n",
       "      <td>...</td>\n",
       "      <td>...</td>\n",
       "      <td>...</td>\n",
       "      <td>...</td>\n",
       "      <td>...</td>\n",
       "      <td>...</td>\n",
       "    </tr>\n",
       "    <tr>\n",
       "      <th>2862</th>\n",
       "      <td>-2.022900</td>\n",
       "      <td>0.868791</td>\n",
       "      <td>0.0</td>\n",
       "      <td>0.0</td>\n",
       "      <td>0.0</td>\n",
       "      <td>0.0</td>\n",
       "      <td>0.0</td>\n",
       "      <td>0.0</td>\n",
       "      <td>0.0</td>\n",
       "      <td>0.0</td>\n",
       "      <td>...</td>\n",
       "      <td>1.0</td>\n",
       "      <td>0.0</td>\n",
       "      <td>0.0</td>\n",
       "      <td>0.0</td>\n",
       "      <td>0.0</td>\n",
       "      <td>0.0</td>\n",
       "      <td>0.0</td>\n",
       "      <td>0.0</td>\n",
       "      <td>1.0</td>\n",
       "      <td>0.5582</td>\n",
       "    </tr>\n",
       "    <tr>\n",
       "      <th>2863</th>\n",
       "      <td>-0.677046</td>\n",
       "      <td>0.136434</td>\n",
       "      <td>0.0</td>\n",
       "      <td>0.0</td>\n",
       "      <td>0.0</td>\n",
       "      <td>0.0</td>\n",
       "      <td>0.0</td>\n",
       "      <td>0.0</td>\n",
       "      <td>0.0</td>\n",
       "      <td>0.0</td>\n",
       "      <td>...</td>\n",
       "      <td>0.0</td>\n",
       "      <td>0.0</td>\n",
       "      <td>0.0</td>\n",
       "      <td>0.0</td>\n",
       "      <td>0.0</td>\n",
       "      <td>0.0</td>\n",
       "      <td>1.0</td>\n",
       "      <td>0.0</td>\n",
       "      <td>0.0</td>\n",
       "      <td>0.5176</td>\n",
       "    </tr>\n",
       "    <tr>\n",
       "      <th>2864</th>\n",
       "      <td>0.790420</td>\n",
       "      <td>0.571718</td>\n",
       "      <td>0.0</td>\n",
       "      <td>0.0</td>\n",
       "      <td>0.0</td>\n",
       "      <td>0.0</td>\n",
       "      <td>0.0</td>\n",
       "      <td>0.0</td>\n",
       "      <td>0.0</td>\n",
       "      <td>0.0</td>\n",
       "      <td>...</td>\n",
       "      <td>0.0</td>\n",
       "      <td>0.0</td>\n",
       "      <td>0.0</td>\n",
       "      <td>0.0</td>\n",
       "      <td>0.0</td>\n",
       "      <td>0.0</td>\n",
       "      <td>1.0</td>\n",
       "      <td>0.0</td>\n",
       "      <td>0.0</td>\n",
       "      <td>0.6158</td>\n",
       "    </tr>\n",
       "    <tr>\n",
       "      <th>2865</th>\n",
       "      <td>0.741775</td>\n",
       "      <td>-0.202626</td>\n",
       "      <td>0.0</td>\n",
       "      <td>0.0</td>\n",
       "      <td>0.0</td>\n",
       "      <td>0.0</td>\n",
       "      <td>1.0</td>\n",
       "      <td>0.0</td>\n",
       "      <td>0.0</td>\n",
       "      <td>0.0</td>\n",
       "      <td>...</td>\n",
       "      <td>0.0</td>\n",
       "      <td>0.0</td>\n",
       "      <td>0.0</td>\n",
       "      <td>0.0</td>\n",
       "      <td>1.0</td>\n",
       "      <td>0.0</td>\n",
       "      <td>0.0</td>\n",
       "      <td>1.0</td>\n",
       "      <td>0.0</td>\n",
       "      <td>0.5783</td>\n",
       "    </tr>\n",
       "    <tr>\n",
       "      <th>2866</th>\n",
       "      <td>0.790420</td>\n",
       "      <td>-2.124689</td>\n",
       "      <td>0.0</td>\n",
       "      <td>0.0</td>\n",
       "      <td>0.0</td>\n",
       "      <td>0.0</td>\n",
       "      <td>0.0</td>\n",
       "      <td>0.0</td>\n",
       "      <td>0.0</td>\n",
       "      <td>0.0</td>\n",
       "      <td>...</td>\n",
       "      <td>0.0</td>\n",
       "      <td>1.0</td>\n",
       "      <td>0.0</td>\n",
       "      <td>0.0</td>\n",
       "      <td>0.0</td>\n",
       "      <td>0.0</td>\n",
       "      <td>0.0</td>\n",
       "      <td>1.0</td>\n",
       "      <td>0.0</td>\n",
       "      <td>0.6241</td>\n",
       "    </tr>\n",
       "  </tbody>\n",
       "</table>\n",
       "<p>2867 rows × 178 columns</p>\n",
       "</div>"
      ],
      "text/plain": [
       "      city_development_index  training_hours  city_city_10  city_city_100  \\\n",
       "0                   0.790420       -1.024323           0.0            0.0   \n",
       "1                  -1.658060        0.408848           0.0            0.0   \n",
       "2                   0.895818        1.157093           0.0            0.0   \n",
       "3                   0.741775        0.837249           0.0            0.0   \n",
       "4                  -2.833655        0.847868           0.0            0.0   \n",
       "...                      ...             ...           ...            ...   \n",
       "2862               -2.022900        0.868791           0.0            0.0   \n",
       "2863               -0.677046        0.136434           0.0            0.0   \n",
       "2864                0.790420        0.571718           0.0            0.0   \n",
       "2865                0.741775       -0.202626           0.0            0.0   \n",
       "2866                0.790420       -2.124689           0.0            0.0   \n",
       "\n",
       "      city_city_101  city_city_102  city_city_103  city_city_104  \\\n",
       "0               0.0            0.0            0.0            0.0   \n",
       "1               0.0            0.0            0.0            0.0   \n",
       "2               0.0            0.0            0.0            0.0   \n",
       "3               0.0            0.0            0.0            0.0   \n",
       "4               0.0            0.0            0.0            0.0   \n",
       "...             ...            ...            ...            ...   \n",
       "2862            0.0            0.0            0.0            0.0   \n",
       "2863            0.0            0.0            0.0            0.0   \n",
       "2864            0.0            0.0            0.0            0.0   \n",
       "2865            0.0            0.0            1.0            0.0   \n",
       "2866            0.0            0.0            0.0            0.0   \n",
       "\n",
       "      city_city_105  city_city_106  ...  last_new_job_1  last_new_job_2  \\\n",
       "0               0.0            0.0  ...             0.0             0.0   \n",
       "1               0.0            0.0  ...             0.0             1.0   \n",
       "2               0.0            0.0  ...             1.0             0.0   \n",
       "3               0.0            0.0  ...             0.0             0.0   \n",
       "4               0.0            0.0  ...             1.0             0.0   \n",
       "...             ...            ...  ...             ...             ...   \n",
       "2862            0.0            0.0  ...             1.0             0.0   \n",
       "2863            0.0            0.0  ...             0.0             0.0   \n",
       "2864            0.0            0.0  ...             0.0             0.0   \n",
       "2865            0.0            0.0  ...             0.0             0.0   \n",
       "2866            0.0            0.0  ...             0.0             1.0   \n",
       "\n",
       "      last_new_job_3  last_new_job_4  last_new_job_>4  \\\n",
       "0                0.0             0.0              1.0   \n",
       "1                0.0             0.0              0.0   \n",
       "2                0.0             0.0              0.0   \n",
       "3                0.0             0.0              1.0   \n",
       "4                0.0             0.0              0.0   \n",
       "...              ...             ...              ...   \n",
       "2862             0.0             0.0              0.0   \n",
       "2863             0.0             0.0              0.0   \n",
       "2864             0.0             0.0              0.0   \n",
       "2865             0.0             0.0              1.0   \n",
       "2866             0.0             0.0              0.0   \n",
       "\n",
       "      last_new_job_Not specified  last_new_job_never  target  Label   Score  \n",
       "0                            0.0                 0.0     0.0    0.0  0.5773  \n",
       "1                            0.0                 0.0     0.0    1.0  0.5954  \n",
       "2                            0.0                 0.0     0.0    0.0  0.6236  \n",
       "3                            0.0                 0.0     0.0    0.0  0.6233  \n",
       "4                            0.0                 0.0     1.0    1.0  0.5723  \n",
       "...                          ...                 ...     ...    ...     ...  \n",
       "2862                         0.0                 0.0     0.0    1.0  0.5582  \n",
       "2863                         0.0                 1.0     0.0    0.0  0.5176  \n",
       "2864                         0.0                 1.0     0.0    0.0  0.6158  \n",
       "2865                         0.0                 0.0     1.0    0.0  0.5783  \n",
       "2866                         0.0                 0.0     1.0    0.0  0.6241  \n",
       "\n",
       "[2867 rows x 178 columns]"
      ]
     },
     "execution_count": 141,
     "metadata": {},
     "output_type": "execute_result"
    }
   ],
   "source": [
    "predict_model(stacking_model)"
   ]
  },
  {
   "cell_type": "code",
   "execution_count": 139,
   "metadata": {},
   "outputs": [
    {
     "data": {
      "image/png": "[encoded data removed]",
      "text/plain": [
       "<Figure size 432x288 with 1 Axes>"
      ]
     },
     "metadata": {
      "needs_background": "light"
     },
     "output_type": "display_data"
    }
   ],
   "source": [
    "plot_model(stacking_model.get_params()['trained_model'], 'auc')"
   ]
  },
  {
   "cell_type": "code",
   "execution_count": 140,
   "metadata": {},
   "outputs": [
    {
     "data": {
      "image/png": "[encoded data removed]",
      "text/plain": [
       "<Figure size 432x288 with 1 Axes>"
      ]
     },
     "metadata": {
      "needs_background": "light"
     },
     "output_type": "display_data"
    }
   ],
   "source": [
    "plot_model(stacking_model.get_params()['trained_model'], 'confusion_matrix')"
   ]
  },
  {
   "cell_type": "code",
   "execution_count": 142,
   "metadata": {},
   "outputs": [
    {
     "data": {
      "image/png": "[encoded data removed]",
      "text/plain": [
       "<Figure size 432x288 with 2 Axes>"
      ]
     },
     "metadata": {
      "needs_background": "light"
     },
     "output_type": "display_data"
    }
   ],
   "source": [
    "plot_model(stacking_model.get_params()['trained_model'], 'class_report')"
   ]
  },
  {
   "cell_type": "code",
   "execution_count": 143,
   "metadata": {},
   "outputs": [
    {
     "data": {
      "image/png": "[encoded data removed]",
      "text/plain": [
       "<Figure size 432x288 with 1 Axes>"
      ]
     },
     "metadata": {
      "needs_background": "light"
     },
     "output_type": "display_data"
    }
   ],
   "source": [
    "plot_model(stacking_model.get_params()['trained_model'], 'error')"
   ]
  },
  {
   "cell_type": "markdown",
   "metadata": {},
   "source": [
    "It looks like it is not much worse. Finally we can also run the inference on the test data which does not have a target and was available on kaggle. We will use it in the Streamlit app. "
   ]
  },
  {
   "cell_type": "code",
   "execution_count": 33,
   "metadata": {},
   "outputs": [
    {
     "name": "stdout",
     "output_type": "stream",
     "text": [
      "Transformation Pipeline and Model Successfully Loaded\n"
     ]
    },
    {
     "data": {
      "text/html": [
       "<div>\n",
       "<style scoped>\n",
       "    .dataframe tbody tr th:only-of-type {\n",
       "        vertical-align: middle;\n",
       "    }\n",
       "\n",
       "    .dataframe tbody tr th {\n",
       "        vertical-align: top;\n",
       "    }\n",
       "\n",
       "    .dataframe thead th {\n",
       "        text-align: right;\n",
       "    }\n",
       "</style>\n",
       "<table border=\"1\" class=\"dataframe\">\n",
       "  <thead>\n",
       "    <tr style=\"text-align: right;\">\n",
       "      <th></th>\n",
       "      <th>city</th>\n",
       "      <th>city_development_index</th>\n",
       "      <th>gender</th>\n",
       "      <th>relevent_experience</th>\n",
       "      <th>enrolled_university</th>\n",
       "      <th>education_level</th>\n",
       "      <th>major_discipline</th>\n",
       "      <th>experience</th>\n",
       "      <th>company_size</th>\n",
       "      <th>company_type</th>\n",
       "      <th>last_new_job</th>\n",
       "      <th>training_hours</th>\n",
       "      <th>Label</th>\n",
       "      <th>Score</th>\n",
       "    </tr>\n",
       "  </thead>\n",
       "  <tbody>\n",
       "    <tr>\n",
       "      <th>0</th>\n",
       "      <td>city_41</td>\n",
       "      <td>0.827</td>\n",
       "      <td>Male</td>\n",
       "      <td>Has relevent experience</td>\n",
       "      <td>Full time course</td>\n",
       "      <td>Graduate</td>\n",
       "      <td>STEM</td>\n",
       "      <td>9</td>\n",
       "      <td>&lt;10</td>\n",
       "      <td>Not specified</td>\n",
       "      <td>1</td>\n",
       "      <td>3.091042</td>\n",
       "      <td>0.0</td>\n",
       "      <td>0.5926</td>\n",
       "    </tr>\n",
       "    <tr>\n",
       "      <th>1</th>\n",
       "      <td>city_103</td>\n",
       "      <td>0.920</td>\n",
       "      <td>Female</td>\n",
       "      <td>Has relevent experience</td>\n",
       "      <td>no_enrollment</td>\n",
       "      <td>Graduate</td>\n",
       "      <td>STEM</td>\n",
       "      <td>5</td>\n",
       "      <td>Not specified</td>\n",
       "      <td>Pvt Ltd</td>\n",
       "      <td>1</td>\n",
       "      <td>4.595120</td>\n",
       "      <td>0.0</td>\n",
       "      <td>0.5095</td>\n",
       "    </tr>\n",
       "    <tr>\n",
       "      <th>2</th>\n",
       "      <td>city_21</td>\n",
       "      <td>0.624</td>\n",
       "      <td>Male</td>\n",
       "      <td>No relevent experience</td>\n",
       "      <td>no_enrollment</td>\n",
       "      <td>High School</td>\n",
       "      <td>Not specified</td>\n",
       "      <td>&lt;1</td>\n",
       "      <td>Not specified</td>\n",
       "      <td>Pvt Ltd</td>\n",
       "      <td>never</td>\n",
       "      <td>2.772589</td>\n",
       "      <td>1.0</td>\n",
       "      <td>0.5626</td>\n",
       "    </tr>\n",
       "    <tr>\n",
       "      <th>3</th>\n",
       "      <td>city_13</td>\n",
       "      <td>0.827</td>\n",
       "      <td>Male</td>\n",
       "      <td>Has relevent experience</td>\n",
       "      <td>no_enrollment</td>\n",
       "      <td>Masters</td>\n",
       "      <td>STEM</td>\n",
       "      <td>11</td>\n",
       "      <td>10/49</td>\n",
       "      <td>Pvt Ltd</td>\n",
       "      <td>1</td>\n",
       "      <td>3.688879</td>\n",
       "      <td>0.0</td>\n",
       "      <td>0.6236</td>\n",
       "    </tr>\n",
       "    <tr>\n",
       "      <th>4</th>\n",
       "      <td>city_103</td>\n",
       "      <td>0.920</td>\n",
       "      <td>Male</td>\n",
       "      <td>Has relevent experience</td>\n",
       "      <td>no_enrollment</td>\n",
       "      <td>Graduate</td>\n",
       "      <td>STEM</td>\n",
       "      <td>&gt;20</td>\n",
       "      <td>10000+</td>\n",
       "      <td>Pvt Ltd</td>\n",
       "      <td>&gt;4</td>\n",
       "      <td>4.290459</td>\n",
       "      <td>0.0</td>\n",
       "      <td>0.6220</td>\n",
       "    </tr>\n",
       "    <tr>\n",
       "      <th>...</th>\n",
       "      <td>...</td>\n",
       "      <td>...</td>\n",
       "      <td>...</td>\n",
       "      <td>...</td>\n",
       "      <td>...</td>\n",
       "      <td>...</td>\n",
       "      <td>...</td>\n",
       "      <td>...</td>\n",
       "      <td>...</td>\n",
       "      <td>...</td>\n",
       "      <td>...</td>\n",
       "      <td>...</td>\n",
       "      <td>...</td>\n",
       "      <td>...</td>\n",
       "    </tr>\n",
       "    <tr>\n",
       "      <th>2124</th>\n",
       "      <td>city_103</td>\n",
       "      <td>0.920</td>\n",
       "      <td>Male</td>\n",
       "      <td>No relevent experience</td>\n",
       "      <td>no_enrollment</td>\n",
       "      <td>Graduate</td>\n",
       "      <td>Humanities</td>\n",
       "      <td>16</td>\n",
       "      <td>Not specified</td>\n",
       "      <td>Public Sector</td>\n",
       "      <td>4</td>\n",
       "      <td>2.772589</td>\n",
       "      <td>1.0</td>\n",
       "      <td>0.5134</td>\n",
       "    </tr>\n",
       "    <tr>\n",
       "      <th>2125</th>\n",
       "      <td>city_136</td>\n",
       "      <td>0.897</td>\n",
       "      <td>Male</td>\n",
       "      <td>Has relevent experience</td>\n",
       "      <td>no_enrollment</td>\n",
       "      <td>Masters</td>\n",
       "      <td>STEM</td>\n",
       "      <td>18</td>\n",
       "      <td>Not specified</td>\n",
       "      <td>Not specified</td>\n",
       "      <td>2</td>\n",
       "      <td>3.433987</td>\n",
       "      <td>0.0</td>\n",
       "      <td>0.5840</td>\n",
       "    </tr>\n",
       "    <tr>\n",
       "      <th>2126</th>\n",
       "      <td>city_100</td>\n",
       "      <td>0.887</td>\n",
       "      <td>Male</td>\n",
       "      <td>No relevent experience</td>\n",
       "      <td>no_enrollment</td>\n",
       "      <td>Primary School</td>\n",
       "      <td>Not specified</td>\n",
       "      <td>3</td>\n",
       "      <td>Not specified</td>\n",
       "      <td>Pvt Ltd</td>\n",
       "      <td>never</td>\n",
       "      <td>2.944439</td>\n",
       "      <td>0.0</td>\n",
       "      <td>0.6237</td>\n",
       "    </tr>\n",
       "    <tr>\n",
       "      <th>2127</th>\n",
       "      <td>city_102</td>\n",
       "      <td>0.804</td>\n",
       "      <td>Male</td>\n",
       "      <td>Has relevent experience</td>\n",
       "      <td>Full time course</td>\n",
       "      <td>High School</td>\n",
       "      <td>Not specified</td>\n",
       "      <td>7</td>\n",
       "      <td>100-500</td>\n",
       "      <td>Public Sector</td>\n",
       "      <td>1</td>\n",
       "      <td>4.442651</td>\n",
       "      <td>0.0</td>\n",
       "      <td>0.6222</td>\n",
       "    </tr>\n",
       "    <tr>\n",
       "      <th>2128</th>\n",
       "      <td>city_102</td>\n",
       "      <td>0.804</td>\n",
       "      <td>Male</td>\n",
       "      <td>Has relevent experience</td>\n",
       "      <td>no_enrollment</td>\n",
       "      <td>Masters</td>\n",
       "      <td>STEM</td>\n",
       "      <td>15</td>\n",
       "      <td>10000+</td>\n",
       "      <td>Pvt Ltd</td>\n",
       "      <td>2</td>\n",
       "      <td>2.484907</td>\n",
       "      <td>0.0</td>\n",
       "      <td>0.6231</td>\n",
       "    </tr>\n",
       "  </tbody>\n",
       "</table>\n",
       "<p>2129 rows × 14 columns</p>\n",
       "</div>"
      ],
      "text/plain": [
       "          city  city_development_index  gender      relevent_experience  \\\n",
       "0      city_41                   0.827    Male  Has relevent experience   \n",
       "1     city_103                   0.920  Female  Has relevent experience   \n",
       "2      city_21                   0.624    Male   No relevent experience   \n",
       "3      city_13                   0.827    Male  Has relevent experience   \n",
       "4     city_103                   0.920    Male  Has relevent experience   \n",
       "...        ...                     ...     ...                      ...   \n",
       "2124  city_103                   0.920    Male   No relevent experience   \n",
       "2125  city_136                   0.897    Male  Has relevent experience   \n",
       "2126  city_100                   0.887    Male   No relevent experience   \n",
       "2127  city_102                   0.804    Male  Has relevent experience   \n",
       "2128  city_102                   0.804    Male  Has relevent experience   \n",
       "\n",
       "     enrolled_university education_level major_discipline experience  \\\n",
       "0       Full time course        Graduate             STEM          9   \n",
       "1          no_enrollment        Graduate             STEM          5   \n",
       "2          no_enrollment     High School    Not specified         <1   \n",
       "3          no_enrollment         Masters             STEM         11   \n",
       "4          no_enrollment        Graduate             STEM        >20   \n",
       "...                  ...             ...              ...        ...   \n",
       "2124       no_enrollment        Graduate       Humanities         16   \n",
       "2125       no_enrollment         Masters             STEM         18   \n",
       "2126       no_enrollment  Primary School    Not specified          3   \n",
       "2127    Full time course     High School    Not specified          7   \n",
       "2128       no_enrollment         Masters             STEM         15   \n",
       "\n",
       "       company_size   company_type last_new_job  training_hours Label   Score  \n",
       "0               <10  Not specified            1        3.091042   0.0  0.5926  \n",
       "1     Not specified        Pvt Ltd            1        4.595120   0.0  0.5095  \n",
       "2     Not specified        Pvt Ltd        never        2.772589   1.0  0.5626  \n",
       "3             10/49        Pvt Ltd            1        3.688879   0.0  0.6236  \n",
       "4            10000+        Pvt Ltd           >4        4.290459   0.0  0.6220  \n",
       "...             ...            ...          ...             ...   ...     ...  \n",
       "2124  Not specified  Public Sector            4        2.772589   1.0  0.5134  \n",
       "2125  Not specified  Not specified            2        3.433987   0.0  0.5840  \n",
       "2126  Not specified        Pvt Ltd        never        2.944439   0.0  0.6237  \n",
       "2127        100-500  Public Sector            1        4.442651   0.0  0.6222  \n",
       "2128         10000+        Pvt Ltd            2        2.484907   0.0  0.6231  \n",
       "\n",
       "[2129 rows x 14 columns]"
      ]
     },
     "execution_count": 33,
     "metadata": {},
     "output_type": "execute_result"
    }
   ],
   "source": [
    "test_data = pd.read_csv('aug_test.csv')\n",
    "test_data_prep = prep_pipeline_full.transform(test_data)\n",
    "predict_model(stacking_model, data=test_data_prep)"
   ]
  },
  {
   "cell_type": "code",
   "execution_count": null,
   "metadata": {},
   "outputs": [],
   "source": []
  }
 ],
 "metadata": {
  "kernelspec": {
   "display_name": "Python 3",
   "language": "python",
   "name": "python3"
  },
  "language_info": {
   "codemirror_mode": {
    "name": "ipython",
    "version": 3
   },
   "file_extension": ".py",
   "mimetype": "text/x-python",
   "name": "python",
   "nbconvert_exporter": "python",
   "pygments_lexer": "ipython3",
   "version": "3.8.5"
  }
 },
 "nbformat": 4,
 "nbformat_minor": 4
}
